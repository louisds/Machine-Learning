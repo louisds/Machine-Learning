{
 "cells": [
  {
   "cell_type": "markdown",
   "id": "6cd44697",
   "metadata": {},
   "source": [
    "# Logistic Regression on the Mushroom Dataset"
   ]
  },
  {
   "cell_type": "markdown",
   "id": "caa5554e",
   "metadata": {},
   "source": [
    "Have you every gone for a walk in the woods and been tempted to bring back some mushrooms for your dinner salad? Well, you may then wonder how many edible or poisonous mushrooms you might need to be shown before you could confidently forage in the forest on your own. We'll first load a database of mushrooms that have been hand-classified according to whether or not they are poisonous. Then, we'll put it into a form suitable for logistic regression by converting all of the categorical variables to \"dummy\" variables using a \"1-hot\" representation. Then we'll fit logistic regression models on training sets of increasing size."
   ]
  },
  {
   "cell_type": "code",
   "execution_count": 1,
   "id": "7f35d7ed",
   "metadata": {},
   "outputs": [],
   "source": [
    "import pandas as pd\n",
    "import numpy as np\n",
    "from sklearn.model_selection import train_test_split\n",
    "from sklearn.preprocessing import LabelEncoder\n",
    "from sklearn.linear_model import LogisticRegression\n",
    "\n",
    "import matplotlib.pyplot as plt\n",
    "%matplotlib inline"
   ]
  },
  {
   "cell_type": "code",
   "execution_count": 2,
   "id": "d04fad78",
   "metadata": {},
   "outputs": [
    {
     "data": {
      "text/html": [
       "<div>\n",
       "<style scoped>\n",
       "    .dataframe tbody tr th:only-of-type {\n",
       "        vertical-align: middle;\n",
       "    }\n",
       "\n",
       "    .dataframe tbody tr th {\n",
       "        vertical-align: top;\n",
       "    }\n",
       "\n",
       "    .dataframe thead th {\n",
       "        text-align: right;\n",
       "    }\n",
       "</style>\n",
       "<table border=\"1\" class=\"dataframe\">\n",
       "  <thead>\n",
       "    <tr style=\"text-align: right;\">\n",
       "      <th></th>\n",
       "      <th>class</th>\n",
       "      <th>cap-shape</th>\n",
       "      <th>cap-surface</th>\n",
       "      <th>cap-color</th>\n",
       "      <th>bruises</th>\n",
       "      <th>odor</th>\n",
       "      <th>gill-attachment</th>\n",
       "      <th>gill-spacing</th>\n",
       "      <th>gill-size</th>\n",
       "      <th>gill-color</th>\n",
       "      <th>...</th>\n",
       "      <th>stalk-surface-below-ring</th>\n",
       "      <th>stalk-color-above-ring</th>\n",
       "      <th>stalk-color-below-ring</th>\n",
       "      <th>veil-type</th>\n",
       "      <th>veil-color</th>\n",
       "      <th>ring-number</th>\n",
       "      <th>ring-type</th>\n",
       "      <th>spore-print-color</th>\n",
       "      <th>population</th>\n",
       "      <th>habitat</th>\n",
       "    </tr>\n",
       "  </thead>\n",
       "  <tbody>\n",
       "    <tr>\n",
       "      <th>0</th>\n",
       "      <td>p</td>\n",
       "      <td>x</td>\n",
       "      <td>s</td>\n",
       "      <td>n</td>\n",
       "      <td>t</td>\n",
       "      <td>p</td>\n",
       "      <td>f</td>\n",
       "      <td>c</td>\n",
       "      <td>n</td>\n",
       "      <td>k</td>\n",
       "      <td>...</td>\n",
       "      <td>s</td>\n",
       "      <td>w</td>\n",
       "      <td>w</td>\n",
       "      <td>p</td>\n",
       "      <td>w</td>\n",
       "      <td>o</td>\n",
       "      <td>p</td>\n",
       "      <td>k</td>\n",
       "      <td>s</td>\n",
       "      <td>u</td>\n",
       "    </tr>\n",
       "    <tr>\n",
       "      <th>1</th>\n",
       "      <td>e</td>\n",
       "      <td>x</td>\n",
       "      <td>s</td>\n",
       "      <td>y</td>\n",
       "      <td>t</td>\n",
       "      <td>a</td>\n",
       "      <td>f</td>\n",
       "      <td>c</td>\n",
       "      <td>b</td>\n",
       "      <td>k</td>\n",
       "      <td>...</td>\n",
       "      <td>s</td>\n",
       "      <td>w</td>\n",
       "      <td>w</td>\n",
       "      <td>p</td>\n",
       "      <td>w</td>\n",
       "      <td>o</td>\n",
       "      <td>p</td>\n",
       "      <td>n</td>\n",
       "      <td>n</td>\n",
       "      <td>g</td>\n",
       "    </tr>\n",
       "    <tr>\n",
       "      <th>2</th>\n",
       "      <td>e</td>\n",
       "      <td>b</td>\n",
       "      <td>s</td>\n",
       "      <td>w</td>\n",
       "      <td>t</td>\n",
       "      <td>l</td>\n",
       "      <td>f</td>\n",
       "      <td>c</td>\n",
       "      <td>b</td>\n",
       "      <td>n</td>\n",
       "      <td>...</td>\n",
       "      <td>s</td>\n",
       "      <td>w</td>\n",
       "      <td>w</td>\n",
       "      <td>p</td>\n",
       "      <td>w</td>\n",
       "      <td>o</td>\n",
       "      <td>p</td>\n",
       "      <td>n</td>\n",
       "      <td>n</td>\n",
       "      <td>m</td>\n",
       "    </tr>\n",
       "    <tr>\n",
       "      <th>3</th>\n",
       "      <td>p</td>\n",
       "      <td>x</td>\n",
       "      <td>y</td>\n",
       "      <td>w</td>\n",
       "      <td>t</td>\n",
       "      <td>p</td>\n",
       "      <td>f</td>\n",
       "      <td>c</td>\n",
       "      <td>n</td>\n",
       "      <td>n</td>\n",
       "      <td>...</td>\n",
       "      <td>s</td>\n",
       "      <td>w</td>\n",
       "      <td>w</td>\n",
       "      <td>p</td>\n",
       "      <td>w</td>\n",
       "      <td>o</td>\n",
       "      <td>p</td>\n",
       "      <td>k</td>\n",
       "      <td>s</td>\n",
       "      <td>u</td>\n",
       "    </tr>\n",
       "    <tr>\n",
       "      <th>4</th>\n",
       "      <td>e</td>\n",
       "      <td>x</td>\n",
       "      <td>s</td>\n",
       "      <td>g</td>\n",
       "      <td>f</td>\n",
       "      <td>n</td>\n",
       "      <td>f</td>\n",
       "      <td>w</td>\n",
       "      <td>b</td>\n",
       "      <td>k</td>\n",
       "      <td>...</td>\n",
       "      <td>s</td>\n",
       "      <td>w</td>\n",
       "      <td>w</td>\n",
       "      <td>p</td>\n",
       "      <td>w</td>\n",
       "      <td>o</td>\n",
       "      <td>e</td>\n",
       "      <td>n</td>\n",
       "      <td>a</td>\n",
       "      <td>g</td>\n",
       "    </tr>\n",
       "  </tbody>\n",
       "</table>\n",
       "<p>5 rows × 23 columns</p>\n",
       "</div>"
      ],
      "text/plain": [
       "  class cap-shape cap-surface cap-color bruises odor gill-attachment  \\\n",
       "0     p         x           s         n       t    p               f   \n",
       "1     e         x           s         y       t    a               f   \n",
       "2     e         b           s         w       t    l               f   \n",
       "3     p         x           y         w       t    p               f   \n",
       "4     e         x           s         g       f    n               f   \n",
       "\n",
       "  gill-spacing gill-size gill-color  ... stalk-surface-below-ring  \\\n",
       "0            c         n          k  ...                        s   \n",
       "1            c         b          k  ...                        s   \n",
       "2            c         b          n  ...                        s   \n",
       "3            c         n          n  ...                        s   \n",
       "4            w         b          k  ...                        s   \n",
       "\n",
       "  stalk-color-above-ring stalk-color-below-ring veil-type veil-color  \\\n",
       "0                      w                      w         p          w   \n",
       "1                      w                      w         p          w   \n",
       "2                      w                      w         p          w   \n",
       "3                      w                      w         p          w   \n",
       "4                      w                      w         p          w   \n",
       "\n",
       "  ring-number ring-type spore-print-color population habitat  \n",
       "0           o         p                 k          s       u  \n",
       "1           o         p                 n          n       g  \n",
       "2           o         p                 n          n       m  \n",
       "3           o         p                 k          s       u  \n",
       "4           o         e                 n          a       g  \n",
       "\n",
       "[5 rows x 23 columns]"
      ]
     },
     "execution_count": 2,
     "metadata": {},
     "output_type": "execute_result"
    }
   ],
   "source": [
    "data = pd.read_csv('https://raw.githubusercontent.com/YData123/sds265-fa21/main/demos/classification/mushrooms.csv')\n",
    "data.head()"
   ]
  },
  {
   "cell_type": "code",
   "execution_count": 3,
   "id": "e241948c",
   "metadata": {},
   "outputs": [],
   "source": [
    "le = LabelEncoder()\n",
    "data['class'] = le.fit_transform(data['class'])\n",
    "encoded_data = pd.get_dummies(data, drop_first=True)\n",
    "encoded_data.head()\n",
    "mapping = dict(zip(range(len(le.classes_)), le.classes_))"
   ]
  },
  {
   "cell_type": "markdown",
   "id": "7b74d537",
   "metadata": {},
   "source": [
    "The transformation is mapping each categorical variable to a series of 1-hot or \"dummy\" variables,\n",
    "so the weights are meaningful in a logistic regression model. Next, we convert this DataFrame to numpy arrays, suitable for input to sklearn."
   ]
  },
  {
   "cell_type": "code",
   "execution_count": 4,
   "id": "8183f108",
   "metadata": {},
   "outputs": [],
   "source": [
    "y = encoded_data['class'].values\n",
    "X = encoded_data.drop('class', axis=1).values"
   ]
  },
  {
   "cell_type": "markdown",
   "id": "c0fbf435",
   "metadata": {},
   "source": [
    "Let's look at some of the characteristics of the data."
   ]
  },
  {
   "cell_type": "code",
   "execution_count": 5,
   "id": "7cffd217",
   "metadata": {},
   "outputs": [
    {
     "name": "stdout",
     "output_type": "stream",
     "text": [
      "Number of data points: 8124\n",
      "Number of original predictors: 22\n",
      "Number of expanded predictors: 95\n",
      "Percent poisonous: 48.2%\n"
     ]
    }
   ],
   "source": [
    "num_data_points = X.shape[0] \n",
    "num_original_predictors = data.shape[1]-1\n",
    "num_expanded_predictors = X.shape[1]\n",
    "poisonous = np.mean(y)*100\n",
    "\n",
    "print(\"Number of data points: %d\" % num_data_points)\n",
    "print(\"Number of original predictors: %d\" % num_original_predictors)\n",
    "print(\"Number of expanded predictors: %d\" % num_expanded_predictors)\n",
    "print(\"Percent poisonous: %.1f%%\" % poisonous)"
   ]
  },
  {
   "cell_type": "markdown",
   "id": "fc3434f5",
   "metadata": {},
   "source": [
    "### Fitting logistic regression models\n",
    "\n",
    "We construct a series of logistic regression models with an increasing number of training points. Specifically, we will:\n",
    "\n",
    "* let the sample size $n$ vary from 0.1% to 10% of the available data in increments of 0.1%\n",
    "* for each $n$, train a logistic regression model on $n$ randomly selected training points, and test on the remaining data\n",
    "* for each $n$, do this 10 times and average the error rates\n",
    "* plot the resulting average error rates as a function of $n$"
   ]
  },
  {
   "cell_type": "code",
   "execution_count": 6,
   "id": "74ce61c3",
   "metadata": {},
   "outputs": [
    {
     "name": "stderr",
     "output_type": "stream",
     "text": [
      "100%|█████████████████████████████████████████| 109/109 [00:08<00:00, 12.33it/s]\n"
     ]
    },
    {
     "data": {
      "image/png": "[encoded data removed]",
      "text/plain": [
       "<Figure size 432x288 with 1 Axes>"
      ]
     },
     "metadata": {
      "needs_background": "light"
     },
     "output_type": "display_data"
    }
   ],
   "source": [
    "trials = 10\n",
    "sample_size = np.arange(0.001, 0.11, 0.001)\n",
    "error_rate = np.zeros(len(sample_size))\n",
    "\n",
    "from tqdm import tqdm\n",
    "error_rate = []\n",
    "lr = LogisticRegression(solver='lbfgs')\n",
    "for n in tqdm(sample_size):\n",
    "    err = []\n",
    "    for trial in np.arange(trials):\n",
    "        X_train, X_test, y_train, y_test = train_test_split(X, y, train_size=n)\n",
    "        lr.fit(X_train, y_train)\n",
    "        this_err = np.mean(lr.predict(X_test) != y_test)\n",
    "        err.append(this_err)\n",
    "    error_rate.append(np.mean(err))\n",
    "\n",
    "plt.plot(sample_size, error_rate)\n",
    "plt.xlabel('sample size')\n",
    "plt.ylabel('error rate')\n",
    "plt.show()"
   ]
  },
  {
   "cell_type": "code",
   "execution_count": 7,
   "id": "a60635df",
   "metadata": {},
   "outputs": [
    {
     "name": "stdout",
     "output_type": "stream",
     "text": [
      "56 samples are required before the error falls below 5%\n",
      "438 samples are required before the error falls below 1%\n"
     ]
    }
   ],
   "source": [
    "e = np.array(error_rate)\n",
    "\n",
    "n_05 = np.min(sample_size[np.where(e < 0.05)]*num_data_points)\n",
    "print(\"%d samples are required before the error falls below 5%%\" % n_05)\n",
    "\n",
    "n_01 = np.min(sample_size[np.where(e < 0.01)]*num_data_points)\n",
    "print(\"%d samples are required before the error falls below 1%%\" % n_01)"
   ]
  },
  {
   "cell_type": "markdown",
   "id": "ec94329c",
   "metadata": {},
   "source": [
    "### Classification Metrics"
   ]
  },
  {
   "cell_type": "code",
   "execution_count": 8,
   "id": "ef9febb5",
   "metadata": {},
   "outputs": [],
   "source": [
    "from sklearn.metrics import confusion_matrix, ConfusionMatrixDisplay\n",
    "from sklearn.metrics import accuracy_score, f1_score\n",
    "from sklearn.metrics import precision_score, recall_score"
   ]
  },
  {
   "cell_type": "code",
   "execution_count": 9,
   "id": "7603129c",
   "metadata": {},
   "outputs": [],
   "source": [
    "X_train, X_test, y_train, y_test = train_test_split(X, y, train_size=int(n_01))\n",
    "lr = LogisticRegression(solver='lbfgs')\n",
    "lr.fit(X_train, y_train)\n",
    "y_pred = lr.predict(X_test)"
   ]
  },
  {
   "cell_type": "code",
   "execution_count": 10,
   "id": "23c75220",
   "metadata": {},
   "outputs": [
    {
     "data": {
      "image/png": "[encoded data removed]",
      "text/plain": [
       "<Figure size 432x288 with 2 Axes>"
      ]
     },
     "metadata": {
      "needs_background": "light"
     },
     "output_type": "display_data"
    }
   ],
   "source": [
    "y_test_cl = [mapping[i] for i in y_test]\n",
    "y_pred_cl = [mapping[i] for i in y_pred]\n",
    "\n",
    "matrix = ConfusionMatrixDisplay.from_predictions(y_test_cl, y_pred_cl, \n",
    "                                                 cmap=plt.cm.Blues)\n",
    "matrix.ax_.set_title('Confusion Matrix')\n",
    "plt.xlabel('Predicted Label')\n",
    "plt.ylabel('True Label')\n",
    "plt.gcf().axes[0].tick_params()\n",
    "plt.gcf().axes[1].tick_params()\n",
    "plt.show()"
   ]
  },
  {
   "cell_type": "markdown",
   "id": "71e4e1dc",
   "metadata": {},
   "source": [
    "### ROC curve"
   ]
  },
  {
   "cell_type": "code",
   "execution_count": 11,
   "id": "7e4a9bd9",
   "metadata": {},
   "outputs": [],
   "source": [
    "from sklearn.metrics import RocCurveDisplay"
   ]
  },
  {
   "cell_type": "code",
   "execution_count": 12,
   "id": "8e355d00",
   "metadata": {},
   "outputs": [
    {
     "data": {
      "image/png": "[encoded data removed]",
      "text/plain": [
       "<Figure size 432x288 with 1 Axes>"
      ]
     },
     "metadata": {
      "needs_background": "light"
     },
     "output_type": "display_data"
    }
   ],
   "source": [
    "RocCurveDisplay.from_predictions(y_test, y_pred) \n",
    "plt.show()"
   ]
  },
  {
   "cell_type": "code",
   "execution_count": null,
   "id": "d17d2837",
   "metadata": {},
   "outputs": [],
   "source": []
  }
 ],
 "metadata": {
  "kernelspec": {
   "display_name": "Python 3 (ipykernel)",
   "language": "python",
   "name": "python3"
  },
  "language_info": {
   "codemirror_mode": {
    "name": "ipython",
    "version": 3
   },
   "file_extension": ".py",
   "mimetype": "text/x-python",
   "name": "python",
   "nbconvert_exporter": "python",
   "pygments_lexer": "ipython3",
   "version": "3.9.7"
  }
 },
 "nbformat": 4,
 "nbformat_minor": 5
}
