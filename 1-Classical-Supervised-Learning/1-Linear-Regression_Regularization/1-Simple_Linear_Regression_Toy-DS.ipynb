{
 "cells": [
  {
   "cell_type": "markdown",
   "id": "4961049d",
   "metadata": {},
   "source": [
    "# Linear Regression on Toy Dataset"
   ]
  },
  {
   "cell_type": "code",
   "execution_count": 1,
   "id": "4689cc15",
   "metadata": {},
   "outputs": [],
   "source": [
    "import numpy as np\n",
    "import matplotlib.pyplot as plt\n",
    "import pandas as pd\n",
    "import sklearn\n",
    "%matplotlib inline"
   ]
  },
  {
   "cell_type": "code",
   "execution_count": 2,
   "id": "5e78c08f",
   "metadata": {},
   "outputs": [],
   "source": [
    "def one_dim_function(N, sigma):\n",
    "    \"\"\"Sample N points uniformly from the interval [-1,3],\n",
    "    add random noise, and output the function y = 3x + 1\n",
    "\n",
    "    Parameters\n",
    "    ----------\n",
    "    N : int\n",
    "        The number of points\n",
    "    sigma : float\n",
    "        The standard deviation of noise to add to the randomly generated \n",
    "        points.\n",
    "\n",
    "    Returns\n",
    "    -------\n",
    "    x, y (list, list) \n",
    "        x, the randomly generated points with added noise\n",
    "        y, the function evaluated at these points.\n",
    "    \"\"\"\n",
    "    x = np.random.uniform(low=-1.0, high=3.0, size=N)\n",
    "    y = 3*x + 1\n",
    "    y = y + np.random.normal(0, sigma, size=N)\n",
    "    \n",
    "    return x, y"
   ]
  },
  {
   "cell_type": "markdown",
   "id": "bb0fbe58",
   "metadata": {},
   "source": [
    "### Simple Linear Regression by normal equation"
   ]
  },
  {
   "cell_type": "code",
   "execution_count": 3,
   "id": "92b09f8f",
   "metadata": {},
   "outputs": [
    {
     "data": {
      "image/png": "[encoded data removed]",
      "text/plain": [
       "<Figure size 648x288 with 1 Axes>"
      ]
     },
     "metadata": {
      "needs_background": "light"
     },
     "output_type": "display_data"
    }
   ],
   "source": [
    "N = 100\n",
    "sigma = 0.4\n",
    "X, y = one_dim_function(N, sigma)\n",
    "\n",
    "plt.figure(figsize=(9,4))\n",
    "plt.scatter(X, y, c=\"blue\", s=8)\n",
    "plt.xlabel(\"X\")\n",
    "plt.ylabel(\"y\")\n",
    "plt.legend([\"data\"])\n",
    "plt.show()"
   ]
  },
  {
   "cell_type": "code",
   "execution_count": 4,
   "id": "d41f3ce9",
   "metadata": {},
   "outputs": [
    {
     "name": "stdout",
     "output_type": "stream",
     "text": [
      "[1.04723603 2.98335642]\n"
     ]
    }
   ],
   "source": [
    "# Column stack to create model matrix\n",
    "X_m = np.c_[np.ones((100,1)), X]\n",
    "betas = np.linalg.inv(X_m.T @ X_m) @ X_m.T @ y\n",
    "print(betas)"
   ]
  },
  {
   "cell_type": "code",
   "execution_count": 5,
   "id": "ec886895",
   "metadata": {},
   "outputs": [
    {
     "data": {
      "text/plain": [
       "array([-1.83992972,  9.94671897])"
      ]
     },
     "execution_count": 5,
     "metadata": {},
     "output_type": "execute_result"
    }
   ],
   "source": [
    "# Making new predictions\n",
    "X_test = np.array([np.min(X), np.max(X)])\n",
    "X_m_test = np.c_[np.ones((2,1)), X_test]\n",
    "y_test = X_m_test @ betas\n",
    "y_test"
   ]
  },
  {
   "cell_type": "code",
   "execution_count": 6,
   "id": "2588e9a6",
   "metadata": {},
   "outputs": [
    {
     "data": {
      "image/png": "[encoded data removed]",
      "text/plain": [
       "<Figure size 648x288 with 1 Axes>"
      ]
     },
     "metadata": {
      "needs_background": "light"
     },
     "output_type": "display_data"
    }
   ],
   "source": [
    "plt.figure(figsize=(9,4))\n",
    "plt.scatter(X, y, c=\"blue\", s=8)\n",
    "plt.plot(X_test, y_test, c=\"r\")\n",
    "plt.xlabel(\"X\")\n",
    "plt.ylabel(\"y\")\n",
    "plt.legend([\"data\", \"predictions\"])\n",
    "plt.show()"
   ]
  },
  {
   "cell_type": "code",
   "execution_count": 7,
   "id": "4407988e",
   "metadata": {},
   "outputs": [
    {
     "name": "stdout",
     "output_type": "stream",
     "text": [
      "MSE: 0.19918466311326824\n",
      "RMSE: 0.4463010901995067\n",
      "MAE: 0.35512752046298\n",
      "R-squared: 0.983512740754473\n"
     ]
    }
   ],
   "source": [
    "y_pred = X_m @ betas\n",
    "MSE = np.mean((y - y_pred)**2)\n",
    "RMSE = np.sqrt(MSE)\n",
    "MAE = np.mean(np.abs(y - y_pred))\n",
    "R2 = 1 - (MSE) / (np.mean((y - np.mean(y))**2))\n",
    "print(\"MSE:\", MSE)\n",
    "print(\"RMSE:\", RMSE)\n",
    "print(\"MAE:\", MAE)\n",
    "print(\"R-squared:\", R2)"
   ]
  },
  {
   "cell_type": "markdown",
   "id": "61400c5e",
   "metadata": {},
   "source": [
    "### Simple Linear Regression with Skicit-Learn"
   ]
  },
  {
   "cell_type": "code",
   "execution_count": 8,
   "id": "8811d302",
   "metadata": {},
   "outputs": [],
   "source": [
    "from sklearn.linear_model import LinearRegression\n",
    "from sklearn.metrics import mean_squared_error, mean_absolute_error\n",
    "from sklearn.metrics import r2_score"
   ]
  },
  {
   "cell_type": "code",
   "execution_count": 9,
   "id": "f784b172",
   "metadata": {},
   "outputs": [
    {
     "name": "stdout",
     "output_type": "stream",
     "text": [
      "Intercept: 1.0472360306920607\n",
      "Weights: [2.98335642]\n"
     ]
    }
   ],
   "source": [
    "lin_reg = LinearRegression()\n",
    "lin_reg.fit(X.reshape(-1, 1), y)\n",
    "print(\"Intercept:\", lin_reg.intercept_)\n",
    "print(\"Weights:\", lin_reg.coef_)"
   ]
  },
  {
   "cell_type": "code",
   "execution_count": 10,
   "id": "4eee830d",
   "metadata": {},
   "outputs": [
    {
     "data": {
      "text/plain": [
       "array([-1.83992972,  9.94671897])"
      ]
     },
     "execution_count": 10,
     "metadata": {},
     "output_type": "execute_result"
    }
   ],
   "source": [
    "lin_reg.predict(X_test.reshape(-1, 1))"
   ]
  },
  {
   "cell_type": "code",
   "execution_count": 11,
   "id": "8f170d8d",
   "metadata": {},
   "outputs": [
    {
     "name": "stdout",
     "output_type": "stream",
     "text": [
      "MSE: 0.1991846631132682\n",
      "RMSE: 0.4463010901995067\n",
      "MAE: 0.3551275204629799\n",
      "R-squared: 0.983512740754473\n"
     ]
    }
   ],
   "source": [
    "y_pred = lin_reg.predict(X.reshape(-1, 1))\n",
    "print(\"MSE:\", mean_squared_error(y, y_pred))\n",
    "print(\"RMSE:\", np.sqrt(mean_squared_error(y, y_pred)))\n",
    "print(\"MAE:\", mean_absolute_error(y, y_pred))\n",
    "print(\"R-squared:\", r2_score(y, y_pred))"
   ]
  }
 ],
 "metadata": {
  "kernelspec": {
   "display_name": "Python 3 (ipykernel)",
   "language": "python",
   "name": "python3"
  },
  "language_info": {
   "codemirror_mode": {
    "name": "ipython",
    "version": 3
   },
   "file_extension": ".py",
   "mimetype": "text/x-python",
   "name": "python",
   "nbconvert_exporter": "python",
   "pygments_lexer": "ipython3",
   "version": "3.9.7"
  }
 },
 "nbformat": 4,
 "nbformat_minor": 5
}
