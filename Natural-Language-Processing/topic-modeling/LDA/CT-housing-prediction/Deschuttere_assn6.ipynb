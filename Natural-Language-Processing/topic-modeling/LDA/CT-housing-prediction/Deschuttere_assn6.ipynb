{
 "cells": [
  {
   "cell_type": "markdown",
   "id": "c032169b",
   "metadata": {},
   "source": [
    "## Introductory Machine Learning: Assignment 6\n",
    "\n",
    "**Deadline:**\n",
    "\n",
    "Assignment 6 is due Thursday, November 30 at 11:59pm. Late work will not be accepted as per the course policies (see the Syllabus and Course policies on [Canvas](https://canvas.yale.edu).\n",
    "\n",
    "Directly sharing answers is not okay, but discussing problems with the course staff or with other students is encouraged.\n",
    "\n",
    "You should start early so that you have time to get help if you're stuck. The drop-in office hours schedule can be found on [Canvas](https://canvas.yale.edu).  You can also post questions or start discussions on [Ed Discussion](https://edstem.org/us/courses/9209/discussion/). The problems are broken up into steps that should help you to make steady progress.\n",
    "\n",
    "**Submission:**\n",
    "\n",
    "Submit your assignment as a .pdf on Gradescope, and as a .ipynb on Canvas. You can access Gradescope through Canvas on the left-side of the class home page. The problems in each homework assignment are numbered. Note: When submitting on Gradescope, please select the correct pages of your pdf that correspond to each problem. This will allow graders to find your complete solution to each problem.\n",
    "\n",
    "To produce the .pdf, please do the following in order to preserve the cell structure of the notebook:  \n",
    "1.  Go to \"File\" at the top-left of your Jupyter Notebook\n",
    "2.  Under \"Download as\", select \"HTML (.html)\"\n",
    "3.  After the .html has downloaded, open it and then select \"File\" and \"Print\" (note you will not actually be printing)\n",
    "4.  From the print window, select the option to save as a .pdf\n",
    "\n",
    "**Topics**\n",
    "1. Bayesian inference\n",
    "2. Topic models\n",
    "\n",
    "The first two problems test some of the basics of Bayesian inference. The third problem has you building topic models and using them to fit some linear regressions. The fourth problem asks you to build topic models on the UN data.\n",
    "\n",
    "Note: The assignment looks longer than it really is. We step you through most of the code that you need. But it's still on the long side. Although the assignment is due in three weeks, we encourage you to start early!"
   ]
  },
  {
   "cell_type": "code",
   "execution_count": 1,
   "id": "6355cd57",
   "metadata": {},
   "outputs": [],
   "source": [
    "# Helper function\n",
    "from __future__ import division, print_function\n",
    "import numpy as np\n",
    "import matplotlib.pyplot as plt\n",
    "import matplotlib.tri as tri\n",
    "_corners = np.array([[0, 0], [1, 0], [0.5, 0.75**0.5]])\n",
    "_AREA = 0.5 * 1 * 0.75**0.5\n",
    "_triangle = tri.Triangulation(_corners[:, 0], _corners[:, 1])\n",
    "# For each corner of the triangle, the pair of other corners\n",
    "_pairs = [_corners[np.roll(range(3), -i)[1:]] for i in range(3)]\n",
    "# The area of the triangle formed by point xy and another pair or points\n",
    "tri_area = lambda xy, pair: 0.5 * np.linalg.norm(np.cross(*(pair - xy)))\n",
    "def xy2bc(xy, tol=1.e-4):\n",
    "    '''Converts 2D Cartesian coordinates to barycentric.\n",
    "    Arguments:\n",
    "        `xy`: A length-2 sequence containing the x and y value.\n",
    "    '''\n",
    "    coords = np.array([tri_area(xy, p) for p in _pairs]) / _AREA\n",
    "    return np.clip(coords, tol, 1.0 - tol)\n",
    "class Dirichlet(object):\n",
    "    def __init__(self, alpha):\n",
    "        '''Creates Dirichlet distribution with parameter `alpha`.'''\n",
    "        from math import gamma\n",
    "        from operator import mul\n",
    "        self._alpha = np.array(alpha)\n",
    "        self._coef = gamma(np.sum(self._alpha)) / \\\n",
    "                     np.multiply.reduce([gamma(a) for a in self._alpha])\n",
    "    def pdf(self, x):\n",
    "        '''Returns pdf value for `x`.'''\n",
    "        from operator import mul\n",
    "        return self._coef * np.multiply.reduce([xx ** (aa - 1)\n",
    "                                                for (xx, aa)in zip(x, self._alpha)])\n",
    "    def sample(self, N):\n",
    "        '''Generates a random sample of size `N`.'''\n",
    "        return np.random.dirichlet(self._alpha, N)\n",
    "def draw_pdf_contours(dist, border=False, nlevels=200, subdiv=8, **kwargs):\n",
    "    '''Draws pdf contours over an equilateral triangle (2-simplex).\n",
    "    Arguments:\n",
    "        `dist`: A distribution instance with a `pdf` method.\n",
    "        `border` (bool): If True, the simplex border is drawn.\n",
    "        `nlevels` (int): Number of contours to draw.\n",
    "        `subdiv` (int): Number of recursive mesh subdivisions to create.\n",
    "        kwargs: Keyword args passed on to `plt.triplot`.\n",
    "    '''\n",
    "    from matplotlib import ticker, cm\n",
    "    import math\n",
    "    refiner = tri.UniformTriRefiner(_triangle)\n",
    "    trimesh = refiner.refine_triangulation(subdiv=subdiv)\n",
    "    pvals = [dist.pdf(xy2bc(xy)) for xy in zip(trimesh.x, trimesh.y)]\n",
    "    plt.tricontourf(trimesh, pvals, nlevels, cmap='jet', **kwargs)\n",
    "    plt.axis('equal')\n",
    "    plt.xlim(0, 1)\n",
    "    plt.ylim(0, 0.75**0.5)\n",
    "    plt.axis('off')\n",
    "    if border is True:\n",
    "        plt.triplot(_triangle, linewidth=1)\n",
    "def plot_points(X, barycentric=True, border=True, **kwargs):\n",
    "    '''Plots a set of points in the simplex.\n",
    "    Arguments:\n",
    "        `X` (ndarray): A 2xN array (if in Cartesian coords) or 3xN array\n",
    "                       (if in barycentric coords) of points to plot.\n",
    "        `barycentric` (bool): Indicates if `X` is in barycentric coords.\n",
    "        `border` (bool): If True, the simplex border is drawn.\n",
    "        kwargs: Keyword args passed on to `plt.plot`.\n",
    "    '''\n",
    "    if barycentric is True:\n",
    "        X = X.dot(_corners)\n",
    "    plt.plot(X[:, 0], X[:, 1], 'k.', ms=1, **kwargs)\n",
    "    plt.axis('equal')\n",
    "    plt.xlim(0, 1)\n",
    "    plt.ylim(0, 0.75**0.5)\n",
    "    plt.axis('off')\n",
    "    if border is True:\n",
    "        plt.triplot(_triangle, linewidth=1)"
   ]
  },
  {
   "cell_type": "markdown",
   "id": "c38be8b6",
   "metadata": {},
   "source": [
    "### Problem 1: Let the good times roll (10 points)\n",
    "\n",
    "Consider the scenario of rolling a 4-sided die with the numbers $1$, $2$, $3$, and $4$ on its faces. Suppose we roll this die many times and get a collection of $n$ outcomes represented by $X_{1}, X_{2}, ..., X_{n}$. Here each $X_{i}$ is a random variable that independently follows a Multinomial$(p_{1}, p_{2}, p_{3}, p_{4})$ model (where $p_{1}+p_{2}+p_{3}+p_{4}=1$).\n",
    "\n",
    "This die may or may not be fair. If it were fair then $p_{1}=p_{2}=p_{3}=p_{4}=0.25$, but since we are uncertain about these parameters we treat them as random and the problem requires Bayesian inference."
   ]
  },
  {
   "cell_type": "code",
   "execution_count": 2,
   "id": "227fb33a",
   "metadata": {
    "ExecuteTime": {
     "end_time": "2021-11-09T23:28:04.841502Z",
     "start_time": "2021-11-09T23:28:04.135642Z"
    }
   },
   "outputs": [],
   "source": [
    "import numpy as np\n",
    "import matplotlib.pyplot as plt\n",
    "import pandas as pd\n",
    "from matplotlib import pyplot"
   ]
  },
  {
   "cell_type": "markdown",
   "id": "2f207f9a",
   "metadata": {},
   "source": [
    "#### Part (a)\n",
    "\n",
    "For (a) we will assume that $(p_{1}, p_{2}, p_{3}, p_{4})$ follows a Dirichlet$(\\alpha_{1}, \\alpha_{2}, \\alpha_{3}, \\alpha_{4})$ distribution where $\\alpha_{1}, \\alpha_{2}, \\alpha_{3}, \\alpha_{4}$ are unknown, positive-valued parameters. Suppose we have a prior belief that the four-sided die is close to being fair. This is represented by $\\alpha_{1}= \\alpha_{2}= \\alpha_{3}= \\alpha_{4} = c$ for some positive real number $c$.\n",
    "\n",
    "For $c = 0.1, 1, 10, 30, 60, 100, 1000$ draw $1000$ samples of $(p_{1}, p_{2}, p_{3}, p_{4})$ from a Dirichlet$(c,c,c,c)$ distribution. For this sample, calculate the mean and standard deviation of $p_{1}$. Create a plot of $log(c)$ vs. the mean and another plot of $log(c)$ vs. the standard deviation. Describe in your own words what happens to these two quantities as $c$ increases."
   ]
  },
  {
   "cell_type": "code",
   "execution_count": 3,
   "id": "438fa4db",
   "metadata": {},
   "outputs": [
    {
     "data": {
      "image/png": "[encoded data removed]",
      "text/plain": [
       "<Figure size 720x288 with 2 Axes>"
      ]
     },
     "metadata": {
      "needs_background": "light"
     },
     "output_type": "display_data"
    }
   ],
   "source": [
    "np.random.seed(1012)\n",
    "c = [0.1,1,10,30,60,100,1000]\n",
    "x = np.log(c)\n",
    "n = 1000\n",
    "sample_mean = np.zeros(len(c))\n",
    "sample_std = np.zeros(len(c))\n",
    "\n",
    "for i in np.arange(len(c)):\n",
    "    alpha = c[i]\n",
    "    sample_p1 = np.random.dirichlet((alpha, alpha, \n",
    "                                     alpha, alpha), n)[:,0]\n",
    "    sample_mean[i] = np.mean(sample_p1)\n",
    "    sample_std[i] = np.std(sample_p1)\n",
    "\n",
    "f, axes = plt.subplots(nrows = 1, ncols = 2, \n",
    "                       figsize = (10, 4))\n",
    "axes = axes.ravel()\n",
    "axes[0].set_title(\"Mean of p1\")\n",
    "axes[0].plot(x,sample_mean)\n",
    "axes[0].set_xlabel(\"log(c)\")\n",
    "axes[1].set_title(f'Standard deviation of p1')\n",
    "axes[1].plot(x,sample_std)\n",
    "axes[1].set_xlabel(\"log(c)\")\n",
    "plt.show()"
   ]
  },
  {
   "cell_type": "markdown",
   "id": "7421743b",
   "metadata": {},
   "source": [
    "By picking every Dirichlet parameter the same, we create a symmetric Dirichlet distribution, which will, on average (expected values), produce a fair die. Note that the figures given in the following explanation will be given for a 3 sided die, as it is possible to visualize a Dirichlet distribution with 3 parameters. The reasoning and answer to this question, however, will be the same for the 4 sided die.\n",
    "\n",
    "The images below represent the 3D Dirichlet distribution where c takes the values 1, 5, and 30. The color scale runs from dark blue (lowest values and not likely to occur) to red (highest values and very likely to occur). As can be seen in the plots below, the distribution tends toward the center and it becomes more and more tightly concentrated around the center of the simplex. This means we would produce consistently fair dice in the limit as c goes to infinity. For c lower than 1, the distribution concentrates in the corners and along the boundaries of the simplex. A c = 0.1 (not plotted below), will concentrate in the corners, which basically means, p$_1$ consistenently takes the value 1 (on average 25% of the time) or 0 (on average 75% of the time). \n",
    "\n",
    "The reason why the distribution becomes more and more concentrated in the center of the simplex is because the probabilities $p_1$ to $p_4$ are powered by a higher and higher exponent. The highest probability, will occur for $p_1$ to $p_4$ all equal to 0.25, but the higher the exponent, the faster the probability will drop to zero for even a small change in the p-values.\n",
    "\n",
    "For the plot where the mean of a 1000 samples of p1 is taken, it can be seen that the plot oscillates around 0.25 (which is the chance of rolling side 1 if the die is fair) and eventually reaches 0.25. The smaller the value of c, the more further it wil be most of the times be from the value 0.25. If c increases, the mean of p1 becomes closer and closer to 0.25. This corresponds with our explanation above and plots below, as for a higher c the distribution becomes tightly concentrated in the center of the simplex, which basically means that it produces a fair distribution more frequently.\n",
    "\n",
    "The variance decreases for increasing c, which can be explained by the shape of the Dirichlet distribution for increasing value of c. Due to the fact that the distribution becomes tightly concentrated in the center of the simplex, the variance decreases. "
   ]
  },
  {
   "cell_type": "code",
   "execution_count": 4,
   "id": "d7062069",
   "metadata": {},
   "outputs": [
    {
     "data": {
      "image/png": "[encoded data removed]",
      "text/plain": [
       "<Figure size 432x288 with 1 Axes>"
      ]
     },
     "metadata": {
      "needs_background": "light"
     },
     "output_type": "display_data"
    }
   ],
   "source": [
    "draw_pdf_contours(Dirichlet([1, 1, 1]))"
   ]
  },
  {
   "cell_type": "code",
   "execution_count": 5,
   "id": "7e43ad25",
   "metadata": {},
   "outputs": [
    {
     "data": {
      "image/png": "[encoded data removed]",
      "text/plain": [
       "<Figure size 432x288 with 1 Axes>"
      ]
     },
     "metadata": {
      "needs_background": "light"
     },
     "output_type": "display_data"
    }
   ],
   "source": [
    "draw_pdf_contours(Dirichlet([5, 5, 5]))"
   ]
  },
  {
   "cell_type": "code",
   "execution_count": 6,
   "id": "448b4a8a",
   "metadata": {},
   "outputs": [
    {
     "data": {
      "image/png": "[encoded data removed]",
      "text/plain": [
       "<Figure size 432x288 with 1 Axes>"
      ]
     },
     "metadata": {
      "needs_background": "light"
     },
     "output_type": "display_data"
    }
   ],
   "source": [
    "draw_pdf_contours(Dirichlet([30, 30, 30]))"
   ]
  },
  {
   "cell_type": "markdown",
   "id": "acf25574",
   "metadata": {},
   "source": [
    "#### Part (b) \n",
    "\n",
    "The following cell loads 10,000 rolls for the four-sided die. $[1,0,0,0]$ indicates that the die landed on face $1$, $[0,1,0,0]$ indicates that the die landed on face $2$, and so on. For $c = 0.1, 1, 10, 30, 60, 100, 1000$, use Dirichlet$(c,c,c,c)$ as the prior distribution for $(p_{1}, p_{2}, p_{3}, p_{4})$. *Using only the first $100$ rolls of the die*, calculate the mean of the posterior distribution. What do you notice about the posterior mean as $c$ increases?\n",
    "\n",
    "Give code to compute the answer and plot the results. Also, give a markdown cell with a mathematical expression for the solution.\n",
    "\n",
    "Hint: The mean of the Dirichlet$(\\alpha_{1}, \\alpha_{2}, \\alpha_{3}, \\alpha_{4})$ is $\\left( \\dfrac{\\alpha_{1}}{\\alpha_{1} + \\alpha_{2} +\\alpha_{3} +\\alpha_{4}}, \\dfrac{\\alpha_{2}}{\\alpha_{1} + \\alpha_{2} +\\alpha_{3} +\\alpha_{4}}, \\dfrac{\\alpha_{3}}{\\alpha_{1} + \\alpha_{2} +\\alpha_{3} +\\alpha_{4}}, \\dfrac{\\alpha_{4}}{\\alpha_{1} + \\alpha_{2} +\\alpha_{3} +\\alpha_{4}} \\right)$"
   ]
  },
  {
   "cell_type": "code",
   "execution_count": 7,
   "id": "706842d2",
   "metadata": {},
   "outputs": [
    {
     "data": {
      "text/plain": [
       "array([[0, 0, 0, 1],\n",
       "       [0, 1, 0, 0],\n",
       "       [1, 0, 0, 0],\n",
       "       ...,\n",
       "       [0, 0, 0, 1],\n",
       "       [0, 1, 0, 0],\n",
       "       [0, 1, 0, 0]])"
      ]
     },
     "execution_count": 7,
     "metadata": {},
     "output_type": "execute_result"
    }
   ],
   "source": [
    "X = pd.read_pickle('https://raw.githubusercontent.com/YData123/sds265-fa21/main/assignments/assn6/X.pkl')\n",
    "X"
   ]
  },
  {
   "cell_type": "code",
   "execution_count": 8,
   "id": "360ac906",
   "metadata": {},
   "outputs": [
    {
     "data": {
      "text/plain": [
       "array([[0.2998008 , 0.24003984, 0.17031873, 0.28984064],\n",
       "       [0.29807692, 0.24038462, 0.17307692, 0.28846154],\n",
       "       [0.28571429, 0.24285714, 0.19285714, 0.27857143],\n",
       "       [0.27272727, 0.24545455, 0.21363636, 0.26818182],\n",
       "       [0.26470588, 0.24705882, 0.22647059, 0.26176471],\n",
       "       [0.26      , 0.248     , 0.234     , 0.258     ],\n",
       "       [0.25121951, 0.2497561 , 0.24804878, 0.25097561]])"
      ]
     },
     "execution_count": 8,
     "metadata": {},
     "output_type": "execute_result"
    }
   ],
   "source": [
    "first100 = X[0:100,]\n",
    "first100_count = np.sum(first100, axis = 0)\n",
    "c = [0.1,1,10,30,60,100,1000]\n",
    "post_mean = np.zeros((len(c),4))\n",
    "for i in np.arange(len(c)):\n",
    "    sumit = 4 * c[i] + first100.shape[0]\n",
    "    for j in np.arange(4):\n",
    "        post_mean[i,j] = (c[i] + first100_count[j])\n",
    "        /sumit\n",
    "post_mean"
   ]
  },
  {
   "cell_type": "code",
   "execution_count": 9,
   "id": "0b928ea3",
   "metadata": {},
   "outputs": [
    {
     "data": {
      "image/png": "[encoded data removed]",
      "text/plain": [
       "<Figure size 432x288 with 1 Axes>"
      ]
     },
     "metadata": {
      "needs_background": "light"
     },
     "output_type": "display_data"
    }
   ],
   "source": [
    "c = [0.1,1,10,30,60,100,1000]\n",
    "x = np.log(c)     \n",
    "plt.plot(x, post_mean[:,0], 'r', label = \"p1\") \n",
    "plt.plot(x, post_mean[:,1], 'b', label = \"p2\") \n",
    "plt.plot(x, post_mean[:,2], 'g', label = \"p3\")  \n",
    "plt.plot(x, post_mean[:,3], 'c', label = \"p4\") \n",
    "plt.legend(loc=\"upper right\")\n",
    "plt.title(\"Posterior means using only the first 100 rolls of the die\")\n",
    "plt.xlabel(\"log(c)\")\n",
    "plt.show()"
   ]
  },
  {
   "cell_type": "markdown",
   "id": "4a20ba6e",
   "metadata": {},
   "source": [
    "From the slides, we know that the Dirichlet distribution is a conjugate prior of a multinomial distribution in Bayesian inference, which means that the posterior distribution will another Dirichlet distribution.\n",
    "\n",
    "Let's start with defining the prior distribution and the likelihood function, which are respectively given by:\n",
    "\n",
    "$$\n",
    "Dirichlet_{c,c,c,c}(p_1, p_2, p_3, p_4) \\propto p_1^{c-1}p_2^{c-1}p_3^{c-1}p_4^{c-1}\n",
    "$$\n",
    "\n",
    "$$\n",
    "L(p_1, p_2, p_3, p_4) = p_1^{\\#1}p_2^{\\#2}p_3^{\\#3}p_4^{\\#4}\n",
    "$$\n",
    "\n",
    "where #1 represents the amounts the die landed on face 1, etc. So #1 + #2 + #3 + #4 = 100.\n",
    "\n",
    "The posterior can be calculated with Bayes' rule, which leads to an other Dirichlet distribution:\n",
    "\n",
    "$$\n",
    "p(p_1, p_2, p_3, p_4|X) \\propto p_1^{c-1+\\#1}p_2^{c-1+\\#2}p_3^{c-1+\\#3}p_4^{c-1+\\#4}\n",
    "$$\n",
    "\n",
    "The mean of the Posterior Dirichlet (for this example) is $\\left( \\dfrac{c+\\#1}{4c + 100}, \\dfrac{c+\\#2}{4c + 100}, \\dfrac{c+\\#3}{4c + 100}, \\dfrac{c+\\#4}{4c + 100} \\right)$\n",
    "\n",
    "**CONCLUSION**\n",
    "\n",
    "For a very low c (in this case for example 0.1 or 1), the posterior mean is just basically the percentage of how many times each face of the die has been rolled, which is also visible on the plot. This can be explained by the formula above, where it can be seen that a small c does not has a big influence on the mean if 100 rolls are used. The higher c, the more dominant this term will be in the formula above. This is why the plot tends towards 0.25 for every posterior mean.\n",
    "\n",
    "\n",
    "\n"
   ]
  },
  {
   "cell_type": "markdown",
   "id": "3a935b97",
   "metadata": {},
   "source": [
    "#### Part (c)\n",
    "\n",
    "Now repeat the process in Part (b), but with sample sizes $N = 100, 200, 300, ..., 9900, 10000$. For each value of $c$, create a plot that shows the trend of the posterior mean for $p_{1}$ as a function of sample size $N$. Create a similar plot for $p_{2}$, $p_{3}$, and $p_{4}$. Explain what these plots illustrate about the choice of prior and the sample size. What do you estimate were the true parameters used to generate this dataset?"
   ]
  },
  {
   "cell_type": "code",
   "execution_count": 10,
   "id": "c8a7629f",
   "metadata": {
    "scrolled": true
   },
   "outputs": [
    {
     "data": {
      "image/png": "[encoded data removed]",
      "text/plain": [
       "<Figure size 432x288 with 1 Axes>"
      ]
     },
     "metadata": {
      "needs_background": "light"
     },
     "output_type": "display_data"
    },
    {
     "data": {
      "image/png": "[encoded data removed]",
      "text/plain": [
       "<Figure size 432x288 with 1 Axes>"
      ]
     },
     "metadata": {
      "needs_background": "light"
     },
     "output_type": "display_data"
    },
    {
     "data": {
      "image/png": "[encoded data removed]",
      "text/plain": [
       "<Figure size 432x288 with 1 Axes>"
      ]
     },
     "metadata": {
      "needs_background": "light"
     },
     "output_type": "display_data"
    },
    {
     "data": {
      "image/png": "[encoded data removed]",
      "text/plain": [
       "<Figure size 432x288 with 1 Axes>"
      ]
     },
     "metadata": {
      "needs_background": "light"
     },
     "output_type": "display_data"
    }
   ],
   "source": [
    "N = np.arange(100, 10100, 100)\n",
    "c = [0.1,1,10,30,60,100,1000]\n",
    "p_means = np.zeros((len(N), len(c)))\n",
    "for m in np.arange(len(N)):\n",
    "    n = N[m]\n",
    "    first = X[0:n,]\n",
    "    first_count = np.sum(first, axis = 0)\n",
    "\n",
    "    for i in np.arange(len(c)):\n",
    "        sumit = 4 * c[i] + first.shape[0]\n",
    "        p_means[m][i] = (c[i] + first_count[0])/sumit  \n",
    "plt.plot(N, p_means[:,0], 'r', label = \"c= 0.1\") \n",
    "plt.plot(N, p_means[:,1], 'b', label = \"c= 1\") \n",
    "plt.plot(N, p_means[:,2], 'g', label = \"c= 10\")  \n",
    "plt.plot(N, p_means[:,3], 'c', label = \"c= 30\") \n",
    "plt.plot(N, p_means[:,4], 'm', label = \"c= 60\")  \n",
    "plt.plot(N, p_means[:,5], 'y', label = \"c= 100\") \n",
    "plt.plot(N, p_means[:,6], 'k', label = \"c= 1000\") \n",
    "plt.legend(loc=\"upper right\")\n",
    "plt.title(\"Posterior mean for p1\")\n",
    "plt.xlabel(\"N\")\n",
    "plt.show()\n",
    "p_means = np.zeros((len(N), len(c)))\n",
    "for m in np.arange(len(N)):\n",
    "    n = N[m]\n",
    "    first = X[0:n,]\n",
    "    first_count = np.sum(first, axis = 0)\n",
    "\n",
    "    for i in np.arange(len(c)):\n",
    "        sumit = 4 * c[i] + first.shape[0]\n",
    "        p_means[m][i] = (c[i] + first_count[1])/sumit      \n",
    "plt.plot(N, p_means[:,0], 'r', label = \"c= 0.1\") \n",
    "plt.plot(N, p_means[:,1], 'b', label = \"c= 1\") \n",
    "plt.plot(N, p_means[:,2], 'g', label = \"c= 10\")  \n",
    "plt.plot(N, p_means[:,3], 'c', label = \"c= 30\") \n",
    "plt.plot(N, p_means[:,4], 'm', label = \"c= 60\")  \n",
    "plt.plot(N, p_means[:,5], 'y', label = \"c= 100\") \n",
    "plt.plot(N, p_means[:,6], 'k', label = \"c= 1000\") \n",
    "plt.legend(loc=\"upper right\")\n",
    "plt.title(\"Posterior mean for p2\")\n",
    "plt.xlabel(\"N\")\n",
    "plt.show()\n",
    "p_means = np.zeros((len(N), len(c)))\n",
    "for m in np.arange(len(N)):\n",
    "    n = N[m]\n",
    "    first = X[0:n,]\n",
    "    first_count = np.sum(first, axis = 0)\n",
    "\n",
    "    for i in np.arange(len(c)):\n",
    "        sumit = 4 * c[i] + first.shape[0]\n",
    "        p_means[m][i] = (c[i] + first_count[2])/sumit   \n",
    "plt.plot(N, p_means[:,0], 'r', label = \"c= 0.1\") \n",
    "plt.plot(N, p_means[:,1], 'b', label = \"c= 1\") \n",
    "plt.plot(N, p_means[:,2], 'g', label = \"c= 10\")  \n",
    "plt.plot(N, p_means[:,3], 'c', label = \"c= 30\") \n",
    "plt.plot(N, p_means[:,4], 'm', label = \"c= 60\")  \n",
    "plt.plot(N, p_means[:,5], 'y', label = \"c= 100\") \n",
    "plt.plot(N, p_means[:,6], 'k', label = \"c= 1000\") \n",
    "plt.legend(loc=\"upper right\")\n",
    "plt.title(\"Posterior mean for p3\")\n",
    "plt.xlabel(\"N\")\n",
    "plt.show()\n",
    "p_means = np.zeros((len(N), len(c)))\n",
    "for m in np.arange(len(N)):\n",
    "    n = N[m]\n",
    "    first = X[0:n,]\n",
    "    first_count = np.sum(first, axis = 0)\n",
    "\n",
    "    for i in np.arange(len(c)):\n",
    "        sumit = 4 * c[i] + first.shape[0]\n",
    "        p_means[m][i] = (c[i] + first_count[3])/sumit       \n",
    "plt.plot(N, p_means[:,0], 'r', label = \"c= 0.1\") \n",
    "plt.plot(N, p_means[:,1], 'b', label = \"c= 1\") \n",
    "plt.plot(N, p_means[:,2], 'g', label = \"c= 10\")  \n",
    "plt.plot(N, p_means[:,3], 'c', label = \"c= 30\") \n",
    "plt.plot(N, p_means[:,4], 'm', label = \"c= 60\")  \n",
    "plt.plot(N, p_means[:,5], 'y', label = \"c= 100\") \n",
    "plt.plot(N, p_means[:,6], 'k', label = \"c= 1000\") \n",
    "plt.legend(loc=\"lower right\")\n",
    "plt.title(\"Posterior mean for p4\")\n",
    "plt.xlabel(\"N\")\n",
    "plt.show()"
   ]
  },
  {
   "cell_type": "markdown",
   "id": "973f577a",
   "metadata": {},
   "source": [
    "As can be seen on the plots above, the values of each posterior mean for different values of c vary more for lower values of N compared to larger values of N. This is because, for a smaller value of N, the value of c makes a bigger difference. The higher N, the closer each posterior mean (for a different value of c) is to each other. This is, however, not true for c = 1000, where it can be seen that the plots for each posterior mean shows a different behavior than the other values of c. This is meanly because the choice of c is too large in this case, i.e. it will still dominate too much compared to the outcome of the die experiment.\n",
    "\n",
    "The true parameters used to generate this dataset are estimated to be $p_1 = 0.255$, $p_2 = 0.255$, $p_3 = 0.20$, and $p_4 = 0.29$."
   ]
  },
  {
   "cell_type": "markdown",
   "id": "9c8d0832",
   "metadata": {},
   "source": [
    "### Problem 2: Toy Story (12 points)"
   ]
  },
  {
   "cell_type": "markdown",
   "id": "3a813819",
   "metadata": {},
   "source": [
    "Gibbs sampling is one of the commonly used approach to approximate the inference for Latent Dirichlet Allocation model. In this problem, we will use the toy example from class."
   ]
  },
  {
   "cell_type": "markdown",
   "id": "30dc69df",
   "metadata": {},
   "source": [
    "<img src=\"https://raw.githubusercontent.com/YData123/sds265-fa21/main/assignments/assn6/diagram.png\" width=\"500\" align=\"center\">"
   ]
  },
  {
   "cell_type": "markdown",
   "id": "3811d628",
   "metadata": {},
   "source": [
    "Assume that there are 3 documents and 15 words in the corpus. We would like to build a topic model with 3 topics. The proportions parameter is $\\alpha$ and the topic parameter is $\\eta$. The table below shows an assignment of topics to words in the toy corpus at one stage of the Gibbs sampling algorithm. "
   ]
  },
  {
   "cell_type": "markdown",
   "id": "d781f9c2",
   "metadata": {},
   "source": [
    "<img src=\"https://raw.githubusercontent.com/YData123/sds265-fa21/main/assignments/assn6/words.png\" width=\"500\" align=\"center\">"
   ]
  },
  {
   "cell_type": "markdown",
   "id": "3be827f9",
   "metadata": {},
   "source": [
    "Using only these assignment id $Z$ for each word, the following problems ask you \n",
    "to calculate the posterior topic proportions for each document, and word probabilities \n",
    "for one word in each of the three topics. To answer these questions you only need\n",
    "to use the basic properties of the Dirichlet distribution as a prior for \n",
    "a multinomial, as presented in class (and in the notes on Bayesian inference).\n"
   ]
  },
  {
   "cell_type": "markdown",
   "id": "912062e5",
   "metadata": {},
   "source": [
    "#### Problem 2.1: Per-document topic proportions\n",
    "\n",
    "Given the $Z$ values in the table, what are the posterior distributions of $\\theta_{d}$ for documents $D_{1}$, $D_{2}$ and $D_{3}$ from left to right. Assume the prior over $\\theta$ is \n",
    "$\\mbox{Dirichlet}(\\alpha, \\alpha, \\alpha)$."
   ]
  },
  {
   "cell_type": "markdown",
   "id": "dbdb00ad",
   "metadata": {},
   "source": [
    "$$\n",
    "P(\\theta_1,\\theta_2,\\theta_3 | D_1) = \\theta_1^{\\alpha+2} \\cdot \\theta_2^{\\alpha-1} \\cdot  \\theta_3^{\\alpha+1} = \\mbox{Dirichlet}(\\alpha + 3, \\alpha, \\alpha + 2)\n",
    "$$\n",
    "\n",
    "For the formula above, we found that Document 1 contains three times topic 1, zero times topic 2, and two times topic 3. \n",
    "\n",
    "$$\n",
    "P(\\theta_1,\\theta_2,\\theta_3 | D_2) = \\theta_1^{\\alpha+1} \\cdot \\theta_2^{\\alpha+2} \\cdot  \\theta_3^{\\alpha-1} = \\mbox{Dirichlet}(\\alpha + 2, \\alpha + 3, \\alpha)\n",
    "$$\n",
    "\n",
    "For the formula above, we found that Document 2 contains two times topic 1, three times topic 2, and zero times topic 3. \n",
    "\n",
    "$$\n",
    "P(\\theta_1,\\theta_2,\\theta_3 | D_3) = \\theta_1^{\\alpha-1} \\cdot \\theta_2^{\\alpha+2} \\cdot  \\theta_3^{\\alpha+1} = \\mbox{Dirichlet}(\\alpha, \\alpha + 3, \\alpha + 2)\n",
    "$$\n",
    "\n",
    "For the formula above, we found that Document 3 contains zero times topic 1, three times topic 2, and two times topic 3. "
   ]
  },
  {
   "cell_type": "markdown",
   "id": "84f978c9",
   "metadata": {},
   "source": [
    "#### Problem 2.2: Topics\n",
    "\n",
    "Here are the 15 words in our corpus:\n",
    "\n",
    "addiction, brother, baseball, catcher, daughter, divorce, drug, hit, inning, illegal, meth, mother, swing, son, steroids\n",
    "\n",
    "What is the posterior mean for the probability $p(\\mbox{addiction} | \\mbox{topic 1})$? \n",
    "Assume that the prior distribution over the topics is $\\mbox{Dirichlet}(\\eta,...\\eta)$."
   ]
  },
  {
   "cell_type": "markdown",
   "id": "c998e05a",
   "metadata": {},
   "source": [
    "$$\n",
    "P(addiction|topic \\: 1) = \\frac{\\eta}{5 + 15 \\eta}\n",
    "$$\n",
    "\n",
    "For the numerator in the equation above, we count how many times topic 1 is assigned to our given word, which is 0 times. In the denominator, we count the total amount of times that topic 1 is used on the words in our corpus, which is 5 times. "
   ]
  },
  {
   "cell_type": "markdown",
   "id": "5864c9b4",
   "metadata": {},
   "source": [
    "What is the posterior mean of the probability $p(\\mbox{baseball}| \\mbox{topic 2})$?"
   ]
  },
  {
   "cell_type": "markdown",
   "id": "ca8ddbbc",
   "metadata": {},
   "source": [
    "$$\n",
    "P(baseball|topic \\: 2) = \\frac{2+\\eta}{6 + 15 \\eta}\n",
    "$$\n",
    "\n",
    "For the numerator in the equation above, we count how many times topic 2 is assigned to our given word, which is 2 times. In the denominator, we count the total amount of times that topic 2 is used on the words in our corpus, which is 6 times. "
   ]
  },
  {
   "cell_type": "markdown",
   "id": "929ef399",
   "metadata": {},
   "source": [
    "What is the posterior mean of the probability $p(\\mbox{divorce} | \\mbox{topic 3})$?"
   ]
  },
  {
   "cell_type": "markdown",
   "id": "340a0c1f",
   "metadata": {},
   "source": [
    "$$\n",
    "P(divorce|topic \\: 3) = \\frac{1+\\eta}{4 + 15 \\eta}\n",
    "$$\n",
    "\n",
    "For the numerator in the equation above, we count how many times topic 3 is assigned to our given word, which is 1 times. In the denominator, we count the total amount of times that topic 3 is used on the words in our corpus, which is 4 times. "
   ]
  },
  {
   "cell_type": "markdown",
   "id": "403b18f9",
   "metadata": {},
   "source": [
    "## Problem 3: Read before you buy! (30 points)\n",
    "\n",
    "![zillow](https://raw.githubusercontent.com/YData123/sds265-fa21/main/assignments/assn6/zillow.png)\n",
    "\n",
    "### Overview of the problem\n",
    "\n",
    "Here we have a dataset of single family houses sold in Connecticut near the beginning of 2021, collected from [Zillow](https://www.zillow.com/homes/connecticut_rb/). You will build linear models of the price for which each house sold, based on its characteristics given in the real estate listing. Such characteristics include internal square footage, the year it was built, the bedroom count, the bathroom count, and the area of the lot. \n",
    "\n",
    "But there is also usually a lengthy description written by the real estate agent. Is there any additional information hidden in this description that would help improve the model of the price? This is the question we focus on in this problem.\n",
    "\n",
    "Answering such a question is difficult because the description is written in natural language with thousands of different words. Here we use topic models as a dimension reduction technique. Specifically, instead of using thousands of possible words, and how many times they show up in each house description, we reduce the words to the topic proportions $\\theta_d$ for each document, obtained by posterior inference. These proportions are combined with the other quantitative variables in a linear model with the logarithm of the house price as the response variable. \n",
    "\n",
    "*Important note:* At first glance, this problem looks really long. But this is deceiving. \n",
    "After reading in the data, we have you make some plots of the log-transformed variables. \n",
    "After that, you just need to run the code that leads up to training a 10-topic topic model, \n",
    "and fitting a linear model using the resulting topic proportions. After this, you are asked to compare the results to those obtained with a 3-topic model. To do this, you can simply copy the code used for the 10-topic model. After that, the crux of the problem is to analyze, understand, and describe the results.\n",
    "\n",
    "Acknowledgment: The data were scraped and the analysis was done by [Parker Holzer](https://parkerholzer.github.io/), as he began his search for a new house for his family after beginning a job as a data scientist. Thanks Parker!\n"
   ]
  },
  {
   "cell_type": "code",
   "execution_count": 53,
   "id": "55039a17",
   "metadata": {},
   "outputs": [],
   "source": [
    "import numpy as np\n",
    "import pandas as pd\n",
    "import re\n",
    "import gensim\n",
    "from collections import Counter\n",
    "import statsmodels.formula.api as sm\n",
    "import matplotlib.pyplot as plt\n",
    "%matplotlib inline"
   ]
  },
  {
   "cell_type": "markdown",
   "id": "b1cc2c16",
   "metadata": {},
   "source": [
    "### Read in and clean up the data"
   ]
  },
  {
   "cell_type": "code",
   "execution_count": 6,
   "id": "085e678b",
   "metadata": {
    "scrolled": true
   },
   "outputs": [
    {
     "name": "stdout",
     "output_type": "stream",
     "text": [
      "CPU times: user 124 ms, sys: 14.6 ms, total: 139 ms\n",
      "Wall time: 365 ms\n"
     ]
    }
   ],
   "source": [
    "%%time\n",
    "ct_homes = pd.read_csv('https://raw.githubusercontent.com/YData123/sds265-fa21/main/assignments/assn6/ct_zillow.csv')\n",
    "ct_homes.to_csv(\"CT_zillow_data.csv\", index=False)"
   ]
  },
  {
   "cell_type": "code",
   "execution_count": 7,
   "id": "6e203625",
   "metadata": {},
   "outputs": [],
   "source": [
    "ct_homes = pd.read_csv('CT_zillow_data.csv')"
   ]
  },
  {
   "cell_type": "code",
   "execution_count": 8,
   "id": "beea7872",
   "metadata": {},
   "outputs": [
    {
     "data": {
      "text/html": [
       "<div>\n",
       "<style scoped>\n",
       "    .dataframe tbody tr th:only-of-type {\n",
       "        vertical-align: middle;\n",
       "    }\n",
       "\n",
       "    .dataframe tbody tr th {\n",
       "        vertical-align: top;\n",
       "    }\n",
       "\n",
       "    .dataframe thead th {\n",
       "        text-align: right;\n",
       "    }\n",
       "</style>\n",
       "<table border=\"1\" class=\"dataframe\">\n",
       "  <thead>\n",
       "    <tr style=\"text-align: right;\">\n",
       "      <th></th>\n",
       "      <th>AREA</th>\n",
       "      <th>BED</th>\n",
       "      <th>BATH</th>\n",
       "      <th>BUILT</th>\n",
       "      <th>DESCRIPTION</th>\n",
       "      <th>LOTSIZE</th>\n",
       "      <th>PRICE</th>\n",
       "    </tr>\n",
       "  </thead>\n",
       "  <tbody>\n",
       "    <tr>\n",
       "      <th>0</th>\n",
       "      <td>1629.0</td>\n",
       "      <td>2.0</td>\n",
       "      <td>2.0</td>\n",
       "      <td>1889.0</td>\n",
       "      <td>Welcome home! Charming &amp; well kept, this 2 bed...</td>\n",
       "      <td>0.159986</td>\n",
       "      <td>224000.0</td>\n",
       "    </tr>\n",
       "    <tr>\n",
       "      <th>1</th>\n",
       "      <td>1278.0</td>\n",
       "      <td>3.0</td>\n",
       "      <td>2.0</td>\n",
       "      <td>1900.0</td>\n",
       "      <td>This adorable cape has a lot to offer.  You st...</td>\n",
       "      <td>0.179981</td>\n",
       "      <td>225000.0</td>\n",
       "    </tr>\n",
       "    <tr>\n",
       "      <th>2</th>\n",
       "      <td>1264.0</td>\n",
       "      <td>3.0</td>\n",
       "      <td>2.0</td>\n",
       "      <td>1988.0</td>\n",
       "      <td>This 1264 sqft Colonial with its 3 bedrooms an...</td>\n",
       "      <td>0.089991</td>\n",
       "      <td>224900.0</td>\n",
       "    </tr>\n",
       "    <tr>\n",
       "      <th>3</th>\n",
       "      <td>2054.0</td>\n",
       "      <td>3.0</td>\n",
       "      <td>3.0</td>\n",
       "      <td>1960.0</td>\n",
       "      <td>The perfect oversized ranch awaits you at 7 No...</td>\n",
       "      <td>0.569994</td>\n",
       "      <td>370000.0</td>\n",
       "    </tr>\n",
       "    <tr>\n",
       "      <th>4</th>\n",
       "      <td>4198.0</td>\n",
       "      <td>5.0</td>\n",
       "      <td>3.0</td>\n",
       "      <td>1972.0</td>\n",
       "      <td>Beautiful Colonial-3020 sqft. living space and...</td>\n",
       "      <td>0.939989</td>\n",
       "      <td>489999.0</td>\n",
       "    </tr>\n",
       "    <tr>\n",
       "      <th>...</th>\n",
       "      <td>...</td>\n",
       "      <td>...</td>\n",
       "      <td>...</td>\n",
       "      <td>...</td>\n",
       "      <td>...</td>\n",
       "      <td>...</td>\n",
       "      <td>...</td>\n",
       "    </tr>\n",
       "    <tr>\n",
       "      <th>1921</th>\n",
       "      <td>848.0</td>\n",
       "      <td>3.0</td>\n",
       "      <td>2.0</td>\n",
       "      <td>1948.0</td>\n",
       "      <td>This home sets at the beginning of a Cul-de-Sa...</td>\n",
       "      <td>0.189990</td>\n",
       "      <td>429900.0</td>\n",
       "    </tr>\n",
       "    <tr>\n",
       "      <th>1922</th>\n",
       "      <td>2400.0</td>\n",
       "      <td>4.0</td>\n",
       "      <td>4.0</td>\n",
       "      <td>2021.0</td>\n",
       "      <td>New home to be built. Amazing unobstructed wat...</td>\n",
       "      <td>0.079981</td>\n",
       "      <td>800000.0</td>\n",
       "    </tr>\n",
       "    <tr>\n",
       "      <th>1923</th>\n",
       "      <td>6538.0</td>\n",
       "      <td>7.0</td>\n",
       "      <td>7.0</td>\n",
       "      <td>2002.0</td>\n",
       "      <td>Can you say water views galore? Wake up to the...</td>\n",
       "      <td>0.079981</td>\n",
       "      <td>2700000.0</td>\n",
       "    </tr>\n",
       "    <tr>\n",
       "      <th>1924</th>\n",
       "      <td>4480.0</td>\n",
       "      <td>5.0</td>\n",
       "      <td>5.0</td>\n",
       "      <td>1890.0</td>\n",
       "      <td>NEW YEAR!  NEW FUTURE!    Escape NY to Connect...</td>\n",
       "      <td>0.849998</td>\n",
       "      <td>2550000.0</td>\n",
       "    </tr>\n",
       "    <tr>\n",
       "      <th>1925</th>\n",
       "      <td>3000.0</td>\n",
       "      <td>4.0</td>\n",
       "      <td>3.0</td>\n",
       "      <td>2020.0</td>\n",
       "      <td>One of the nicest new construction homes avail...</td>\n",
       "      <td>0.119995</td>\n",
       "      <td>1275000.0</td>\n",
       "    </tr>\n",
       "  </tbody>\n",
       "</table>\n",
       "<p>1926 rows × 7 columns</p>\n",
       "</div>"
      ],
      "text/plain": [
       "        AREA  BED  BATH   BUILT  \\\n",
       "0     1629.0  2.0   2.0  1889.0   \n",
       "1     1278.0  3.0   2.0  1900.0   \n",
       "2     1264.0  3.0   2.0  1988.0   \n",
       "3     2054.0  3.0   3.0  1960.0   \n",
       "4     4198.0  5.0   3.0  1972.0   \n",
       "...      ...  ...   ...     ...   \n",
       "1921   848.0  3.0   2.0  1948.0   \n",
       "1922  2400.0  4.0   4.0  2021.0   \n",
       "1923  6538.0  7.0   7.0  2002.0   \n",
       "1924  4480.0  5.0   5.0  1890.0   \n",
       "1925  3000.0  4.0   3.0  2020.0   \n",
       "\n",
       "                                            DESCRIPTION   LOTSIZE      PRICE  \n",
       "0     Welcome home! Charming & well kept, this 2 bed...  0.159986   224000.0  \n",
       "1     This adorable cape has a lot to offer.  You st...  0.179981   225000.0  \n",
       "2     This 1264 sqft Colonial with its 3 bedrooms an...  0.089991   224900.0  \n",
       "3     The perfect oversized ranch awaits you at 7 No...  0.569994   370000.0  \n",
       "4     Beautiful Colonial-3020 sqft. living space and...  0.939989   489999.0  \n",
       "...                                                 ...       ...        ...  \n",
       "1921  This home sets at the beginning of a Cul-de-Sa...  0.189990   429900.0  \n",
       "1922  New home to be built. Amazing unobstructed wat...  0.079981   800000.0  \n",
       "1923  Can you say water views galore? Wake up to the...  0.079981  2700000.0  \n",
       "1924  NEW YEAR!  NEW FUTURE!    Escape NY to Connect...  0.849998  2550000.0  \n",
       "1925  One of the nicest new construction homes avail...  0.119995  1275000.0  \n",
       "\n",
       "[1926 rows x 7 columns]"
      ]
     },
     "execution_count": 8,
     "metadata": {},
     "output_type": "execute_result"
    }
   ],
   "source": [
    "ct_homes"
   ]
  },
  {
   "cell_type": "markdown",
   "id": "bb729ce2",
   "metadata": {},
   "source": [
    "#### Transform the data\n",
    "\n",
    "We add columns to `ct_homes` called `logAREA`, `logLOTSIZE`, and `logPRICE` that take the logarithms of the corresponding columns in the original data. \n"
   ]
  },
  {
   "cell_type": "code",
   "execution_count": 55,
   "id": "98e47e26",
   "metadata": {},
   "outputs": [
    {
     "data": {
      "text/html": [
       "<div>\n",
       "<style scoped>\n",
       "    .dataframe tbody tr th:only-of-type {\n",
       "        vertical-align: middle;\n",
       "    }\n",
       "\n",
       "    .dataframe tbody tr th {\n",
       "        vertical-align: top;\n",
       "    }\n",
       "\n",
       "    .dataframe thead th {\n",
       "        text-align: right;\n",
       "    }\n",
       "</style>\n",
       "<table border=\"1\" class=\"dataframe\">\n",
       "  <thead>\n",
       "    <tr style=\"text-align: right;\">\n",
       "      <th></th>\n",
       "      <th>AREA</th>\n",
       "      <th>BED</th>\n",
       "      <th>BATH</th>\n",
       "      <th>BUILT</th>\n",
       "      <th>DESCRIPTION</th>\n",
       "      <th>LOTSIZE</th>\n",
       "      <th>PRICE</th>\n",
       "      <th>logAREA</th>\n",
       "      <th>logLOTSIZE</th>\n",
       "      <th>logPRICE</th>\n",
       "    </tr>\n",
       "  </thead>\n",
       "  <tbody>\n",
       "    <tr>\n",
       "      <th>0</th>\n",
       "      <td>1629.0</td>\n",
       "      <td>2.0</td>\n",
       "      <td>2.0</td>\n",
       "      <td>1889.0</td>\n",
       "      <td>Welcome home! Charming &amp; well kept, this 2 bed...</td>\n",
       "      <td>0.159986</td>\n",
       "      <td>224000.0</td>\n",
       "      <td>7.395722</td>\n",
       "      <td>-1.832669</td>\n",
       "      <td>12.319401</td>\n",
       "    </tr>\n",
       "    <tr>\n",
       "      <th>1</th>\n",
       "      <td>1278.0</td>\n",
       "      <td>3.0</td>\n",
       "      <td>2.0</td>\n",
       "      <td>1900.0</td>\n",
       "      <td>This adorable cape has a lot to offer.  You st...</td>\n",
       "      <td>0.179981</td>\n",
       "      <td>225000.0</td>\n",
       "      <td>7.153052</td>\n",
       "      <td>-1.714902</td>\n",
       "      <td>12.323856</td>\n",
       "    </tr>\n",
       "    <tr>\n",
       "      <th>2</th>\n",
       "      <td>1264.0</td>\n",
       "      <td>3.0</td>\n",
       "      <td>2.0</td>\n",
       "      <td>1988.0</td>\n",
       "      <td>This 1264 sqft Colonial with its 3 bedrooms an...</td>\n",
       "      <td>0.089991</td>\n",
       "      <td>224900.0</td>\n",
       "      <td>7.142037</td>\n",
       "      <td>-2.408049</td>\n",
       "      <td>12.323411</td>\n",
       "    </tr>\n",
       "    <tr>\n",
       "      <th>3</th>\n",
       "      <td>2054.0</td>\n",
       "      <td>3.0</td>\n",
       "      <td>3.0</td>\n",
       "      <td>1960.0</td>\n",
       "      <td>The perfect oversized ranch awaits you at 7 No...</td>\n",
       "      <td>0.569994</td>\n",
       "      <td>370000.0</td>\n",
       "      <td>7.627544</td>\n",
       "      <td>-0.562129</td>\n",
       "      <td>12.821258</td>\n",
       "    </tr>\n",
       "    <tr>\n",
       "      <th>4</th>\n",
       "      <td>4198.0</td>\n",
       "      <td>5.0</td>\n",
       "      <td>3.0</td>\n",
       "      <td>1972.0</td>\n",
       "      <td>Beautiful Colonial-3020 sqft. living space and...</td>\n",
       "      <td>0.939989</td>\n",
       "      <td>489999.0</td>\n",
       "      <td>8.342364</td>\n",
       "      <td>-0.061887</td>\n",
       "      <td>13.102159</td>\n",
       "    </tr>\n",
       "    <tr>\n",
       "      <th>...</th>\n",
       "      <td>...</td>\n",
       "      <td>...</td>\n",
       "      <td>...</td>\n",
       "      <td>...</td>\n",
       "      <td>...</td>\n",
       "      <td>...</td>\n",
       "      <td>...</td>\n",
       "      <td>...</td>\n",
       "      <td>...</td>\n",
       "      <td>...</td>\n",
       "    </tr>\n",
       "    <tr>\n",
       "      <th>1921</th>\n",
       "      <td>848.0</td>\n",
       "      <td>3.0</td>\n",
       "      <td>2.0</td>\n",
       "      <td>1948.0</td>\n",
       "      <td>This home sets at the beginning of a Cul-de-Sa...</td>\n",
       "      <td>0.189990</td>\n",
       "      <td>429900.0</td>\n",
       "      <td>6.742881</td>\n",
       "      <td>-1.660781</td>\n",
       "      <td>12.971308</td>\n",
       "    </tr>\n",
       "    <tr>\n",
       "      <th>1922</th>\n",
       "      <td>2400.0</td>\n",
       "      <td>4.0</td>\n",
       "      <td>4.0</td>\n",
       "      <td>2021.0</td>\n",
       "      <td>New home to be built. Amazing unobstructed wat...</td>\n",
       "      <td>0.079981</td>\n",
       "      <td>800000.0</td>\n",
       "      <td>7.783224</td>\n",
       "      <td>-2.525960</td>\n",
       "      <td>13.592367</td>\n",
       "    </tr>\n",
       "    <tr>\n",
       "      <th>1923</th>\n",
       "      <td>6538.0</td>\n",
       "      <td>7.0</td>\n",
       "      <td>7.0</td>\n",
       "      <td>2002.0</td>\n",
       "      <td>Can you say water views galore? Wake up to the...</td>\n",
       "      <td>0.079981</td>\n",
       "      <td>2700000.0</td>\n",
       "      <td>8.785387</td>\n",
       "      <td>-2.525960</td>\n",
       "      <td>14.808762</td>\n",
       "    </tr>\n",
       "    <tr>\n",
       "      <th>1924</th>\n",
       "      <td>4480.0</td>\n",
       "      <td>5.0</td>\n",
       "      <td>5.0</td>\n",
       "      <td>1890.0</td>\n",
       "      <td>NEW YEAR!  NEW FUTURE!    Escape NY to Connect...</td>\n",
       "      <td>0.849998</td>\n",
       "      <td>2550000.0</td>\n",
       "      <td>8.407378</td>\n",
       "      <td>-0.162521</td>\n",
       "      <td>14.751604</td>\n",
       "    </tr>\n",
       "    <tr>\n",
       "      <th>1925</th>\n",
       "      <td>3000.0</td>\n",
       "      <td>4.0</td>\n",
       "      <td>3.0</td>\n",
       "      <td>2020.0</td>\n",
       "      <td>One of the nicest new construction homes avail...</td>\n",
       "      <td>0.119995</td>\n",
       "      <td>1275000.0</td>\n",
       "      <td>8.006368</td>\n",
       "      <td>-2.120304</td>\n",
       "      <td>14.058457</td>\n",
       "    </tr>\n",
       "  </tbody>\n",
       "</table>\n",
       "<p>1926 rows × 10 columns</p>\n",
       "</div>"
      ],
      "text/plain": [
       "        AREA  BED  BATH   BUILT  \\\n",
       "0     1629.0  2.0   2.0  1889.0   \n",
       "1     1278.0  3.0   2.0  1900.0   \n",
       "2     1264.0  3.0   2.0  1988.0   \n",
       "3     2054.0  3.0   3.0  1960.0   \n",
       "4     4198.0  5.0   3.0  1972.0   \n",
       "...      ...  ...   ...     ...   \n",
       "1921   848.0  3.0   2.0  1948.0   \n",
       "1922  2400.0  4.0   4.0  2021.0   \n",
       "1923  6538.0  7.0   7.0  2002.0   \n",
       "1924  4480.0  5.0   5.0  1890.0   \n",
       "1925  3000.0  4.0   3.0  2020.0   \n",
       "\n",
       "                                            DESCRIPTION   LOTSIZE      PRICE  \\\n",
       "0     Welcome home! Charming & well kept, this 2 bed...  0.159986   224000.0   \n",
       "1     This adorable cape has a lot to offer.  You st...  0.179981   225000.0   \n",
       "2     This 1264 sqft Colonial with its 3 bedrooms an...  0.089991   224900.0   \n",
       "3     The perfect oversized ranch awaits you at 7 No...  0.569994   370000.0   \n",
       "4     Beautiful Colonial-3020 sqft. living space and...  0.939989   489999.0   \n",
       "...                                                 ...       ...        ...   \n",
       "1921  This home sets at the beginning of a Cul-de-Sa...  0.189990   429900.0   \n",
       "1922  New home to be built. Amazing unobstructed wat...  0.079981   800000.0   \n",
       "1923  Can you say water views galore? Wake up to the...  0.079981  2700000.0   \n",
       "1924  NEW YEAR!  NEW FUTURE!    Escape NY to Connect...  0.849998  2550000.0   \n",
       "1925  One of the nicest new construction homes avail...  0.119995  1275000.0   \n",
       "\n",
       "       logAREA  logLOTSIZE   logPRICE  \n",
       "0     7.395722   -1.832669  12.319401  \n",
       "1     7.153052   -1.714902  12.323856  \n",
       "2     7.142037   -2.408049  12.323411  \n",
       "3     7.627544   -0.562129  12.821258  \n",
       "4     8.342364   -0.061887  13.102159  \n",
       "...        ...         ...        ...  \n",
       "1921  6.742881   -1.660781  12.971308  \n",
       "1922  7.783224   -2.525960  13.592367  \n",
       "1923  8.785387   -2.525960  14.808762  \n",
       "1924  8.407378   -0.162521  14.751604  \n",
       "1925  8.006368   -2.120304  14.058457  \n",
       "\n",
       "[1926 rows x 10 columns]"
      ]
     },
     "execution_count": 55,
     "metadata": {},
     "output_type": "execute_result"
    }
   ],
   "source": [
    "ct_homes['logAREA'] = np.log(ct_homes['AREA'])\n",
    "ct_homes['logLOTSIZE'] = np.log(ct_homes['LOTSIZE'])\n",
    "ct_homes['logPRICE'] = np.log(ct_homes['PRICE'])\n",
    "ct_homes"
   ]
  },
  {
   "cell_type": "markdown",
   "id": "007fea17",
   "metadata": {},
   "source": [
    "#### 3.1 Plot the data \n",
    "\n",
    "1. Show histograms of each of the log-transformed columns.\n",
    "\n",
    "1. Our regression models will use these transformed values. Why might it be preferable to use the logarithms rather than the original data? Explain.\n"
   ]
  },
  {
   "cell_type": "code",
   "execution_count": 56,
   "id": "4585f5f2",
   "metadata": {},
   "outputs": [
    {
     "data": {
      "image/png": "[encoded data removed]",
      "text/plain": [
       "<Figure size 1008x288 with 3 Axes>"
      ]
     },
     "metadata": {
      "needs_background": "light"
     },
     "output_type": "display_data"
    },
    {
     "data": {
      "image/png": "[encoded data removed]",
      "text/plain": [
       "<Figure size 1008x288 with 3 Axes>"
      ]
     },
     "metadata": {
      "needs_background": "light"
     },
     "output_type": "display_data"
    }
   ],
   "source": [
    "f, axes = plt.subplots(nrows = 1, ncols = 3, figsize = (14, 4))\n",
    "axes = axes.ravel()\n",
    "axes[0].set_title(\"Log(Area)\")\n",
    "axes[0].hist(ct_homes['logAREA'], density=True, bins=30)  \n",
    "axes[0].set_ylabel('Probability')\n",
    "axes[0].set_xlabel('Data')\n",
    "axes[1].set_title(\"Log(Lotsize)\")\n",
    "axes[1].hist(ct_homes['logLOTSIZE'], density=True, bins=30)  \n",
    "axes[1].set_ylabel('Probability')\n",
    "axes[1].set_xlabel('Data')\n",
    "axes[2].set_title(\"Log(Price)\")\n",
    "axes[2].hist(ct_homes['logPRICE'], density=True, bins=30)  \n",
    "axes[2].set_ylabel('Probability')\n",
    "axes[2].set_xlabel('Data')\n",
    "f, axes = plt.subplots(nrows = 1, ncols = 3, figsize = (14, 4))\n",
    "axes = axes.ravel()\n",
    "axes[0].set_title(\"Area\")\n",
    "axes[0].hist(ct_homes['AREA'], density=True, bins=30)  \n",
    "axes[0].set_ylabel('Probability')\n",
    "axes[0].set_xlabel('Data')\n",
    "axes[1].set_title(\"Lotsize\")\n",
    "axes[1].hist(ct_homes['LOTSIZE'], density=True, bins=30)  \n",
    "axes[1].set_ylabel('Probability')\n",
    "axes[1].set_xlabel('Data')\n",
    "axes[2].set_title(\"Price\")\n",
    "axes[2].hist(ct_homes['PRICE'], density=True, bins=30)  \n",
    "axes[2].set_ylabel('Probability')\n",
    "axes[2].set_xlabel('Data')\n",
    "plt.show()"
   ]
  },
  {
   "cell_type": "markdown",
   "id": "6e7ac513",
   "metadata": {},
   "source": [
    "If one observes the original data of Area, Lotsize and Price, it can be seen that they are all very strongly positively skewed. This, for example, means we have a lot of houses which have small Areas or Lotsizes, and a couple of houses with large Areas or Lotsizes (but this does not mean they are outliers). To create a more symmetrical data-distribution, a log-distribution should be taken. This will also make sure that the residuals are more symmetrically distributed around zero and to achieve more homoscedasticity in the spread of the residuals. The previous two charachteristics are assumptions of the linear regression model.\n",
    "\n",
    "This log-transformation can also make the interpretation easier, for example: a 1\\% increase in Area would lead to a ceteris paribus $\\beta_{Area}$ \\% increase in the Costs (on average). "
   ]
  },
  {
   "cell_type": "markdown",
   "id": "edee745e",
   "metadata": {},
   "source": [
    "Let's look at one of the descriptions as an example."
   ]
  },
  {
   "cell_type": "code",
   "execution_count": 57,
   "id": "3c3daef6",
   "metadata": {},
   "outputs": [
    {
     "data": {
      "text/plain": [
       "\"One of Ridgefield's most admired homes, custom built with absolutely no expense spared. Stunning Stone and Clapboard New England Colonial with exceptional architectural details throughout, beautifully sited on 1.48 park-like acres. The heart of this home features an updated gourmet Kitchen with Dacor double ovens, Viking cook top and Sub Zero Refrigerator. Gorgeous Taj Mahal Quartz counters and island with Tumbled Limestone back splash. Stylish Living Room with propane fireplace and spacious Dining Room with large Butler's pantry also with quartz and tumbled marble. Handsome Cherry paneled Library and sun filled Family Room with fireplace and built-in cabinets and desk. The Upper level features a large Master Suite with custom marble bath and generous walk-in closet. Three Bedrooms are en suite; and two bedrooms share a lovely Jack n Jill Bathroom. Large, custom Laundry Room and over sized Bonus Room round out the second floor. Other convenient features include front and rear staircases, mud room with built-ins, and large pantry and utility closets. The finished Lower Level offers a second Family Room, Computer desk Stations, Game Room and fabulous temperature controlled Wine Cellar. New automatic whole house Generator and Rain Bird irrigation system are some of the special features. Close to all town with shopping, great restaurants, amazing entertainment venues and schools. Excellent NYC commute. This is one home not to be missed.\""
      ]
     },
     "execution_count": 57,
     "metadata": {},
     "output_type": "execute_result"
    }
   ],
   "source": [
    "example = 9\n",
    "ct_homes[\"DESCRIPTION\"][example]"
   ]
  },
  {
   "cell_type": "markdown",
   "id": "b12e8821",
   "metadata": {},
   "source": [
    "#### Helper functions\n",
    "\n",
    "The following two functions will be used to clean up the text a bit and separate into tokens"
   ]
  },
  {
   "cell_type": "code",
   "execution_count": 58,
   "id": "cbedf71a",
   "metadata": {},
   "outputs": [],
   "source": [
    "def cleanup_description(desc):\n",
    "    if type(desc) == float:\n",
    "        desc = \"\"\n",
    "    words = [re.sub(r'[^a-z]', '', \n",
    "                    w) for w in desc.lower().split(' ')]\n",
    "    return ' '.join(words)\n",
    "\n",
    "def reduce_to_vocabulary(desc, vocab):\n",
    "    return ' '.join([w for w in \n",
    "                     cleanup_description(desc).split(' ') \n",
    "                     if w in vocab])"
   ]
  },
  {
   "cell_type": "code",
   "execution_count": 59,
   "id": "6c989cde",
   "metadata": {},
   "outputs": [
    {
     "data": {
      "text/plain": [
       "'one of ridgefields most admired homes custom built with absolutely no expense spared stunning stone and clapboard new england colonial with exceptional architectural details throughout beautifully sited on  parklike acres the heart of this home features an updated gourmet kitchen with dacor double ovens viking cook top and sub zero refrigerator gorgeous taj mahal quartz counters and island with tumbled limestone back splash stylish living room with propane fireplace and spacious dining room with large butlers pantry also with quartz and tumbled marble handsome cherry paneled library and sun filled family room with fireplace and builtin cabinets and desk the upper level features a large master suite with custom marble bath and generous walkin closet three bedrooms are en suite and two bedrooms share a lovely jack n jill bathroom large custom laundry room and over sized bonus room round out the second floor other convenient features include front and rear staircases mud room with builtins and large pantry and utility closets the finished lower level offers a second family room computer desk stations game room and fabulous temperature controlled wine cellar new automatic whole house generator and rain bird irrigation system are some of the special features close to all town with shopping great restaurants amazing entertainment venues and schools excellent nyc commute this is one home not to be missed'"
      ]
     },
     "execution_count": 59,
     "metadata": {},
     "output_type": "execute_result"
    }
   ],
   "source": [
    "cleanup_description(ct_homes['DESCRIPTION'][example])"
   ]
  },
  {
   "cell_type": "markdown",
   "id": "fac07edb",
   "metadata": {},
   "source": [
    "\n",
    "#### Next we build a vocabulary of words"
   ]
  },
  {
   "cell_type": "code",
   "execution_count": 60,
   "id": "86c02f15",
   "metadata": {},
   "outputs": [],
   "source": [
    "# This will create a dictionary with the count for \n",
    "# Every word in the data set.\n",
    "vocab = Counter()\n",
    "for dsc in ct_homes['DESCRIPTION']:\n",
    "    vocab.update(cleanup_description(dsc).split(' '))"
   ]
  },
  {
   "cell_type": "code",
   "execution_count": 61,
   "id": "27183539",
   "metadata": {},
   "outputs": [
    {
     "name": "stdout",
     "output_type": "stream",
     "text": [
      "Number of unique tokens: 9738\n"
     ]
    }
   ],
   "source": [
    "print(\"Number of unique tokens: %d\" % len(vocab))"
   ]
  },
  {
   "cell_type": "markdown",
   "id": "954542ac",
   "metadata": {},
   "source": [
    "#### Remove words that are either too common or too rare"
   ]
  },
  {
   "cell_type": "code",
   "execution_count": 62,
   "id": "4accfa0d",
   "metadata": {},
   "outputs": [
    {
     "name": "stdout",
     "output_type": "stream",
     "text": [
      "Number of unique tokens: 2540\n"
     ]
    }
   ],
   "source": [
    "vocab = Counter(token for token in vocab.elements() \n",
    "                if vocab[token] > 5)\n",
    "stop_words = [item[0] for item \n",
    "              in vocab.most_common(50)]\n",
    "vocab = Counter(token for token in vocab.elements() \n",
    "                if token not in stop_words)\n",
    "print(\"Number of unique tokens: %d\" % len(vocab))"
   ]
  },
  {
   "cell_type": "markdown",
   "id": "f01e9ef8",
   "metadata": {},
   "source": [
    "#### Build a mapping between unique words and integers"
   ]
  },
  {
   "cell_type": "code",
   "execution_count": 63,
   "id": "2efda2f1",
   "metadata": {
    "scrolled": true
   },
   "outputs": [
    {
     "name": "stdout",
     "output_type": "stream",
     "text": [
      "Original description:\n",
      "---------------------\n",
      "One of Ridgefield's most admired homes, custom built with absolutely no expense spared. Stunning Stone and Clapboard New England Colonial with exceptional architectural details throughout, beautifully sited on 1.48 park-like acres. The heart of this home features an updated gourmet Kitchen with Dacor double ovens, Viking cook top and Sub Zero Refrigerator. Gorgeous Taj Mahal Quartz counters and island with Tumbled Limestone back splash. Stylish Living Room with propane fireplace and spacious Dining Room with large Butler's pantry also with quartz and tumbled marble. Handsome Cherry paneled Library and sun filled Family Room with fireplace and built-in cabinets and desk. The Upper level features a large Master Suite with custom marble bath and generous walk-in closet. Three Bedrooms are en suite; and two bedrooms share a lovely Jack n Jill Bathroom. Large, custom Laundry Room and over sized Bonus Room round out the second floor. Other convenient features include front and rear staircases, mud room with built-ins, and large pantry and utility closets. The finished Lower Level offers a second Family Room, Computer desk Stations, Game Room and fabulous temperature controlled Wine Cellar. New automatic whole house Generator and Rain Bird irrigation system are some of the special features. Close to all town with shopping, great restaurants, amazing entertainment venues and schools. Excellent NYC commute. This is one home not to be missed.\n",
      "\n",
      "Cleaned up text:\n",
      "----------------\n",
      "one of ridgefields most admired homes custom built with absolutely no expense spared stunning stone and clapboard new england colonial with exceptional architectural details throughout beautifully sited on  parklike acres the heart of this home features an updated gourmet kitchen with dacor double ovens viking cook top and sub zero refrigerator gorgeous taj mahal quartz counters and island with tumbled limestone back splash stylish living room with propane fireplace and spacious dining room with large butlers pantry also with quartz and tumbled marble handsome cherry paneled library and sun filled family room with fireplace and builtin cabinets and desk the upper level features a large master suite with custom marble bath and generous walkin closet three bedrooms are en suite and two bedrooms share a lovely jack n jill bathroom large custom laundry room and over sized bonus room round out the second floor other convenient features include front and rear staircases mud room with builtins and large pantry and utility closets the finished lower level offers a second family room computer desk stations game room and fabulous temperature controlled wine cellar new automatic whole house generator and rain bird irrigation system are some of the special features close to all town with shopping great restaurants amazing entertainment venues and schools excellent nyc commute this is one home not to be missed\n",
      "\n",
      "Reduced to vocabulary:\n",
      "----------------------\n",
      "one most homes custom built absolutely no expense spared stunning stone clapboard england colonial exceptional architectural details throughout beautifully sited parklike acres heart updated gourmet dacor double ovens viking cook top sub refrigerator gorgeous quartz counters island limestone back splash stylish propane spacious butlers pantry also quartz marble handsome cherry paneled library sun filled builtin cabinets desk upper suite custom marble generous walkin closet three are en suite two share lovely jack n jill bathroom custom laundry over sized bonus round out second other convenient include front rear staircases mud builtins pantry utility closets finished lower second desk stations game fabulous controlled wine cellar automatic whole generator rain bird irrigation system are some special close town shopping restaurants amazing entertainment schools excellent nyc commute one not missed\n"
     ]
    }
   ],
   "source": [
    "desc = ct_homes['DESCRIPTION'][example]\n",
    "print('Original description:\\n---------------------')\n",
    "print(desc)\n",
    "\n",
    "print('\\nCleaned up text:\\n----------------')\n",
    "print(cleanup_description(desc))\n",
    "\n",
    "print('\\nReduced to vocabulary:\\n----------------------')\n",
    "print(reduce_to_vocabulary(desc, vocab))"
   ]
  },
  {
   "cell_type": "markdown",
   "id": "0b830e76",
   "metadata": {},
   "source": [
    "#### Build a mapping between unique words and integers"
   ]
  },
  {
   "cell_type": "code",
   "execution_count": 64,
   "id": "15dff391",
   "metadata": {},
   "outputs": [
    {
     "name": "stdout",
     "output_type": "stream",
     "text": [
      "Number of tokens mapped: 2540\n",
      "Identifier for 'nyc': 477\n",
      "Word for identifier 477: nyc\n"
     ]
    }
   ],
   "source": [
    "id2word = {idx: pair[0] for idx, pair in enumerate(vocab.items())}\n",
    "word2id = {pair[0]: idx for idx, pair in enumerate(vocab.items())}\n",
    "\n",
    "s = 'nyc'\n",
    "print(\"Number of tokens mapped: %d\" % len(id2word))\n",
    "print(\"Identifier for '%s': %d\" % (s,word2id[s]))\n",
    "print(\"Word for identifier %d: %s\" % (word2id[s], \n",
    "                                      id2word[word2id[s]]))"
   ]
  },
  {
   "cell_type": "markdown",
   "id": "5db1348d",
   "metadata": {},
   "source": [
    "#### Map to word id format\n",
    "\n",
    "Now, use the format required to build a language model, mapping each word to its id, "
   ]
  },
  {
   "cell_type": "code",
   "execution_count": 65,
   "id": "3ae67bde",
   "metadata": {},
   "outputs": [],
   "source": [
    "tokens = []\n",
    "for dsc in ct_homes['DESCRIPTION']:\n",
    "    clean = reduce_to_vocabulary(cleanup_description(dsc), \n",
    "                                 vocab)\n",
    "    toks = clean.split(' ')\n",
    "    tokens.append(toks)"
   ]
  },
  {
   "cell_type": "code",
   "execution_count": 66,
   "id": "41dbd7a0",
   "metadata": {},
   "outputs": [
    {
     "name": "stdout",
     "output_type": "stream",
     "text": [
      "Abstract, tokenized:\n",
      " ['one', 'most', 'homes', 'custom', 'built', 'absolutely', 'no', 'expense', 'spared', 'stunning', 'stone', 'clapboard', 'england', 'colonial', 'exceptional', 'architectural', 'details', 'throughout', 'beautifully', 'sited', 'parklike', 'acres', 'heart', 'updated', 'gourmet', 'dacor', 'double', 'ovens', 'viking', 'cook', 'top', 'sub', 'refrigerator', 'gorgeous', 'quartz', 'counters', 'island', 'limestone', 'back', 'splash', 'stylish', 'propane', 'spacious', 'butlers', 'pantry', 'also', 'quartz', 'marble', 'handsome', 'cherry', 'paneled', 'library', 'sun', 'filled', 'builtin', 'cabinets', 'desk', 'upper', 'suite', 'custom', 'marble', 'generous', 'walkin', 'closet', 'three', 'are', 'en', 'suite', 'two', 'share', 'lovely', 'jack', 'n', 'jill', 'bathroom', 'custom', 'laundry', 'over', 'sized', 'bonus', 'round', 'out', 'second', 'other', 'convenient', 'include', 'front', 'rear', 'staircases', 'mud', 'builtins', 'pantry', 'utility', 'closets', 'finished', 'lower', 'second', 'desk', 'stations', 'game', 'fabulous', 'controlled', 'wine', 'cellar', 'automatic', 'whole', 'generator', 'rain', 'bird', 'irrigation', 'system', 'are', 'some', 'special', 'close', 'town', 'shopping', 'restaurants', 'amazing', 'entertainment', 'schools', 'excellent', 'nyc', 'commute', 'one', 'not', 'missed'] \n",
      "\n",
      "Abstract, in corpus format:\n",
      " [(481, 1), (79, 1), (386, 2), (155, 1), (399, 1), (482, 1), (483, 1), (326, 1), (484, 1), (115, 1), (485, 1), (141, 2), (486, 1), (46, 1), (304, 1), (487, 1), (488, 1), (41, 2), (489, 1), (490, 1), (491, 1), (492, 1), (325, 1), (493, 1), (494, 1), (350, 1), (495, 1), (496, 1), (345, 2), (497, 1), (498, 1), (499, 1), (77, 1), (500, 2), (501, 2), (502, 1), (503, 1), (25, 1), (50, 1), (51, 1), (504, 1), (380, 1), (153, 1), (252, 1), (78, 1)]\n"
     ]
    }
   ],
   "source": [
    "corpus = []\n",
    "for toks in tokens:\n",
    "    tkn_count = Counter(toks)\n",
    "    corpus.append([(word2id[item[0]], item[1]) for item \n",
    "                   in tkn_count.items()])\n",
    "    \n",
    "dsc = ct_homes['DESCRIPTION'][example]\n",
    "clean = reduce_to_vocabulary(cleanup_description(dsc), \n",
    "                             vocab)\n",
    "toks = clean.split(' ')\n",
    "print(\"Abstract, tokenized:\\n\", toks, \"\\n\")\n",
    "print(\"Abstract, in corpus format:\\n\", corpus[10])"
   ]
  },
  {
   "cell_type": "markdown",
   "id": "bac0d664",
   "metadata": {},
   "source": [
    "#### Build a Topic Model with 10 topics\n",
    "\n",
    "Note: Don't worry about the various settings used in the call to `LdaModel`. If you want to read up on these, just check out the documentation. \n"
   ]
  },
  {
   "cell_type": "code",
   "execution_count": 67,
   "id": "ad383399",
   "metadata": {
    "scrolled": true
   },
   "outputs": [
    {
     "name": "stdout",
     "output_type": "stream",
     "text": [
      "CPU times: user 3.66 s, sys: 2.78 ms, total: 3.66 s\n",
      "Wall time: 3.66 s\n"
     ]
    }
   ],
   "source": [
    "%%time\n",
    "tm = gensim.models.ldamodel.LdaModel(corpus=corpus,\n",
    "                                     id2word=id2word,\n",
    "                                     num_topics=10, \n",
    "                                     random_state=100,\n",
    "                                     chunksize=100,\n",
    "                                     passes=10,\n",
    "                                     alpha='auto',\n",
    "                                     per_word_topics=True)"
   ]
  },
  {
   "cell_type": "code",
   "execution_count": 68,
   "id": "5b9eeae5",
   "metadata": {},
   "outputs": [
    {
     "data": {
      "text/html": [
       "<div>\n",
       "<style scoped>\n",
       "    .dataframe tbody tr th:only-of-type {\n",
       "        vertical-align: middle;\n",
       "    }\n",
       "\n",
       "    .dataframe tbody tr th {\n",
       "        vertical-align: top;\n",
       "    }\n",
       "\n",
       "    .dataframe thead th {\n",
       "        text-align: right;\n",
       "    }\n",
       "</style>\n",
       "<table border=\"1\" class=\"dataframe\">\n",
       "  <thead>\n",
       "    <tr style=\"text-align: right;\">\n",
       "      <th></th>\n",
       "      <th>word rank</th>\n",
       "      <th>topic 0</th>\n",
       "      <th>topic 1</th>\n",
       "      <th>topic 2</th>\n",
       "      <th>topic 3</th>\n",
       "      <th>topic 4</th>\n",
       "      <th>topic 5</th>\n",
       "      <th>topic 6</th>\n",
       "      <th>topic 7</th>\n",
       "      <th>topic 8</th>\n",
       "      <th>topic 9</th>\n",
       "    </tr>\n",
       "  </thead>\n",
       "  <tbody>\n",
       "    <tr>\n",
       "      <th>0</th>\n",
       "      <td>1</td>\n",
       "      <td>create</td>\n",
       "      <td>property</td>\n",
       "      <td>spacious</td>\n",
       "      <td>waterfront</td>\n",
       "      <td>north</td>\n",
       "      <td>will</td>\n",
       "      <td>beach</td>\n",
       "      <td>guests</td>\n",
       "      <td>farm</td>\n",
       "      <td>custom</td>\n",
       "    </tr>\n",
       "    <tr>\n",
       "      <th>1</th>\n",
       "      <td>2</td>\n",
       "      <td>architect</td>\n",
       "      <td>it</td>\n",
       "      <td>additional</td>\n",
       "      <td>ft</td>\n",
       "      <td>boasts</td>\n",
       "      <td>roof</td>\n",
       "      <td>water</td>\n",
       "      <td>solar</td>\n",
       "      <td>farmhouse</td>\n",
       "      <td>suite</td>\n",
       "    </tr>\n",
       "    <tr>\n",
       "      <th>2</th>\n",
       "      <td>3</td>\n",
       "      <td>premier</td>\n",
       "      <td>own</td>\n",
       "      <td>main</td>\n",
       "      <td>sq</td>\n",
       "      <td>provides</td>\n",
       "      <td>well</td>\n",
       "      <td>sound</td>\n",
       "      <td>panels</td>\n",
       "      <td>antique</td>\n",
       "      <td>island</td>\n",
       "    </tr>\n",
       "    <tr>\n",
       "      <th>3</th>\n",
       "      <td>4</td>\n",
       "      <td>indoor</td>\n",
       "      <td>location</td>\n",
       "      <td>perfect</td>\n",
       "      <td>milford</td>\n",
       "      <td>state</td>\n",
       "      <td>have</td>\n",
       "      <td>views</td>\n",
       "      <td>rock</td>\n",
       "      <td>cheshire</td>\n",
       "      <td>by</td>\n",
       "    </tr>\n",
       "    <tr>\n",
       "      <th>4</th>\n",
       "      <td>5</td>\n",
       "      <td>shaker</td>\n",
       "      <td>at</td>\n",
       "      <td>bathroom</td>\n",
       "      <td>unique</td>\n",
       "      <td>morning</td>\n",
       "      <td>newer</td>\n",
       "      <td>long</td>\n",
       "      <td>metro</td>\n",
       "      <td>trees</td>\n",
       "      <td>pool</td>\n",
       "    </tr>\n",
       "    <tr>\n",
       "      <th>5</th>\n",
       "      <td>6</td>\n",
       "      <td>kayaks</td>\n",
       "      <td>can</td>\n",
       "      <td>two</td>\n",
       "      <td>built</td>\n",
       "      <td>fire</td>\n",
       "      <td>one</td>\n",
       "      <td>miles</td>\n",
       "      <td>salt</td>\n",
       "      <td>better</td>\n",
       "      <td>views</td>\n",
       "    </tr>\n",
       "    <tr>\n",
       "      <th>6</th>\n",
       "      <td>7</td>\n",
       "      <td>acreage</td>\n",
       "      <td>opportunity</td>\n",
       "      <td>lower</td>\n",
       "      <td>construction</td>\n",
       "      <td>many</td>\n",
       "      <td>water</td>\n",
       "      <td>post</td>\n",
       "      <td>masterpiece</td>\n",
       "      <td>association</td>\n",
       "      <td>stone</td>\n",
       "    </tr>\n",
       "    <tr>\n",
       "      <th>7</th>\n",
       "      <td>8</td>\n",
       "      <td>restored</td>\n",
       "      <td>close</td>\n",
       "      <td>finished</td>\n",
       "      <td>if</td>\n",
       "      <td>garden</td>\n",
       "      <td>been</td>\n",
       "      <td>steps</td>\n",
       "      <td>energy</td>\n",
       "      <td>chestnut</td>\n",
       "      <td>built</td>\n",
       "    </tr>\n",
       "    <tr>\n",
       "      <th>8</th>\n",
       "      <td>9</td>\n",
       "      <td>beginning</td>\n",
       "      <td>town</td>\n",
       "      <td>throughout</td>\n",
       "      <td>yale</td>\n",
       "      <td>work</td>\n",
       "      <td>by</td>\n",
       "      <td>directly</td>\n",
       "      <td>amp</td>\n",
       "      <td>original</td>\n",
       "      <td>ceilings</td>\n",
       "    </tr>\n",
       "    <tr>\n",
       "      <th>9</th>\n",
       "      <td>10</td>\n",
       "      <td>ny</td>\n",
       "      <td>come</td>\n",
       "      <td>beautiful</td>\n",
       "      <td>barn</td>\n",
       "      <td>coffee</td>\n",
       "      <td>ranch</td>\n",
       "      <td>across</td>\n",
       "      <td>service</td>\n",
       "      <td>historic</td>\n",
       "      <td>stunning</td>\n",
       "    </tr>\n",
       "    <tr>\n",
       "      <th>10</th>\n",
       "      <td>11</td>\n",
       "      <td>coveted</td>\n",
       "      <td>train</td>\n",
       "      <td>car</td>\n",
       "      <td>yet</td>\n",
       "      <td>allows</td>\n",
       "      <td>out</td>\n",
       "      <td>sunsets</td>\n",
       "      <td>cars</td>\n",
       "      <td>converted</td>\n",
       "      <td>doors</td>\n",
       "    </tr>\n",
       "    <tr>\n",
       "      <th>11</th>\n",
       "      <td>12</td>\n",
       "      <td>landscape</td>\n",
       "      <td>shopping</td>\n",
       "      <td>first</td>\n",
       "      <td>build</td>\n",
       "      <td>original</td>\n",
       "      <td>windows</td>\n",
       "      <td>experience</td>\n",
       "      <td>accommodate</td>\n",
       "      <td>elements</td>\n",
       "      <td>high</td>\n",
       "    </tr>\n",
       "    <tr>\n",
       "      <th>12</th>\n",
       "      <td>13</td>\n",
       "      <td>stained</td>\n",
       "      <td>only</td>\n",
       "      <td>walk</td>\n",
       "      <td>road</td>\n",
       "      <td>sits</td>\n",
       "      <td>basement</td>\n",
       "      <td>skylight</td>\n",
       "      <td>shelving</td>\n",
       "      <td>grade</td>\n",
       "      <td>ceiling</td>\n",
       "    </tr>\n",
       "    <tr>\n",
       "      <th>13</th>\n",
       "      <td>14</td>\n",
       "      <td>gateway</td>\n",
       "      <td>minutes</td>\n",
       "      <td>storage</td>\n",
       "      <td>harbor</td>\n",
       "      <td>charm</td>\n",
       "      <td>owner</td>\n",
       "      <td>unobstructed</td>\n",
       "      <td>paradise</td>\n",
       "      <td>taken</td>\n",
       "      <td>w</td>\n",
       "    </tr>\n",
       "    <tr>\n",
       "      <th>14</th>\n",
       "      <td>15</td>\n",
       "      <td>kayak</td>\n",
       "      <td>located</td>\n",
       "      <td>granite</td>\n",
       "      <td>few</td>\n",
       "      <td>warm</td>\n",
       "      <td>yard</td>\n",
       "      <td>consists</td>\n",
       "      <td>moving</td>\n",
       "      <td>vintage</td>\n",
       "      <td>homes</td>\n",
       "    </tr>\n",
       "  </tbody>\n",
       "</table>\n",
       "</div>"
      ],
      "text/plain": [
       "    word rank    topic 0      topic 1     topic 2       topic 3   topic 4  \\\n",
       "0           1     create     property    spacious    waterfront     north   \n",
       "1           2  architect           it  additional            ft    boasts   \n",
       "2           3    premier          own        main            sq  provides   \n",
       "3           4     indoor     location     perfect       milford     state   \n",
       "4           5     shaker           at    bathroom        unique   morning   \n",
       "5           6     kayaks          can         two         built      fire   \n",
       "6           7    acreage  opportunity       lower  construction      many   \n",
       "7           8   restored        close    finished            if    garden   \n",
       "8           9  beginning         town  throughout          yale      work   \n",
       "9          10         ny         come   beautiful          barn    coffee   \n",
       "10         11    coveted        train         car           yet    allows   \n",
       "11         12  landscape     shopping       first         build  original   \n",
       "12         13    stained         only        walk          road      sits   \n",
       "13         14    gateway      minutes     storage        harbor     charm   \n",
       "14         15      kayak      located     granite           few      warm   \n",
       "\n",
       "     topic 5       topic 6      topic 7      topic 8   topic 9  \n",
       "0       will         beach       guests         farm    custom  \n",
       "1       roof         water        solar    farmhouse     suite  \n",
       "2       well         sound       panels      antique    island  \n",
       "3       have         views         rock     cheshire        by  \n",
       "4      newer          long        metro        trees      pool  \n",
       "5        one         miles         salt       better     views  \n",
       "6      water          post  masterpiece  association     stone  \n",
       "7       been         steps       energy     chestnut     built  \n",
       "8         by      directly          amp     original  ceilings  \n",
       "9      ranch        across      service     historic  stunning  \n",
       "10       out       sunsets         cars    converted     doors  \n",
       "11   windows    experience  accommodate     elements      high  \n",
       "12  basement      skylight     shelving        grade   ceiling  \n",
       "13     owner  unobstructed     paradise        taken         w  \n",
       "14      yard      consists       moving      vintage     homes  "
      ]
     },
     "execution_count": 68,
     "metadata": {},
     "output_type": "execute_result"
    }
   ],
   "source": [
    "num_topics = 10\n",
    "num_words = 15\n",
    "top_words = pd.DataFrame({'word rank': np.arange(1,num_words+1)})\n",
    "for k in np.arange(num_topics): \n",
    "    topic = tm.get_topic_terms(k, num_words)\n",
    "    words = [id2word[topic[i][0]] for i in np.arange(num_words)]\n",
    "    probs = [topic[i][1] for i in np.arange(num_words)]\n",
    "    top_words['topic %d' % k] = words\n",
    "\n",
    "top_words"
   ]
  },
  {
   "cell_type": "code",
   "execution_count": 69,
   "id": "453cad7f",
   "metadata": {},
   "outputs": [
    {
     "data": {
      "text/html": [
       "<div>\n",
       "<style scoped>\n",
       "    .dataframe tbody tr th:only-of-type {\n",
       "        vertical-align: middle;\n",
       "    }\n",
       "\n",
       "    .dataframe tbody tr th {\n",
       "        vertical-align: top;\n",
       "    }\n",
       "\n",
       "    .dataframe thead th {\n",
       "        text-align: right;\n",
       "    }\n",
       "</style>\n",
       "<table border=\"1\" class=\"dataframe\">\n",
       "  <thead>\n",
       "    <tr style=\"text-align: right;\">\n",
       "      <th></th>\n",
       "      <th>Topic</th>\n",
       "      <th>Probabilities</th>\n",
       "    </tr>\n",
       "  </thead>\n",
       "  <tbody>\n",
       "    <tr>\n",
       "      <th>0</th>\n",
       "      <td>1</td>\n",
       "      <td>0.044949</td>\n",
       "    </tr>\n",
       "    <tr>\n",
       "      <th>1</th>\n",
       "      <td>2</td>\n",
       "      <td>0.308955</td>\n",
       "    </tr>\n",
       "    <tr>\n",
       "      <th>2</th>\n",
       "      <td>3</td>\n",
       "      <td>0.013631</td>\n",
       "    </tr>\n",
       "    <tr>\n",
       "      <th>3</th>\n",
       "      <td>4</td>\n",
       "      <td>0.014789</td>\n",
       "    </tr>\n",
       "    <tr>\n",
       "      <th>4</th>\n",
       "      <td>5</td>\n",
       "      <td>0.034338</td>\n",
       "    </tr>\n",
       "    <tr>\n",
       "      <th>5</th>\n",
       "      <td>9</td>\n",
       "      <td>0.568486</td>\n",
       "    </tr>\n",
       "  </tbody>\n",
       "</table>\n",
       "</div>"
      ],
      "text/plain": [
       "   Topic  Probabilities\n",
       "0      1       0.044949\n",
       "1      2       0.308955\n",
       "2      3       0.013631\n",
       "3      4       0.014789\n",
       "4      5       0.034338\n",
       "5      9       0.568486"
      ]
     },
     "execution_count": 69,
     "metadata": {},
     "output_type": "execute_result"
    }
   ],
   "source": [
    "topic_dist = tm.get_document_topics(corpus[example])\n",
    "topics = [pair[0] for pair in topic_dist]\n",
    "probabilities = [pair[1] for pair in topic_dist]\n",
    "topic_dist_table = pd.DataFrame()\n",
    "topic_dist_table['Topic'] = topics\n",
    "topic_dist_table['Probabilities'] = probabilities\n",
    "topic_dist_table"
   ]
  },
  {
   "cell_type": "code",
   "execution_count": 70,
   "id": "4f3d8a38",
   "metadata": {},
   "outputs": [
    {
     "data": {
      "image/png": "[encoded data removed]",
      "text/plain": [
       "<Figure size 792x288 with 1 Axes>"
      ]
     },
     "metadata": {
      "needs_background": "light"
     },
     "output_type": "display_data"
    }
   ],
   "source": [
    "import matplotlib.pyplot as plt\n",
    "%matplotlib inline\n",
    "\n",
    "fig = plt.figure()\n",
    "fig.set_size_inches(11,4)\n",
    "plt.bar(topic_dist_table['Topic'], \n",
    "        topic_dist_table['Probabilities'], \n",
    "        align='center', alpha=1, \n",
    "        color='salmon')\n",
    "plt.xlabel('topic')\n",
    "plt.ylabel('probability')\n",
    "plt.title('Per Topic Probability Distribution')\n",
    "plt.show()"
   ]
  },
  {
   "cell_type": "markdown",
   "id": "9b9cefe4",
   "metadata": {},
   "source": [
    "### Include the topic proportions $\\theta_d$ for each house \n"
   ]
  },
  {
   "cell_type": "code",
   "execution_count": 71,
   "id": "f5ec87ed",
   "metadata": {},
   "outputs": [],
   "source": [
    "num_topics = 10\n",
    "theta = pd.DataFrame({\"Theta0\": np.zeros(ct_homes.shape[0])})\n",
    "for t in np.arange(1,num_topics):\n",
    "    theta[\"Theta\"+str(t)] = np.zeros(ct_homes.shape[0])\n",
    "    \n",
    "for i in np.arange(ct_homes.shape[0]):\n",
    "    for t in tm.get_document_topics(corpus[i]):\n",
    "        theta.loc[i,\"Theta\"+str(t[0])] = t[1]"
   ]
  },
  {
   "cell_type": "code",
   "execution_count": 72,
   "id": "61644b6b",
   "metadata": {},
   "outputs": [
    {
     "data": {
      "text/html": [
       "<div>\n",
       "<style scoped>\n",
       "    .dataframe tbody tr th:only-of-type {\n",
       "        vertical-align: middle;\n",
       "    }\n",
       "\n",
       "    .dataframe tbody tr th {\n",
       "        vertical-align: top;\n",
       "    }\n",
       "\n",
       "    .dataframe thead th {\n",
       "        text-align: right;\n",
       "    }\n",
       "</style>\n",
       "<table border=\"1\" class=\"dataframe\">\n",
       "  <thead>\n",
       "    <tr style=\"text-align: right;\">\n",
       "      <th></th>\n",
       "      <th>AREA</th>\n",
       "      <th>BED</th>\n",
       "      <th>BATH</th>\n",
       "      <th>BUILT</th>\n",
       "      <th>DESCRIPTION</th>\n",
       "      <th>LOTSIZE</th>\n",
       "      <th>PRICE</th>\n",
       "      <th>logAREA</th>\n",
       "      <th>logLOTSIZE</th>\n",
       "      <th>logPRICE</th>\n",
       "      <th>Theta0</th>\n",
       "      <th>Theta1</th>\n",
       "      <th>Theta2</th>\n",
       "      <th>Theta3</th>\n",
       "      <th>Theta4</th>\n",
       "      <th>Theta5</th>\n",
       "      <th>Theta6</th>\n",
       "      <th>Theta7</th>\n",
       "      <th>Theta8</th>\n",
       "      <th>Theta9</th>\n",
       "    </tr>\n",
       "  </thead>\n",
       "  <tbody>\n",
       "    <tr>\n",
       "      <th>0</th>\n",
       "      <td>1629.0</td>\n",
       "      <td>2.0</td>\n",
       "      <td>2.0</td>\n",
       "      <td>1889.0</td>\n",
       "      <td>Welcome home! Charming &amp; well kept, this 2 bed...</td>\n",
       "      <td>0.159986</td>\n",
       "      <td>224000.0</td>\n",
       "      <td>7.395722</td>\n",
       "      <td>-1.832669</td>\n",
       "      <td>12.319401</td>\n",
       "      <td>0.000000</td>\n",
       "      <td>0.217734</td>\n",
       "      <td>0.307562</td>\n",
       "      <td>0.013005</td>\n",
       "      <td>0.015983</td>\n",
       "      <td>0.276440</td>\n",
       "      <td>0.000000</td>\n",
       "      <td>0.068734</td>\n",
       "      <td>0.0</td>\n",
       "      <td>0.090220</td>\n",
       "    </tr>\n",
       "    <tr>\n",
       "      <th>1</th>\n",
       "      <td>1278.0</td>\n",
       "      <td>3.0</td>\n",
       "      <td>2.0</td>\n",
       "      <td>1900.0</td>\n",
       "      <td>This adorable cape has a lot to offer.  You st...</td>\n",
       "      <td>0.179981</td>\n",
       "      <td>225000.0</td>\n",
       "      <td>7.153052</td>\n",
       "      <td>-1.714902</td>\n",
       "      <td>12.323856</td>\n",
       "      <td>0.058219</td>\n",
       "      <td>0.071381</td>\n",
       "      <td>0.402323</td>\n",
       "      <td>0.012686</td>\n",
       "      <td>0.015575</td>\n",
       "      <td>0.241166</td>\n",
       "      <td>0.000000</td>\n",
       "      <td>0.132528</td>\n",
       "      <td>0.0</td>\n",
       "      <td>0.056359</td>\n",
       "    </tr>\n",
       "    <tr>\n",
       "      <th>2</th>\n",
       "      <td>1264.0</td>\n",
       "      <td>3.0</td>\n",
       "      <td>2.0</td>\n",
       "      <td>1988.0</td>\n",
       "      <td>This 1264 sqft Colonial with its 3 bedrooms an...</td>\n",
       "      <td>0.089991</td>\n",
       "      <td>224900.0</td>\n",
       "      <td>7.142037</td>\n",
       "      <td>-2.408049</td>\n",
       "      <td>12.323411</td>\n",
       "      <td>0.000000</td>\n",
       "      <td>0.585885</td>\n",
       "      <td>0.156176</td>\n",
       "      <td>0.010631</td>\n",
       "      <td>0.016616</td>\n",
       "      <td>0.139861</td>\n",
       "      <td>0.033774</td>\n",
       "      <td>0.019388</td>\n",
       "      <td>0.0</td>\n",
       "      <td>0.030921</td>\n",
       "    </tr>\n",
       "    <tr>\n",
       "      <th>3</th>\n",
       "      <td>2054.0</td>\n",
       "      <td>3.0</td>\n",
       "      <td>3.0</td>\n",
       "      <td>1960.0</td>\n",
       "      <td>The perfect oversized ranch awaits you at 7 No...</td>\n",
       "      <td>0.569994</td>\n",
       "      <td>370000.0</td>\n",
       "      <td>7.627544</td>\n",
       "      <td>-0.562129</td>\n",
       "      <td>12.821258</td>\n",
       "      <td>0.018890</td>\n",
       "      <td>0.024961</td>\n",
       "      <td>0.828652</td>\n",
       "      <td>0.000000</td>\n",
       "      <td>0.010878</td>\n",
       "      <td>0.073782</td>\n",
       "      <td>0.000000</td>\n",
       "      <td>0.000000</td>\n",
       "      <td>0.0</td>\n",
       "      <td>0.030547</td>\n",
       "    </tr>\n",
       "    <tr>\n",
       "      <th>4</th>\n",
       "      <td>4198.0</td>\n",
       "      <td>5.0</td>\n",
       "      <td>3.0</td>\n",
       "      <td>1972.0</td>\n",
       "      <td>Beautiful Colonial-3020 sqft. living space and...</td>\n",
       "      <td>0.939989</td>\n",
       "      <td>489999.0</td>\n",
       "      <td>8.342364</td>\n",
       "      <td>-0.061887</td>\n",
       "      <td>13.102159</td>\n",
       "      <td>0.000000</td>\n",
       "      <td>0.066091</td>\n",
       "      <td>0.488584</td>\n",
       "      <td>0.000000</td>\n",
       "      <td>0.036447</td>\n",
       "      <td>0.311831</td>\n",
       "      <td>0.000000</td>\n",
       "      <td>0.000000</td>\n",
       "      <td>0.0</td>\n",
       "      <td>0.076273</td>\n",
       "    </tr>\n",
       "    <tr>\n",
       "      <th>...</th>\n",
       "      <td>...</td>\n",
       "      <td>...</td>\n",
       "      <td>...</td>\n",
       "      <td>...</td>\n",
       "      <td>...</td>\n",
       "      <td>...</td>\n",
       "      <td>...</td>\n",
       "      <td>...</td>\n",
       "      <td>...</td>\n",
       "      <td>...</td>\n",
       "      <td>...</td>\n",
       "      <td>...</td>\n",
       "      <td>...</td>\n",
       "      <td>...</td>\n",
       "      <td>...</td>\n",
       "      <td>...</td>\n",
       "      <td>...</td>\n",
       "      <td>...</td>\n",
       "      <td>...</td>\n",
       "      <td>...</td>\n",
       "    </tr>\n",
       "    <tr>\n",
       "      <th>1921</th>\n",
       "      <td>848.0</td>\n",
       "      <td>3.0</td>\n",
       "      <td>2.0</td>\n",
       "      <td>1948.0</td>\n",
       "      <td>This home sets at the beginning of a Cul-de-Sa...</td>\n",
       "      <td>0.189990</td>\n",
       "      <td>429900.0</td>\n",
       "      <td>6.742881</td>\n",
       "      <td>-1.660781</td>\n",
       "      <td>12.971308</td>\n",
       "      <td>0.019154</td>\n",
       "      <td>0.141277</td>\n",
       "      <td>0.446502</td>\n",
       "      <td>0.026240</td>\n",
       "      <td>0.028841</td>\n",
       "      <td>0.262196</td>\n",
       "      <td>0.000000</td>\n",
       "      <td>0.018545</td>\n",
       "      <td>0.0</td>\n",
       "      <td>0.048959</td>\n",
       "    </tr>\n",
       "    <tr>\n",
       "      <th>1922</th>\n",
       "      <td>2400.0</td>\n",
       "      <td>4.0</td>\n",
       "      <td>4.0</td>\n",
       "      <td>2021.0</td>\n",
       "      <td>New home to be built. Amazing unobstructed wat...</td>\n",
       "      <td>0.079981</td>\n",
       "      <td>800000.0</td>\n",
       "      <td>7.783224</td>\n",
       "      <td>-2.525960</td>\n",
       "      <td>13.592367</td>\n",
       "      <td>0.025282</td>\n",
       "      <td>0.041325</td>\n",
       "      <td>0.539178</td>\n",
       "      <td>0.015925</td>\n",
       "      <td>0.059542</td>\n",
       "      <td>0.115156</td>\n",
       "      <td>0.075164</td>\n",
       "      <td>0.000000</td>\n",
       "      <td>0.0</td>\n",
       "      <td>0.118585</td>\n",
       "    </tr>\n",
       "    <tr>\n",
       "      <th>1923</th>\n",
       "      <td>6538.0</td>\n",
       "      <td>7.0</td>\n",
       "      <td>7.0</td>\n",
       "      <td>2002.0</td>\n",
       "      <td>Can you say water views galore? Wake up to the...</td>\n",
       "      <td>0.079981</td>\n",
       "      <td>2700000.0</td>\n",
       "      <td>8.785387</td>\n",
       "      <td>-2.525960</td>\n",
       "      <td>14.808762</td>\n",
       "      <td>0.000000</td>\n",
       "      <td>0.273471</td>\n",
       "      <td>0.136182</td>\n",
       "      <td>0.102197</td>\n",
       "      <td>0.023975</td>\n",
       "      <td>0.144641</td>\n",
       "      <td>0.098131</td>\n",
       "      <td>0.000000</td>\n",
       "      <td>0.0</td>\n",
       "      <td>0.212532</td>\n",
       "    </tr>\n",
       "    <tr>\n",
       "      <th>1924</th>\n",
       "      <td>4480.0</td>\n",
       "      <td>5.0</td>\n",
       "      <td>5.0</td>\n",
       "      <td>1890.0</td>\n",
       "      <td>NEW YEAR!  NEW FUTURE!    Escape NY to Connect...</td>\n",
       "      <td>0.849998</td>\n",
       "      <td>2550000.0</td>\n",
       "      <td>8.407378</td>\n",
       "      <td>-0.162521</td>\n",
       "      <td>14.751604</td>\n",
       "      <td>0.012756</td>\n",
       "      <td>0.360858</td>\n",
       "      <td>0.187796</td>\n",
       "      <td>0.103612</td>\n",
       "      <td>0.023432</td>\n",
       "      <td>0.108213</td>\n",
       "      <td>0.016014</td>\n",
       "      <td>0.012044</td>\n",
       "      <td>0.0</td>\n",
       "      <td>0.172680</td>\n",
       "    </tr>\n",
       "    <tr>\n",
       "      <th>1925</th>\n",
       "      <td>3000.0</td>\n",
       "      <td>4.0</td>\n",
       "      <td>3.0</td>\n",
       "      <td>2020.0</td>\n",
       "      <td>One of the nicest new construction homes avail...</td>\n",
       "      <td>0.119995</td>\n",
       "      <td>1275000.0</td>\n",
       "      <td>8.006368</td>\n",
       "      <td>-2.120304</td>\n",
       "      <td>14.058457</td>\n",
       "      <td>0.013451</td>\n",
       "      <td>0.153949</td>\n",
       "      <td>0.107739</td>\n",
       "      <td>0.044302</td>\n",
       "      <td>0.098416</td>\n",
       "      <td>0.138672</td>\n",
       "      <td>0.078541</td>\n",
       "      <td>0.000000</td>\n",
       "      <td>0.0</td>\n",
       "      <td>0.359692</td>\n",
       "    </tr>\n",
       "  </tbody>\n",
       "</table>\n",
       "<p>1926 rows × 20 columns</p>\n",
       "</div>"
      ],
      "text/plain": [
       "        AREA  BED  BATH   BUILT  \\\n",
       "0     1629.0  2.0   2.0  1889.0   \n",
       "1     1278.0  3.0   2.0  1900.0   \n",
       "2     1264.0  3.0   2.0  1988.0   \n",
       "3     2054.0  3.0   3.0  1960.0   \n",
       "4     4198.0  5.0   3.0  1972.0   \n",
       "...      ...  ...   ...     ...   \n",
       "1921   848.0  3.0   2.0  1948.0   \n",
       "1922  2400.0  4.0   4.0  2021.0   \n",
       "1923  6538.0  7.0   7.0  2002.0   \n",
       "1924  4480.0  5.0   5.0  1890.0   \n",
       "1925  3000.0  4.0   3.0  2020.0   \n",
       "\n",
       "                                            DESCRIPTION   LOTSIZE      PRICE  \\\n",
       "0     Welcome home! Charming & well kept, this 2 bed...  0.159986   224000.0   \n",
       "1     This adorable cape has a lot to offer.  You st...  0.179981   225000.0   \n",
       "2     This 1264 sqft Colonial with its 3 bedrooms an...  0.089991   224900.0   \n",
       "3     The perfect oversized ranch awaits you at 7 No...  0.569994   370000.0   \n",
       "4     Beautiful Colonial-3020 sqft. living space and...  0.939989   489999.0   \n",
       "...                                                 ...       ...        ...   \n",
       "1921  This home sets at the beginning of a Cul-de-Sa...  0.189990   429900.0   \n",
       "1922  New home to be built. Amazing unobstructed wat...  0.079981   800000.0   \n",
       "1923  Can you say water views galore? Wake up to the...  0.079981  2700000.0   \n",
       "1924  NEW YEAR!  NEW FUTURE!    Escape NY to Connect...  0.849998  2550000.0   \n",
       "1925  One of the nicest new construction homes avail...  0.119995  1275000.0   \n",
       "\n",
       "       logAREA  logLOTSIZE   logPRICE    Theta0    Theta1    Theta2    Theta3  \\\n",
       "0     7.395722   -1.832669  12.319401  0.000000  0.217734  0.307562  0.013005   \n",
       "1     7.153052   -1.714902  12.323856  0.058219  0.071381  0.402323  0.012686   \n",
       "2     7.142037   -2.408049  12.323411  0.000000  0.585885  0.156176  0.010631   \n",
       "3     7.627544   -0.562129  12.821258  0.018890  0.024961  0.828652  0.000000   \n",
       "4     8.342364   -0.061887  13.102159  0.000000  0.066091  0.488584  0.000000   \n",
       "...        ...         ...        ...       ...       ...       ...       ...   \n",
       "1921  6.742881   -1.660781  12.971308  0.019154  0.141277  0.446502  0.026240   \n",
       "1922  7.783224   -2.525960  13.592367  0.025282  0.041325  0.539178  0.015925   \n",
       "1923  8.785387   -2.525960  14.808762  0.000000  0.273471  0.136182  0.102197   \n",
       "1924  8.407378   -0.162521  14.751604  0.012756  0.360858  0.187796  0.103612   \n",
       "1925  8.006368   -2.120304  14.058457  0.013451  0.153949  0.107739  0.044302   \n",
       "\n",
       "        Theta4    Theta5    Theta6    Theta7  Theta8    Theta9  \n",
       "0     0.015983  0.276440  0.000000  0.068734     0.0  0.090220  \n",
       "1     0.015575  0.241166  0.000000  0.132528     0.0  0.056359  \n",
       "2     0.016616  0.139861  0.033774  0.019388     0.0  0.030921  \n",
       "3     0.010878  0.073782  0.000000  0.000000     0.0  0.030547  \n",
       "4     0.036447  0.311831  0.000000  0.000000     0.0  0.076273  \n",
       "...        ...       ...       ...       ...     ...       ...  \n",
       "1921  0.028841  0.262196  0.000000  0.018545     0.0  0.048959  \n",
       "1922  0.059542  0.115156  0.075164  0.000000     0.0  0.118585  \n",
       "1923  0.023975  0.144641  0.098131  0.000000     0.0  0.212532  \n",
       "1924  0.023432  0.108213  0.016014  0.012044     0.0  0.172680  \n",
       "1925  0.098416  0.138672  0.078541  0.000000     0.0  0.359692  \n",
       "\n",
       "[1926 rows x 20 columns]"
      ]
     },
     "execution_count": 72,
     "metadata": {},
     "output_type": "execute_result"
    }
   ],
   "source": [
    "ct_topics = ct_homes.join(theta)\n",
    "ct_topics"
   ]
  },
  {
   "cell_type": "markdown",
   "id": "bc725cd8",
   "metadata": {},
   "source": [
    "#### Fit a linear model with the topic proportions included\n",
    "\n",
    "We now fit a linear model with the topic proportions included. Note that \n",
    "the proportions satisfy $\\theta_0+\\theta_1+\\cdots + \\theta_9 = 1$. Therefore, we remove one of them, since it is redundant. If we don't do this the linear model will be harder to interpret!\n"
   ]
  },
  {
   "cell_type": "code",
   "execution_count": 73,
   "id": "76b6e234",
   "metadata": {},
   "outputs": [
    {
     "data": {
      "text/html": [
       "<table class=\"simpletable\">\n",
       "<caption>OLS Regression Results</caption>\n",
       "<tr>\n",
       "  <th>Dep. Variable:</th>        <td>logPRICE</td>     <th>  R-squared:         </th> <td>   0.849</td>\n",
       "</tr>\n",
       "<tr>\n",
       "  <th>Model:</th>                   <td>OLS</td>       <th>  Adj. R-squared:    </th> <td>   0.848</td>\n",
       "</tr>\n",
       "<tr>\n",
       "  <th>Method:</th>             <td>Least Squares</td>  <th>  F-statistic:       </th> <td>   769.3</td>\n",
       "</tr>\n",
       "<tr>\n",
       "  <th>Date:</th>             <td>Tue, 30 Nov 2021</td> <th>  Prob (F-statistic):</th>  <td>  0.00</td> \n",
       "</tr>\n",
       "<tr>\n",
       "  <th>Time:</th>                 <td>17:44:17</td>     <th>  Log-Likelihood:    </th> <td> -1036.1</td>\n",
       "</tr>\n",
       "<tr>\n",
       "  <th>No. Observations:</th>      <td>  1926</td>      <th>  AIC:               </th> <td>   2102.</td>\n",
       "</tr>\n",
       "<tr>\n",
       "  <th>Df Residuals:</th>          <td>  1911</td>      <th>  BIC:               </th> <td>   2186.</td>\n",
       "</tr>\n",
       "<tr>\n",
       "  <th>Df Model:</th>              <td>    14</td>      <th>                     </th>     <td> </td>   \n",
       "</tr>\n",
       "<tr>\n",
       "  <th>Covariance Type:</th>      <td>nonrobust</td>    <th>                     </th>     <td> </td>   \n",
       "</tr>\n",
       "</table>\n",
       "<table class=\"simpletable\">\n",
       "<tr>\n",
       "       <td></td>         <th>coef</th>     <th>std err</th>      <th>t</th>      <th>P>|t|</th>  <th>[0.025</th>    <th>0.975]</th>  \n",
       "</tr>\n",
       "<tr>\n",
       "  <th>Intercept</th>  <td>    9.0959</td> <td>    0.529</td> <td>   17.190</td> <td> 0.000</td> <td>    8.058</td> <td>   10.134</td>\n",
       "</tr>\n",
       "<tr>\n",
       "  <th>logAREA</th>    <td>    0.4800</td> <td>    0.033</td> <td>   14.571</td> <td> 0.000</td> <td>    0.415</td> <td>    0.545</td>\n",
       "</tr>\n",
       "<tr>\n",
       "  <th>logLOTSIZE</th> <td>    0.0496</td> <td>    0.009</td> <td>    5.319</td> <td> 0.000</td> <td>    0.031</td> <td>    0.068</td>\n",
       "</tr>\n",
       "<tr>\n",
       "  <th>BED</th>        <td>   -0.0081</td> <td>    0.013</td> <td>   -0.644</td> <td> 0.519</td> <td>   -0.033</td> <td>    0.017</td>\n",
       "</tr>\n",
       "<tr>\n",
       "  <th>BATH</th>       <td>    0.1460</td> <td>    0.010</td> <td>   14.585</td> <td> 0.000</td> <td>    0.126</td> <td>    0.166</td>\n",
       "</tr>\n",
       "<tr>\n",
       "  <th>BUILT</th>      <td>    0.0008</td> <td>    0.000</td> <td>    3.598</td> <td> 0.000</td> <td>    0.000</td> <td>    0.001</td>\n",
       "</tr>\n",
       "<tr>\n",
       "  <th>Theta0</th>     <td>    1.7751</td> <td>    0.631</td> <td>    2.814</td> <td> 0.005</td> <td>    0.538</td> <td>    3.012</td>\n",
       "</tr>\n",
       "<tr>\n",
       "  <th>Theta1</th>     <td>   -2.4646</td> <td>    0.163</td> <td>  -15.093</td> <td> 0.000</td> <td>   -2.785</td> <td>   -2.144</td>\n",
       "</tr>\n",
       "<tr>\n",
       "  <th>Theta2</th>     <td>   -2.2093</td> <td>    0.140</td> <td>  -15.758</td> <td> 0.000</td> <td>   -2.484</td> <td>   -1.934</td>\n",
       "</tr>\n",
       "<tr>\n",
       "  <th>Theta3</th>     <td>   -1.0790</td> <td>    0.301</td> <td>   -3.579</td> <td> 0.000</td> <td>   -1.670</td> <td>   -0.488</td>\n",
       "</tr>\n",
       "<tr>\n",
       "  <th>Theta4</th>     <td>   -1.9870</td> <td>    0.294</td> <td>   -6.763</td> <td> 0.000</td> <td>   -2.563</td> <td>   -1.411</td>\n",
       "</tr>\n",
       "<tr>\n",
       "  <th>Theta5</th>     <td>   -2.3583</td> <td>    0.149</td> <td>  -15.820</td> <td> 0.000</td> <td>   -2.651</td> <td>   -2.066</td>\n",
       "</tr>\n",
       "<tr>\n",
       "  <th>Theta6</th>     <td>    3.9929</td> <td>    0.465</td> <td>    8.578</td> <td> 0.000</td> <td>    3.080</td> <td>    4.906</td>\n",
       "</tr>\n",
       "<tr>\n",
       "  <th>Theta7</th>     <td>   -1.0803</td> <td>    0.650</td> <td>   -1.662</td> <td> 0.097</td> <td>   -2.355</td> <td>    0.194</td>\n",
       "</tr>\n",
       "<tr>\n",
       "  <th>Theta8</th>     <td>    0.6659</td> <td>    0.513</td> <td>    1.299</td> <td> 0.194</td> <td>   -0.340</td> <td>    1.671</td>\n",
       "</tr>\n",
       "</table>\n",
       "<table class=\"simpletable\">\n",
       "<tr>\n",
       "  <th>Omnibus:</th>       <td>127.152</td> <th>  Durbin-Watson:     </th> <td>   1.580</td>\n",
       "</tr>\n",
       "<tr>\n",
       "  <th>Prob(Omnibus):</th> <td> 0.000</td>  <th>  Jarque-Bera (JB):  </th> <td> 445.901</td>\n",
       "</tr>\n",
       "<tr>\n",
       "  <th>Skew:</th>          <td> 0.247</td>  <th>  Prob(JB):          </th> <td>1.49e-97</td>\n",
       "</tr>\n",
       "<tr>\n",
       "  <th>Kurtosis:</th>      <td> 5.305</td>  <th>  Cond. No.          </th> <td>1.39e+05</td>\n",
       "</tr>\n",
       "</table><br/><br/>Notes:<br/>[1] Standard Errors assume that the covariance matrix of the errors is correctly specified.<br/>[2] The condition number is large, 1.39e+05. This might indicate that there are<br/>strong multicollinearity or other numerical problems."
      ],
      "text/plain": [
       "<class 'statsmodels.iolib.summary.Summary'>\n",
       "\"\"\"\n",
       "                            OLS Regression Results                            \n",
       "==============================================================================\n",
       "Dep. Variable:               logPRICE   R-squared:                       0.849\n",
       "Model:                            OLS   Adj. R-squared:                  0.848\n",
       "Method:                 Least Squares   F-statistic:                     769.3\n",
       "Date:                Tue, 30 Nov 2021   Prob (F-statistic):               0.00\n",
       "Time:                        17:44:17   Log-Likelihood:                -1036.1\n",
       "No. Observations:                1926   AIC:                             2102.\n",
       "Df Residuals:                    1911   BIC:                             2186.\n",
       "Df Model:                          14                                         \n",
       "Covariance Type:            nonrobust                                         \n",
       "==============================================================================\n",
       "                 coef    std err          t      P>|t|      [0.025      0.975]\n",
       "------------------------------------------------------------------------------\n",
       "Intercept      9.0959      0.529     17.190      0.000       8.058      10.134\n",
       "logAREA        0.4800      0.033     14.571      0.000       0.415       0.545\n",
       "logLOTSIZE     0.0496      0.009      5.319      0.000       0.031       0.068\n",
       "BED           -0.0081      0.013     -0.644      0.519      -0.033       0.017\n",
       "BATH           0.1460      0.010     14.585      0.000       0.126       0.166\n",
       "BUILT          0.0008      0.000      3.598      0.000       0.000       0.001\n",
       "Theta0         1.7751      0.631      2.814      0.005       0.538       3.012\n",
       "Theta1        -2.4646      0.163    -15.093      0.000      -2.785      -2.144\n",
       "Theta2        -2.2093      0.140    -15.758      0.000      -2.484      -1.934\n",
       "Theta3        -1.0790      0.301     -3.579      0.000      -1.670      -0.488\n",
       "Theta4        -1.9870      0.294     -6.763      0.000      -2.563      -1.411\n",
       "Theta5        -2.3583      0.149    -15.820      0.000      -2.651      -2.066\n",
       "Theta6         3.9929      0.465      8.578      0.000       3.080       4.906\n",
       "Theta7        -1.0803      0.650     -1.662      0.097      -2.355       0.194\n",
       "Theta8         0.6659      0.513      1.299      0.194      -0.340       1.671\n",
       "==============================================================================\n",
       "Omnibus:                      127.152   Durbin-Watson:                   1.580\n",
       "Prob(Omnibus):                  0.000   Jarque-Bera (JB):              445.901\n",
       "Skew:                           0.247   Prob(JB):                     1.49e-97\n",
       "Kurtosis:                       5.305   Cond. No.                     1.39e+05\n",
       "==============================================================================\n",
       "\n",
       "Notes:\n",
       "[1] Standard Errors assume that the covariance matrix of the errors is correctly specified.\n",
       "[2] The condition number is large, 1.39e+05. This might indicate that there are\n",
       "strong multicollinearity or other numerical problems.\n",
       "\"\"\""
      ]
     },
     "execution_count": 73,
     "metadata": {},
     "output_type": "execute_result"
    }
   ],
   "source": [
    "model = sm.ols(\"logPRICE ~ logAREA + logLOTSIZE + BED + BATH + BUILT + Theta0 + \" +\n",
    "               \"Theta1 + Theta2 + Theta3 + Theta4 + Theta5 + Theta6 + Theta7 + Theta8\", data=ct_topics).fit()\n",
    "model.summary()"
   ]
  },
  {
   "cell_type": "code",
   "execution_count": 74,
   "id": "921bda19",
   "metadata": {},
   "outputs": [
    {
     "data": {
      "image/png": "[encoded data removed]",
      "text/plain": [
       "<Figure size 432x288 with 1 Axes>"
      ]
     },
     "metadata": {
      "needs_background": "light"
     },
     "output_type": "display_data"
    }
   ],
   "source": [
    "plt.hist(model.resid, bins=50)\n",
    "plt.show()"
   ]
  },
  {
   "cell_type": "markdown",
   "id": "97538bac",
   "metadata": {},
   "source": [
    "### Model without the topics included"
   ]
  },
  {
   "cell_type": "code",
   "execution_count": 75,
   "id": "320bac7f",
   "metadata": {},
   "outputs": [
    {
     "data": {
      "text/html": [
       "<table class=\"simpletable\">\n",
       "<caption>OLS Regression Results</caption>\n",
       "<tr>\n",
       "  <th>Dep. Variable:</th>        <td>logPRICE</td>     <th>  R-squared:         </th> <td>   0.787</td>\n",
       "</tr>\n",
       "<tr>\n",
       "  <th>Model:</th>                   <td>OLS</td>       <th>  Adj. R-squared:    </th> <td>   0.786</td>\n",
       "</tr>\n",
       "<tr>\n",
       "  <th>Method:</th>             <td>Least Squares</td>  <th>  F-statistic:       </th> <td>   1417.</td>\n",
       "</tr>\n",
       "<tr>\n",
       "  <th>Date:</th>             <td>Tue, 30 Nov 2021</td> <th>  Prob (F-statistic):</th>  <td>  0.00</td> \n",
       "</tr>\n",
       "<tr>\n",
       "  <th>Time:</th>                 <td>17:44:19</td>     <th>  Log-Likelihood:    </th> <td> -1370.4</td>\n",
       "</tr>\n",
       "<tr>\n",
       "  <th>No. Observations:</th>      <td>  1926</td>      <th>  AIC:               </th> <td>   2753.</td>\n",
       "</tr>\n",
       "<tr>\n",
       "  <th>Df Residuals:</th>          <td>  1920</td>      <th>  BIC:               </th> <td>   2786.</td>\n",
       "</tr>\n",
       "<tr>\n",
       "  <th>Df Model:</th>              <td>     5</td>      <th>                     </th>     <td> </td>   \n",
       "</tr>\n",
       "<tr>\n",
       "  <th>Covariance Type:</th>      <td>nonrobust</td>    <th>                     </th>     <td> </td>   \n",
       "</tr>\n",
       "</table>\n",
       "<table class=\"simpletable\">\n",
       "<tr>\n",
       "       <td></td>         <th>coef</th>     <th>std err</th>      <th>t</th>      <th>P>|t|</th>  <th>[0.025</th>    <th>0.975]</th>  \n",
       "</tr>\n",
       "<tr>\n",
       "  <th>Intercept</th>  <td>    5.9172</td> <td>    0.528</td> <td>   11.203</td> <td> 0.000</td> <td>    4.881</td> <td>    6.953</td>\n",
       "</tr>\n",
       "<tr>\n",
       "  <th>logAREA</th>    <td>    0.7285</td> <td>    0.035</td> <td>   20.723</td> <td> 0.000</td> <td>    0.660</td> <td>    0.797</td>\n",
       "</tr>\n",
       "<tr>\n",
       "  <th>logLOTSIZE</th> <td>    0.0673</td> <td>    0.010</td> <td>    6.481</td> <td> 0.000</td> <td>    0.047</td> <td>    0.088</td>\n",
       "</tr>\n",
       "<tr>\n",
       "  <th>BED</th>        <td>   -0.0620</td> <td>    0.015</td> <td>   -4.214</td> <td> 0.000</td> <td>   -0.091</td> <td>   -0.033</td>\n",
       "</tr>\n",
       "<tr>\n",
       "  <th>BATH</th>       <td>    0.2373</td> <td>    0.011</td> <td>   21.734</td> <td> 0.000</td> <td>    0.216</td> <td>    0.259</td>\n",
       "</tr>\n",
       "<tr>\n",
       "  <th>BUILT</th>      <td>    0.0006</td> <td>    0.000</td> <td>    2.249</td> <td> 0.025</td> <td> 7.19e-05</td> <td>    0.001</td>\n",
       "</tr>\n",
       "</table>\n",
       "<table class=\"simpletable\">\n",
       "<tr>\n",
       "  <th>Omnibus:</th>       <td>271.078</td> <th>  Durbin-Watson:     </th> <td>   1.530</td> \n",
       "</tr>\n",
       "<tr>\n",
       "  <th>Prob(Omnibus):</th> <td> 0.000</td>  <th>  Jarque-Bera (JB):  </th> <td> 863.510</td> \n",
       "</tr>\n",
       "<tr>\n",
       "  <th>Skew:</th>          <td> 0.705</td>  <th>  Prob(JB):          </th> <td>3.10e-188</td>\n",
       "</tr>\n",
       "<tr>\n",
       "  <th>Kurtosis:</th>      <td> 5.961</td>  <th>  Cond. No.          </th> <td>9.18e+04</td> \n",
       "</tr>\n",
       "</table><br/><br/>Notes:<br/>[1] Standard Errors assume that the covariance matrix of the errors is correctly specified.<br/>[2] The condition number is large, 9.18e+04. This might indicate that there are<br/>strong multicollinearity or other numerical problems."
      ],
      "text/plain": [
       "<class 'statsmodels.iolib.summary.Summary'>\n",
       "\"\"\"\n",
       "                            OLS Regression Results                            \n",
       "==============================================================================\n",
       "Dep. Variable:               logPRICE   R-squared:                       0.787\n",
       "Model:                            OLS   Adj. R-squared:                  0.786\n",
       "Method:                 Least Squares   F-statistic:                     1417.\n",
       "Date:                Tue, 30 Nov 2021   Prob (F-statistic):               0.00\n",
       "Time:                        17:44:19   Log-Likelihood:                -1370.4\n",
       "No. Observations:                1926   AIC:                             2753.\n",
       "Df Residuals:                    1920   BIC:                             2786.\n",
       "Df Model:                           5                                         \n",
       "Covariance Type:            nonrobust                                         \n",
       "==============================================================================\n",
       "                 coef    std err          t      P>|t|      [0.025      0.975]\n",
       "------------------------------------------------------------------------------\n",
       "Intercept      5.9172      0.528     11.203      0.000       4.881       6.953\n",
       "logAREA        0.7285      0.035     20.723      0.000       0.660       0.797\n",
       "logLOTSIZE     0.0673      0.010      6.481      0.000       0.047       0.088\n",
       "BED           -0.0620      0.015     -4.214      0.000      -0.091      -0.033\n",
       "BATH           0.2373      0.011     21.734      0.000       0.216       0.259\n",
       "BUILT          0.0006      0.000      2.249      0.025    7.19e-05       0.001\n",
       "==============================================================================\n",
       "Omnibus:                      271.078   Durbin-Watson:                   1.530\n",
       "Prob(Omnibus):                  0.000   Jarque-Bera (JB):              863.510\n",
       "Skew:                           0.705   Prob(JB):                    3.10e-188\n",
       "Kurtosis:                       5.961   Cond. No.                     9.18e+04\n",
       "==============================================================================\n",
       "\n",
       "Notes:\n",
       "[1] Standard Errors assume that the covariance matrix of the errors is correctly specified.\n",
       "[2] The condition number is large, 9.18e+04. This might indicate that there are\n",
       "strong multicollinearity or other numerical problems.\n",
       "\"\"\""
      ]
     },
     "execution_count": 75,
     "metadata": {},
     "output_type": "execute_result"
    }
   ],
   "source": [
    "model_without_topics = sm.ols(\"logPRICE ~ logAREA + logLOTSIZE + BED + BATH + BUILT\", data=ct_topics).fit()\n",
    "model_without_topics.summary()"
   ]
  },
  {
   "cell_type": "markdown",
   "id": "91e83413",
   "metadata": {},
   "source": [
    "#### 3.2 Plot the residuals\n",
    "\n",
    "On a single plot, show a histogram of the residuals of the model without the topics, \n",
    "and the residuals of the model with the topics. Give a legend that shows which is which.\n",
    "Comment on the results. \n"
   ]
  },
  {
   "cell_type": "code",
   "execution_count": 76,
   "id": "3be359a4",
   "metadata": {},
   "outputs": [
    {
     "data": {
      "image/png": "[encoded data removed]",
      "text/plain": [
       "<Figure size 432x288 with 1 Axes>"
      ]
     },
     "metadata": {
      "needs_background": "light"
     },
     "output_type": "display_data"
    }
   ],
   "source": [
    "y_mod_10top = model.resid\n",
    "y_mod_notop = model_without_topics.resid\n",
    "\n",
    "plt.hist(y_mod_notop, density=True, bins=40, \n",
    "         label = \"Model without the topics\", alpha=0.5)\n",
    "plt.hist(y_mod_10top, density=True, bins=40, \n",
    "         label = \"Model with the topics\", alpha=0.5) \n",
    "plt.xlabel(\"Residual Values\")\n",
    "plt.ylabel(\"Probability\")\n",
    "plt.legend(loc=\"upper right\")\n",
    "\n",
    "plt.show()"
   ]
  },
  {
   "cell_type": "markdown",
   "id": "b8080962",
   "metadata": {},
   "source": [
    "When comparing the histograms of the residuals of the model without the topics, and the residuals of the model with the topics, it can be seen that the model with the topic has a slightly narrower probability distribution (slightly higher peak and slightly lower variance). This means that the model with the topics included did a better job at predicting the real prices, as more residuals are closer to zero."
   ]
  },
  {
   "cell_type": "markdown",
   "id": "252fecdb",
   "metadata": {},
   "source": [
    "#### 3.3 Quantify the improvement: R-squared\n",
    "\n",
    "How do the two models compare in terms of R-squared? What do these numbers mean?\n"
   ]
  },
  {
   "cell_type": "code",
   "execution_count": 77,
   "id": "4516df35",
   "metadata": {},
   "outputs": [
    {
     "name": "stdout",
     "output_type": "stream",
     "text": [
      "The adjusted R-squared for the model without the topics is: 0.786\n",
      "The adjusted R-squared for the model with the topics is: 0.848\n"
     ]
    }
   ],
   "source": [
    "print(\"The adjusted R-squared for the model without the topics is:\",\n",
    "      round(model_without_topics.rsquared_adj,3))\n",
    "print(\"The adjusted R-squared for the model with the topics is:\",\n",
    "      round(model.rsquared_adj,3))"
   ]
  },
  {
   "cell_type": "markdown",
   "id": "64e6905c",
   "metadata": {},
   "source": [
    "The R-squared value gives the proportion of the variance in the costs (the response variable) that can be explained by the predictor variables. As a consequence, we want it as close as possible to 1. It was chosen to use the adjusted R-squared value, as it corrects for the amount of predictor variables included in the model (although it doesn't make a big difference in this case). \n",
    "\n",
    "The adjusted R-squared value for the model with the topics is higher for this problem, which means the topics should be included in the model, as they help with explaining a proportion of the variance in the costs."
   ]
  },
  {
   "cell_type": "markdown",
   "id": "18889709",
   "metadata": {},
   "source": [
    "#### 3.4 Quantify the improvement: MSE decrease\n",
    "\n",
    "What is the percent decrease in the mean-squared-error of the model with the topics\n",
    "compared to the model that ignores the descriptions?\n"
   ]
  },
  {
   "cell_type": "code",
   "execution_count": 78,
   "id": "d5fcbf71",
   "metadata": {},
   "outputs": [
    {
     "data": {
      "text/plain": [
       "-0.2899845150024754"
      ]
     },
     "execution_count": 78,
     "metadata": {},
     "output_type": "execute_result"
    }
   ],
   "source": [
    "mse_notop = model_without_topics.mse_resid\n",
    "mse_top = model.mse_resid\n",
    "\n",
    "(mse_top - mse_notop)/mse_notop"
   ]
  },
  {
   "cell_type": "markdown",
   "id": "3c8c7210",
   "metadata": {},
   "source": [
    "#### 3.5 Quantify the improvement: LOOCV\n",
    "\n",
    "What is the percent decrease in the leave-one-out-cross-validation (LOOCV) error?\n",
    "Recall from class that the following formula can be used to calculate this:\n",
    "\n",
    "<img src=\"https://raw.githubusercontent.com/YData123/sds265-fa21/main/assignments/assn6/loocv.png\" width=\"410\" align=\"center\">\n",
    "\n",
    "<br>\n",
    "\n",
    "The following line of code computes this for one of the models:\n",
    "\n",
    "`np.mean((model.resid/(1 - model.get_influence().hat_matrix_diag))**2)`"
   ]
  },
  {
   "cell_type": "code",
   "execution_count": 79,
   "id": "b8cce809",
   "metadata": {},
   "outputs": [
    {
     "data": {
      "text/plain": [
       "-0.28447675047614945"
      ]
     },
     "execution_count": 79,
     "metadata": {},
     "output_type": "execute_result"
    }
   ],
   "source": [
    "LOOCV_notop = np.mean((model_without_topics.resid/\n",
    "                       (1 - model_without_topics.get_influence().hat_matrix_diag))**2)\n",
    "LOOCV_top = np.mean((model.resid/\n",
    "                     (1 - model.get_influence().hat_matrix_diag))**2)\n",
    "(LOOCV_top - LOOCV_notop)/LOOCV_notop"
   ]
  },
  {
   "cell_type": "markdown",
   "id": "d8d2122f",
   "metadata": {},
   "source": [
    "#### 3.6 Repeat for three topics \n",
    "\n",
    "Now, repeat the above steps for a topic model that is trained using only three (3) topics. Specifically:\n",
    "\n",
    "1. Train a model with three topics\n",
    "1. Display the top words in each of the three topics\n",
    "1. Augment the `ct_homes` data with the resulting topic proportions $\\theta$\n",
    "1. Fit a linear model *using only the first two of the three* proportions\n",
    "1. Plot a histogram of the residuals of the three linear models together\n",
    "1. Comment on the improvement over the baseline in terms of R-squared, MSE, and LOOCV compared with the previous two models.\n"
   ]
  },
  {
   "cell_type": "markdown",
   "id": "e1368b36",
   "metadata": {},
   "source": [
    "##### 1) Train a model with three topics"
   ]
  },
  {
   "cell_type": "code",
   "execution_count": 80,
   "id": "05e38ef5",
   "metadata": {},
   "outputs": [
    {
     "name": "stdout",
     "output_type": "stream",
     "text": [
      "CPU times: user 4.83 s, sys: 3.71 ms, total: 4.83 s\n",
      "Wall time: 4.83 s\n"
     ]
    }
   ],
   "source": [
    "%%time\n",
    "tm = gensim.models.ldamodel.LdaModel(corpus=corpus,\n",
    "                                     id2word=id2word,\n",
    "                                     num_topics=3, \n",
    "                                     random_state=100,\n",
    "                                     chunksize=100,\n",
    "                                     passes=10,\n",
    "                                     alpha='auto',\n",
    "                                     per_word_topics=True)"
   ]
  },
  {
   "cell_type": "markdown",
   "id": "01792b99",
   "metadata": {},
   "source": [
    "##### 2) Display the top words in each of the three topics"
   ]
  },
  {
   "cell_type": "code",
   "execution_count": 81,
   "id": "a07cc90f",
   "metadata": {},
   "outputs": [
    {
     "data": {
      "text/html": [
       "<div>\n",
       "<style scoped>\n",
       "    .dataframe tbody tr th:only-of-type {\n",
       "        vertical-align: middle;\n",
       "    }\n",
       "\n",
       "    .dataframe tbody tr th {\n",
       "        vertical-align: top;\n",
       "    }\n",
       "\n",
       "    .dataframe thead th {\n",
       "        text-align: right;\n",
       "    }\n",
       "</style>\n",
       "<table border=\"1\" class=\"dataframe\">\n",
       "  <thead>\n",
       "    <tr style=\"text-align: right;\">\n",
       "      <th></th>\n",
       "      <th>word rank</th>\n",
       "      <th>topic 0</th>\n",
       "      <th>topic 1</th>\n",
       "      <th>topic 2</th>\n",
       "    </tr>\n",
       "  </thead>\n",
       "  <tbody>\n",
       "    <tr>\n",
       "      <th>0</th>\n",
       "      <td>1</td>\n",
       "      <td>views</td>\n",
       "      <td>property</td>\n",
       "      <td>spacious</td>\n",
       "    </tr>\n",
       "    <tr>\n",
       "      <th>1</th>\n",
       "      <td>2</td>\n",
       "      <td>beach</td>\n",
       "      <td>it</td>\n",
       "      <td>additional</td>\n",
       "    </tr>\n",
       "    <tr>\n",
       "      <th>2</th>\n",
       "      <td>3</td>\n",
       "      <td>island</td>\n",
       "      <td>will</td>\n",
       "      <td>main</td>\n",
       "    </tr>\n",
       "    <tr>\n",
       "      <th>3</th>\n",
       "      <td>4</td>\n",
       "      <td>suite</td>\n",
       "      <td>can</td>\n",
       "      <td>appliances</td>\n",
       "    </tr>\n",
       "    <tr>\n",
       "      <th>4</th>\n",
       "      <td>5</td>\n",
       "      <td>custom</td>\n",
       "      <td>located</td>\n",
       "      <td>throughout</td>\n",
       "    </tr>\n",
       "    <tr>\n",
       "      <th>5</th>\n",
       "      <td>6</td>\n",
       "      <td>by</td>\n",
       "      <td>are</td>\n",
       "      <td>lower</td>\n",
       "    </tr>\n",
       "    <tr>\n",
       "      <th>6</th>\n",
       "      <td>7</td>\n",
       "      <td>sound</td>\n",
       "      <td>at</td>\n",
       "      <td>yard</td>\n",
       "    </tr>\n",
       "    <tr>\n",
       "      <th>7</th>\n",
       "      <td>8</td>\n",
       "      <td>pool</td>\n",
       "      <td>one</td>\n",
       "      <td>beautiful</td>\n",
       "    </tr>\n",
       "    <tr>\n",
       "      <th>8</th>\n",
       "      <td>9</td>\n",
       "      <td>waterfront</td>\n",
       "      <td>own</td>\n",
       "      <td>bathroom</td>\n",
       "    </tr>\n",
       "    <tr>\n",
       "      <th>9</th>\n",
       "      <td>10</td>\n",
       "      <td>stone</td>\n",
       "      <td>location</td>\n",
       "      <td>granite</td>\n",
       "    </tr>\n",
       "    <tr>\n",
       "      <th>10</th>\n",
       "      <td>11</td>\n",
       "      <td>water</td>\n",
       "      <td>lot</td>\n",
       "      <td>gas</td>\n",
       "    </tr>\n",
       "    <tr>\n",
       "      <th>11</th>\n",
       "      <td>12</td>\n",
       "      <td>long</td>\n",
       "      <td>make</td>\n",
       "      <td>closet</td>\n",
       "    </tr>\n",
       "    <tr>\n",
       "      <th>12</th>\n",
       "      <td>13</td>\n",
       "      <td>built</td>\n",
       "      <td>by</td>\n",
       "      <td>finished</td>\n",
       "    </tr>\n",
       "    <tr>\n",
       "      <th>13</th>\n",
       "      <td>14</td>\n",
       "      <td>designed</td>\n",
       "      <td>not</td>\n",
       "      <td>two</td>\n",
       "    </tr>\n",
       "    <tr>\n",
       "      <th>14</th>\n",
       "      <td>15</td>\n",
       "      <td>at</td>\n",
       "      <td>close</td>\n",
       "      <td>perfect</td>\n",
       "    </tr>\n",
       "  </tbody>\n",
       "</table>\n",
       "</div>"
      ],
      "text/plain": [
       "    word rank     topic 0   topic 1     topic 2\n",
       "0           1       views  property    spacious\n",
       "1           2       beach        it  additional\n",
       "2           3      island      will        main\n",
       "3           4       suite       can  appliances\n",
       "4           5      custom   located  throughout\n",
       "5           6          by       are       lower\n",
       "6           7       sound        at        yard\n",
       "7           8        pool       one   beautiful\n",
       "8           9  waterfront       own    bathroom\n",
       "9          10       stone  location     granite\n",
       "10         11       water       lot         gas\n",
       "11         12        long      make      closet\n",
       "12         13       built        by    finished\n",
       "13         14    designed       not         two\n",
       "14         15          at     close     perfect"
      ]
     },
     "execution_count": 81,
     "metadata": {},
     "output_type": "execute_result"
    }
   ],
   "source": [
    "num_topics = 3\n",
    "num_words = 15\n",
    "top_words = pd.DataFrame({'word rank': np.arange(1,num_words+1)})\n",
    "for k in np.arange(num_topics): \n",
    "    topic = tm.get_topic_terms(k, num_words)\n",
    "    words = [id2word[topic[i][0]] for i in np.arange(num_words)]\n",
    "    probs = [topic[i][1] for i in np.arange(num_words)]\n",
    "    top_words['topic %d' % k] = words\n",
    "\n",
    "top_words"
   ]
  },
  {
   "cell_type": "markdown",
   "id": "692ba9c7",
   "metadata": {},
   "source": [
    "##### 3) Augment the ct_homes data with the resulting topic proportions \n",
    " "
   ]
  },
  {
   "cell_type": "code",
   "execution_count": 82,
   "id": "656083fb",
   "metadata": {},
   "outputs": [
    {
     "data": {
      "text/html": [
       "<div>\n",
       "<style scoped>\n",
       "    .dataframe tbody tr th:only-of-type {\n",
       "        vertical-align: middle;\n",
       "    }\n",
       "\n",
       "    .dataframe tbody tr th {\n",
       "        vertical-align: top;\n",
       "    }\n",
       "\n",
       "    .dataframe thead th {\n",
       "        text-align: right;\n",
       "    }\n",
       "</style>\n",
       "<table border=\"1\" class=\"dataframe\">\n",
       "  <thead>\n",
       "    <tr style=\"text-align: right;\">\n",
       "      <th></th>\n",
       "      <th>Topic</th>\n",
       "      <th>Probabilities</th>\n",
       "    </tr>\n",
       "  </thead>\n",
       "  <tbody>\n",
       "    <tr>\n",
       "      <th>0</th>\n",
       "      <td>0</td>\n",
       "      <td>0.463492</td>\n",
       "    </tr>\n",
       "    <tr>\n",
       "      <th>1</th>\n",
       "      <td>1</td>\n",
       "      <td>0.020958</td>\n",
       "    </tr>\n",
       "    <tr>\n",
       "      <th>2</th>\n",
       "      <td>2</td>\n",
       "      <td>0.515550</td>\n",
       "    </tr>\n",
       "  </tbody>\n",
       "</table>\n",
       "</div>"
      ],
      "text/plain": [
       "   Topic  Probabilities\n",
       "0      0       0.463492\n",
       "1      1       0.020958\n",
       "2      2       0.515550"
      ]
     },
     "execution_count": 82,
     "metadata": {},
     "output_type": "execute_result"
    }
   ],
   "source": [
    "topic_dist = tm.get_document_topics(corpus[example])\n",
    "topics = [pair[0] for pair in topic_dist]\n",
    "probabilities = [pair[1] for pair in topic_dist]\n",
    "topic_dist_table = pd.DataFrame()\n",
    "topic_dist_table['Topic'] = topics\n",
    "topic_dist_table['Probabilities'] = probabilities\n",
    "topic_dist_table"
   ]
  },
  {
   "cell_type": "code",
   "execution_count": 83,
   "id": "702d6013",
   "metadata": {},
   "outputs": [
    {
     "data": {
      "text/html": [
       "<div>\n",
       "<style scoped>\n",
       "    .dataframe tbody tr th:only-of-type {\n",
       "        vertical-align: middle;\n",
       "    }\n",
       "\n",
       "    .dataframe tbody tr th {\n",
       "        vertical-align: top;\n",
       "    }\n",
       "\n",
       "    .dataframe thead th {\n",
       "        text-align: right;\n",
       "    }\n",
       "</style>\n",
       "<table border=\"1\" class=\"dataframe\">\n",
       "  <thead>\n",
       "    <tr style=\"text-align: right;\">\n",
       "      <th></th>\n",
       "      <th>AREA</th>\n",
       "      <th>BED</th>\n",
       "      <th>BATH</th>\n",
       "      <th>BUILT</th>\n",
       "      <th>DESCRIPTION</th>\n",
       "      <th>LOTSIZE</th>\n",
       "      <th>PRICE</th>\n",
       "      <th>logAREA</th>\n",
       "      <th>logLOTSIZE</th>\n",
       "      <th>logPRICE</th>\n",
       "      <th>Theta0</th>\n",
       "      <th>Theta1</th>\n",
       "      <th>Theta2</th>\n",
       "    </tr>\n",
       "  </thead>\n",
       "  <tbody>\n",
       "    <tr>\n",
       "      <th>0</th>\n",
       "      <td>1629.0</td>\n",
       "      <td>2.0</td>\n",
       "      <td>2.0</td>\n",
       "      <td>1889.0</td>\n",
       "      <td>Welcome home! Charming &amp; well kept, this 2 bed...</td>\n",
       "      <td>0.159986</td>\n",
       "      <td>224000.0</td>\n",
       "      <td>7.395722</td>\n",
       "      <td>-1.832669</td>\n",
       "      <td>12.319401</td>\n",
       "      <td>0.056830</td>\n",
       "      <td>0.341755</td>\n",
       "      <td>0.601415</td>\n",
       "    </tr>\n",
       "    <tr>\n",
       "      <th>1</th>\n",
       "      <td>1278.0</td>\n",
       "      <td>3.0</td>\n",
       "      <td>2.0</td>\n",
       "      <td>1900.0</td>\n",
       "      <td>This adorable cape has a lot to offer.  You st...</td>\n",
       "      <td>0.179981</td>\n",
       "      <td>225000.0</td>\n",
       "      <td>7.153052</td>\n",
       "      <td>-1.714902</td>\n",
       "      <td>12.323856</td>\n",
       "      <td>0.000000</td>\n",
       "      <td>0.288069</td>\n",
       "      <td>0.704742</td>\n",
       "    </tr>\n",
       "    <tr>\n",
       "      <th>2</th>\n",
       "      <td>1264.0</td>\n",
       "      <td>3.0</td>\n",
       "      <td>2.0</td>\n",
       "      <td>1988.0</td>\n",
       "      <td>This 1264 sqft Colonial with its 3 bedrooms an...</td>\n",
       "      <td>0.089991</td>\n",
       "      <td>224900.0</td>\n",
       "      <td>7.142037</td>\n",
       "      <td>-2.408049</td>\n",
       "      <td>12.323411</td>\n",
       "      <td>0.000000</td>\n",
       "      <td>0.878319</td>\n",
       "      <td>0.116560</td>\n",
       "    </tr>\n",
       "    <tr>\n",
       "      <th>3</th>\n",
       "      <td>2054.0</td>\n",
       "      <td>3.0</td>\n",
       "      <td>3.0</td>\n",
       "      <td>1960.0</td>\n",
       "      <td>The perfect oversized ranch awaits you at 7 No...</td>\n",
       "      <td>0.569994</td>\n",
       "      <td>370000.0</td>\n",
       "      <td>7.627544</td>\n",
       "      <td>-0.562129</td>\n",
       "      <td>12.821258</td>\n",
       "      <td>0.000000</td>\n",
       "      <td>0.066718</td>\n",
       "      <td>0.930361</td>\n",
       "    </tr>\n",
       "    <tr>\n",
       "      <th>4</th>\n",
       "      <td>4198.0</td>\n",
       "      <td>5.0</td>\n",
       "      <td>3.0</td>\n",
       "      <td>1972.0</td>\n",
       "      <td>Beautiful Colonial-3020 sqft. living space and...</td>\n",
       "      <td>0.939989</td>\n",
       "      <td>489999.0</td>\n",
       "      <td>8.342364</td>\n",
       "      <td>-0.061887</td>\n",
       "      <td>13.102159</td>\n",
       "      <td>0.000000</td>\n",
       "      <td>0.204541</td>\n",
       "      <td>0.790524</td>\n",
       "    </tr>\n",
       "    <tr>\n",
       "      <th>...</th>\n",
       "      <td>...</td>\n",
       "      <td>...</td>\n",
       "      <td>...</td>\n",
       "      <td>...</td>\n",
       "      <td>...</td>\n",
       "      <td>...</td>\n",
       "      <td>...</td>\n",
       "      <td>...</td>\n",
       "      <td>...</td>\n",
       "      <td>...</td>\n",
       "      <td>...</td>\n",
       "      <td>...</td>\n",
       "      <td>...</td>\n",
       "    </tr>\n",
       "    <tr>\n",
       "      <th>1921</th>\n",
       "      <td>848.0</td>\n",
       "      <td>3.0</td>\n",
       "      <td>2.0</td>\n",
       "      <td>1948.0</td>\n",
       "      <td>This home sets at the beginning of a Cul-de-Sa...</td>\n",
       "      <td>0.189990</td>\n",
       "      <td>429900.0</td>\n",
       "      <td>6.742881</td>\n",
       "      <td>-1.660781</td>\n",
       "      <td>12.971308</td>\n",
       "      <td>0.000000</td>\n",
       "      <td>0.216580</td>\n",
       "      <td>0.777554</td>\n",
       "    </tr>\n",
       "    <tr>\n",
       "      <th>1922</th>\n",
       "      <td>2400.0</td>\n",
       "      <td>4.0</td>\n",
       "      <td>4.0</td>\n",
       "      <td>2021.0</td>\n",
       "      <td>New home to be built. Amazing unobstructed wat...</td>\n",
       "      <td>0.079981</td>\n",
       "      <td>800000.0</td>\n",
       "      <td>7.783224</td>\n",
       "      <td>-2.525960</td>\n",
       "      <td>13.592367</td>\n",
       "      <td>0.334035</td>\n",
       "      <td>0.018248</td>\n",
       "      <td>0.647717</td>\n",
       "    </tr>\n",
       "    <tr>\n",
       "      <th>1923</th>\n",
       "      <td>6538.0</td>\n",
       "      <td>7.0</td>\n",
       "      <td>7.0</td>\n",
       "      <td>2002.0</td>\n",
       "      <td>Can you say water views galore? Wake up to the...</td>\n",
       "      <td>0.079981</td>\n",
       "      <td>2700000.0</td>\n",
       "      <td>8.785387</td>\n",
       "      <td>-2.525960</td>\n",
       "      <td>14.808762</td>\n",
       "      <td>0.406171</td>\n",
       "      <td>0.579553</td>\n",
       "      <td>0.014277</td>\n",
       "    </tr>\n",
       "    <tr>\n",
       "      <th>1924</th>\n",
       "      <td>4480.0</td>\n",
       "      <td>5.0</td>\n",
       "      <td>5.0</td>\n",
       "      <td>1890.0</td>\n",
       "      <td>NEW YEAR!  NEW FUTURE!    Escape NY to Connect...</td>\n",
       "      <td>0.849998</td>\n",
       "      <td>2550000.0</td>\n",
       "      <td>8.407378</td>\n",
       "      <td>-0.162521</td>\n",
       "      <td>14.751604</td>\n",
       "      <td>0.394665</td>\n",
       "      <td>0.588742</td>\n",
       "      <td>0.016593</td>\n",
       "    </tr>\n",
       "    <tr>\n",
       "      <th>1925</th>\n",
       "      <td>3000.0</td>\n",
       "      <td>4.0</td>\n",
       "      <td>3.0</td>\n",
       "      <td>2020.0</td>\n",
       "      <td>One of the nicest new construction homes avail...</td>\n",
       "      <td>0.119995</td>\n",
       "      <td>1275000.0</td>\n",
       "      <td>8.006368</td>\n",
       "      <td>-2.120304</td>\n",
       "      <td>14.058457</td>\n",
       "      <td>0.611848</td>\n",
       "      <td>0.374234</td>\n",
       "      <td>0.013918</td>\n",
       "    </tr>\n",
       "  </tbody>\n",
       "</table>\n",
       "<p>1926 rows × 13 columns</p>\n",
       "</div>"
      ],
      "text/plain": [
       "        AREA  BED  BATH   BUILT  \\\n",
       "0     1629.0  2.0   2.0  1889.0   \n",
       "1     1278.0  3.0   2.0  1900.0   \n",
       "2     1264.0  3.0   2.0  1988.0   \n",
       "3     2054.0  3.0   3.0  1960.0   \n",
       "4     4198.0  5.0   3.0  1972.0   \n",
       "...      ...  ...   ...     ...   \n",
       "1921   848.0  3.0   2.0  1948.0   \n",
       "1922  2400.0  4.0   4.0  2021.0   \n",
       "1923  6538.0  7.0   7.0  2002.0   \n",
       "1924  4480.0  5.0   5.0  1890.0   \n",
       "1925  3000.0  4.0   3.0  2020.0   \n",
       "\n",
       "                                            DESCRIPTION   LOTSIZE      PRICE  \\\n",
       "0     Welcome home! Charming & well kept, this 2 bed...  0.159986   224000.0   \n",
       "1     This adorable cape has a lot to offer.  You st...  0.179981   225000.0   \n",
       "2     This 1264 sqft Colonial with its 3 bedrooms an...  0.089991   224900.0   \n",
       "3     The perfect oversized ranch awaits you at 7 No...  0.569994   370000.0   \n",
       "4     Beautiful Colonial-3020 sqft. living space and...  0.939989   489999.0   \n",
       "...                                                 ...       ...        ...   \n",
       "1921  This home sets at the beginning of a Cul-de-Sa...  0.189990   429900.0   \n",
       "1922  New home to be built. Amazing unobstructed wat...  0.079981   800000.0   \n",
       "1923  Can you say water views galore? Wake up to the...  0.079981  2700000.0   \n",
       "1924  NEW YEAR!  NEW FUTURE!    Escape NY to Connect...  0.849998  2550000.0   \n",
       "1925  One of the nicest new construction homes avail...  0.119995  1275000.0   \n",
       "\n",
       "       logAREA  logLOTSIZE   logPRICE    Theta0    Theta1    Theta2  \n",
       "0     7.395722   -1.832669  12.319401  0.056830  0.341755  0.601415  \n",
       "1     7.153052   -1.714902  12.323856  0.000000  0.288069  0.704742  \n",
       "2     7.142037   -2.408049  12.323411  0.000000  0.878319  0.116560  \n",
       "3     7.627544   -0.562129  12.821258  0.000000  0.066718  0.930361  \n",
       "4     8.342364   -0.061887  13.102159  0.000000  0.204541  0.790524  \n",
       "...        ...         ...        ...       ...       ...       ...  \n",
       "1921  6.742881   -1.660781  12.971308  0.000000  0.216580  0.777554  \n",
       "1922  7.783224   -2.525960  13.592367  0.334035  0.018248  0.647717  \n",
       "1923  8.785387   -2.525960  14.808762  0.406171  0.579553  0.014277  \n",
       "1924  8.407378   -0.162521  14.751604  0.394665  0.588742  0.016593  \n",
       "1925  8.006368   -2.120304  14.058457  0.611848  0.374234  0.013918  \n",
       "\n",
       "[1926 rows x 13 columns]"
      ]
     },
     "execution_count": 83,
     "metadata": {},
     "output_type": "execute_result"
    }
   ],
   "source": [
    "num_topics = 3\n",
    "theta = pd.DataFrame({\"Theta0\": np.zeros(ct_homes.shape[0])})\n",
    "for t in np.arange(1,num_topics):\n",
    "    theta[\"Theta\"+str(t)] = np.zeros(ct_homes.shape[0])\n",
    "    \n",
    "for i in np.arange(ct_homes.shape[0]):\n",
    "    for t in tm.get_document_topics(corpus[i]):\n",
    "        theta.loc[i,\"Theta\"+str(t[0])] = t[1]\n",
    "        \n",
    "ct_topics = ct_homes.join(theta)\n",
    "ct_topics"
   ]
  },
  {
   "cell_type": "markdown",
   "id": "59c553d0",
   "metadata": {},
   "source": [
    "##### 4) Fit a linear model using only the first two of the three proportions"
   ]
  },
  {
   "cell_type": "code",
   "execution_count": 84,
   "id": "a1a38935",
   "metadata": {},
   "outputs": [
    {
     "data": {
      "text/html": [
       "<table class=\"simpletable\">\n",
       "<caption>OLS Regression Results</caption>\n",
       "<tr>\n",
       "  <th>Dep. Variable:</th>        <td>logPRICE</td>     <th>  R-squared:         </th> <td>   0.865</td>\n",
       "</tr>\n",
       "<tr>\n",
       "  <th>Model:</th>                   <td>OLS</td>       <th>  Adj. R-squared:    </th> <td>   0.865</td>\n",
       "</tr>\n",
       "<tr>\n",
       "  <th>Method:</th>             <td>Least Squares</td>  <th>  F-statistic:       </th> <td>   1759.</td>\n",
       "</tr>\n",
       "<tr>\n",
       "  <th>Date:</th>             <td>Tue, 30 Nov 2021</td> <th>  Prob (F-statistic):</th>  <td>  0.00</td> \n",
       "</tr>\n",
       "<tr>\n",
       "  <th>Time:</th>                 <td>17:44:50</td>     <th>  Log-Likelihood:    </th> <td> -928.66</td>\n",
       "</tr>\n",
       "<tr>\n",
       "  <th>No. Observations:</th>      <td>  1926</td>      <th>  AIC:               </th> <td>   1873.</td>\n",
       "</tr>\n",
       "<tr>\n",
       "  <th>Df Residuals:</th>          <td>  1918</td>      <th>  BIC:               </th> <td>   1918.</td>\n",
       "</tr>\n",
       "<tr>\n",
       "  <th>Df Model:</th>              <td>     7</td>      <th>                     </th>     <td> </td>   \n",
       "</tr>\n",
       "<tr>\n",
       "  <th>Covariance Type:</th>      <td>nonrobust</td>    <th>                     </th>     <td> </td>   \n",
       "</tr>\n",
       "</table>\n",
       "<table class=\"simpletable\">\n",
       "<tr>\n",
       "       <td></td>         <th>coef</th>     <th>std err</th>      <th>t</th>      <th>P>|t|</th>  <th>[0.025</th>    <th>0.975]</th>  \n",
       "</tr>\n",
       "<tr>\n",
       "  <th>Intercept</th>  <td>    6.6473</td> <td>    0.445</td> <td>   14.937</td> <td> 0.000</td> <td>    5.774</td> <td>    7.520</td>\n",
       "</tr>\n",
       "<tr>\n",
       "  <th>logAREA</th>    <td>    0.4098</td> <td>    0.030</td> <td>   13.543</td> <td> 0.000</td> <td>    0.350</td> <td>    0.469</td>\n",
       "</tr>\n",
       "<tr>\n",
       "  <th>logLOTSIZE</th> <td>    0.0263</td> <td>    0.008</td> <td>    3.136</td> <td> 0.002</td> <td>    0.010</td> <td>    0.043</td>\n",
       "</tr>\n",
       "<tr>\n",
       "  <th>BED</th>        <td>    0.0039</td> <td>    0.012</td> <td>    0.331</td> <td> 0.741</td> <td>   -0.019</td> <td>    0.027</td>\n",
       "</tr>\n",
       "<tr>\n",
       "  <th>BATH</th>       <td>    0.1163</td> <td>    0.009</td> <td>   12.271</td> <td> 0.000</td> <td>    0.098</td> <td>    0.135</td>\n",
       "</tr>\n",
       "<tr>\n",
       "  <th>BUILT</th>      <td>    0.0013</td> <td>    0.000</td> <td>    6.584</td> <td> 0.000</td> <td>    0.001</td> <td>    0.002</td>\n",
       "</tr>\n",
       "<tr>\n",
       "  <th>Theta0</th>     <td>    2.0158</td> <td>    0.063</td> <td>   31.859</td> <td> 0.000</td> <td>    1.892</td> <td>    2.140</td>\n",
       "</tr>\n",
       "<tr>\n",
       "  <th>Theta1</th>     <td>   -0.2029</td> <td>    0.038</td> <td>   -5.303</td> <td> 0.000</td> <td>   -0.278</td> <td>   -0.128</td>\n",
       "</tr>\n",
       "</table>\n",
       "<table class=\"simpletable\">\n",
       "<tr>\n",
       "  <th>Omnibus:</th>       <td>143.830</td> <th>  Durbin-Watson:     </th> <td>   1.570</td> \n",
       "</tr>\n",
       "<tr>\n",
       "  <th>Prob(Omnibus):</th> <td> 0.000</td>  <th>  Jarque-Bera (JB):  </th> <td> 536.943</td> \n",
       "</tr>\n",
       "<tr>\n",
       "  <th>Skew:</th>          <td> 0.285</td>  <th>  Prob(JB):          </th> <td>2.54e-117</td>\n",
       "</tr>\n",
       "<tr>\n",
       "  <th>Kurtosis:</th>      <td> 5.523</td>  <th>  Cond. No.          </th> <td>9.72e+04</td> \n",
       "</tr>\n",
       "</table><br/><br/>Notes:<br/>[1] Standard Errors assume that the covariance matrix of the errors is correctly specified.<br/>[2] The condition number is large, 9.72e+04. This might indicate that there are<br/>strong multicollinearity or other numerical problems."
      ],
      "text/plain": [
       "<class 'statsmodels.iolib.summary.Summary'>\n",
       "\"\"\"\n",
       "                            OLS Regression Results                            \n",
       "==============================================================================\n",
       "Dep. Variable:               logPRICE   R-squared:                       0.865\n",
       "Model:                            OLS   Adj. R-squared:                  0.865\n",
       "Method:                 Least Squares   F-statistic:                     1759.\n",
       "Date:                Tue, 30 Nov 2021   Prob (F-statistic):               0.00\n",
       "Time:                        17:44:50   Log-Likelihood:                -928.66\n",
       "No. Observations:                1926   AIC:                             1873.\n",
       "Df Residuals:                    1918   BIC:                             1918.\n",
       "Df Model:                           7                                         \n",
       "Covariance Type:            nonrobust                                         \n",
       "==============================================================================\n",
       "                 coef    std err          t      P>|t|      [0.025      0.975]\n",
       "------------------------------------------------------------------------------\n",
       "Intercept      6.6473      0.445     14.937      0.000       5.774       7.520\n",
       "logAREA        0.4098      0.030     13.543      0.000       0.350       0.469\n",
       "logLOTSIZE     0.0263      0.008      3.136      0.002       0.010       0.043\n",
       "BED            0.0039      0.012      0.331      0.741      -0.019       0.027\n",
       "BATH           0.1163      0.009     12.271      0.000       0.098       0.135\n",
       "BUILT          0.0013      0.000      6.584      0.000       0.001       0.002\n",
       "Theta0         2.0158      0.063     31.859      0.000       1.892       2.140\n",
       "Theta1        -0.2029      0.038     -5.303      0.000      -0.278      -0.128\n",
       "==============================================================================\n",
       "Omnibus:                      143.830   Durbin-Watson:                   1.570\n",
       "Prob(Omnibus):                  0.000   Jarque-Bera (JB):              536.943\n",
       "Skew:                           0.285   Prob(JB):                    2.54e-117\n",
       "Kurtosis:                       5.523   Cond. No.                     9.72e+04\n",
       "==============================================================================\n",
       "\n",
       "Notes:\n",
       "[1] Standard Errors assume that the covariance matrix of the errors is correctly specified.\n",
       "[2] The condition number is large, 9.72e+04. This might indicate that there are\n",
       "strong multicollinearity or other numerical problems.\n",
       "\"\"\""
      ]
     },
     "execution_count": 84,
     "metadata": {},
     "output_type": "execute_result"
    }
   ],
   "source": [
    "model3 = sm.ols(\"logPRICE ~ logAREA + logLOTSIZE + BED + BATH + BUILT + Theta0 + \" +\n",
    "               \"Theta1\", data=ct_topics).fit()\n",
    "model3.summary()"
   ]
  },
  {
   "cell_type": "markdown",
   "id": "60eac9b7",
   "metadata": {},
   "source": [
    "##### 5) Plot a histogram of the residuals of the three linear models together"
   ]
  },
  {
   "cell_type": "code",
   "execution_count": 85,
   "id": "bb58001b",
   "metadata": {},
   "outputs": [
    {
     "data": {
      "image/png": "[encoded data removed]",
      "text/plain": [
       "<Figure size 432x288 with 1 Axes>"
      ]
     },
     "metadata": {
      "needs_background": "light"
     },
     "output_type": "display_data"
    }
   ],
   "source": [
    "y_mod_3top = model3.resid\n",
    "\n",
    "plt.hist(y_mod_notop, density=True, bins=40, \n",
    "         label = \"Model without the topics\", alpha=0.5)\n",
    "plt.hist(y_mod_10top, density=True, bins=40, \n",
    "         label = \"Model with the 10 topics\", alpha=0.5) \n",
    "plt.hist(y_mod_3top, density=True, bins=40, \n",
    "         label = \"Model with the 3 topics\", alpha=0.5)\n",
    "plt.xlabel(\"Residual Values\")\n",
    "plt.ylabel(\"Probability\")\n",
    "plt.legend(loc=\"upper right\")\n",
    "\n",
    "plt.show()"
   ]
  },
  {
   "cell_type": "markdown",
   "id": "e4994cc4",
   "metadata": {},
   "source": [
    "##### 6) Comment on the improvement over the baseline"
   ]
  },
  {
   "cell_type": "markdown",
   "id": "e07d217f",
   "metadata": {},
   "source": [
    "First of all, it can be seen that the residual histogram of the model with 3 topics shows a more narrow probability distribution compared to the model with 10 topics and the model with no topics, which means it leads to the best fit out of all three."
   ]
  },
  {
   "cell_type": "code",
   "execution_count": 86,
   "id": "d44d540e",
   "metadata": {},
   "outputs": [
    {
     "name": "stdout",
     "output_type": "stream",
     "text": [
      "The adjusted R-squared for the model without the topics is: 0.786\n",
      "The adjusted R-squared for the model with the 10 topics is: 0.848\n",
      "The adjusted R-squared for the model with the 3 topics is: 0.865\n"
     ]
    }
   ],
   "source": [
    "print(\"The adjusted R-squared for the model without the topics is:\",\n",
    "      round(model_without_topics.rsquared_adj,3))\n",
    "print(\"The adjusted R-squared for the model with the 10 topics is:\",\n",
    "      round(model.rsquared_adj,3))\n",
    "print(\"The adjusted R-squared for the model with the 3 topics is:\",\n",
    "      round(model3.rsquared_adj,3))"
   ]
  },
  {
   "cell_type": "markdown",
   "id": "191902d2",
   "metadata": {},
   "source": [
    "From the results above, it can be seen that the model with the 3 topics leads to the highest adjusted R-squared value. The fact that the adjusted R-squared value when using 3 topics has increased compared to the case when 10 topics are used could be due to overfitting the model."
   ]
  },
  {
   "cell_type": "code",
   "execution_count": 52,
   "id": "e68a252a",
   "metadata": {},
   "outputs": [
    {
     "data": {
      "text/plain": [
       "-0.36723402851000125"
      ]
     },
     "execution_count": 52,
     "metadata": {},
     "output_type": "execute_result"
    }
   ],
   "source": [
    "#Model with 3 topics compared with the model without topics\n",
    "\n",
    "mse_notop = model_without_topics.mse_resid\n",
    "mse_top = model3.mse_resid\n",
    "\n",
    "(mse_top - mse_notop)/mse_notop"
   ]
  },
  {
   "cell_type": "code",
   "execution_count": 47,
   "id": "611b835d",
   "metadata": {},
   "outputs": [
    {
     "data": {
      "text/plain": [
       "-0.3681365761491957"
      ]
     },
     "execution_count": 47,
     "metadata": {},
     "output_type": "execute_result"
    }
   ],
   "source": [
    "LOOCV_notop = np.mean((model_without_topics.resid/\n",
    "                       (1 - model_without_topics.get_influence().hat_matrix_diag))**2)\n",
    "LOOCV_top = np.mean((model3.resid/\n",
    "                     (1 - model3.get_influence().hat_matrix_diag))**2)\n",
    "\n",
    "(LOOCV_top - LOOCV_notop)/LOOCV_notop"
   ]
  },
  {
   "cell_type": "markdown",
   "id": "7c87a689",
   "metadata": {},
   "source": [
    "Both the percent decrease in the mean-squared-error (MSE) and the percent decrease in the leave-one-out-cross-validation (LOOCV) error between the model with the 3 topics and the model without topics are higher the the percent decrease for the 10 topic model. This means that the 3 topic model does a better job at predicting the costs than the 10 topic model and the no topic model. The comparison between the 10 topic model and the 3 topic model is given below. This confirms our reasoning."
   ]
  },
  {
   "cell_type": "code",
   "execution_count": 88,
   "id": "09070275",
   "metadata": {},
   "outputs": [
    {
     "data": {
      "text/plain": [
       "-0.10879975879370458"
      ]
     },
     "execution_count": 88,
     "metadata": {},
     "output_type": "execute_result"
    }
   ],
   "source": [
    "#Model with 3 topics compared with the model with 10 topics\n",
    "\n",
    "mse_top10 = model.mse_resid\n",
    "mse_top3 = model3.mse_resid\n",
    "\n",
    "(mse_top3 - mse_top10)/mse_top10"
   ]
  },
  {
   "cell_type": "code",
   "execution_count": 89,
   "id": "3da450e0",
   "metadata": {},
   "outputs": [
    {
     "data": {
      "text/plain": [
       "-0.11692118422248082"
      ]
     },
     "execution_count": 89,
     "metadata": {},
     "output_type": "execute_result"
    }
   ],
   "source": [
    "LOOCV_top10 = np.mean((model.resid/\n",
    "                       (1 - model.get_influence().hat_matrix_diag))**2)\n",
    "LOOCV_top3 = np.mean((model3.resid/\n",
    "                      (1 - model3.get_influence().hat_matrix_diag))**2)\n",
    "\n",
    "(LOOCV_top3 - LOOCV_top10)/LOOCV_top10"
   ]
  },
  {
   "cell_type": "markdown",
   "id": "46629a37",
   "metadata": {},
   "source": [
    "#### 3.7 Interpretation\n",
    "\n",
    "Now, interpret the model. Use the coefficients of the linear model to \n",
    "help interpret the meaning of the topics. Comment on what this says \n",
    "about the effectiveness of the topic model for predicting the sale price \n",
    "of the house. Does it make intuitive sense? Why or why not?\n"
   ]
  },
  {
   "cell_type": "markdown",
   "id": "8caa08e0",
   "metadata": {},
   "source": [
    "In general, the models with the topics included performed better at predicting the house prices than the model without topics. As a consequence, one can conclude that there is any additional information hidden in the descriptions of the houses that improves the model of the price. \n",
    "\n",
    "**For example in the 10 topic model:**\n",
    "\n",
    "The first topic (\"TOPIC 0\") is about buzzwords like kayak, landscape, ny, etc. Attractive things that people like to have as an extra in/around their house. The coefficient for the topic proportion is a positive value, which means that the more this topic is present, the higher the price will be. This makes sense as people like these buzzwords or extra additions to the house. \n",
    "\n",
    "The second topic (\"TOPIC 1\") is about how close or far certain things in the neighborhood are (e.g. location or how far/close the grocery shop is). The coefficient for this topic proportion is negative, which means that if this topic is more present, the price of the housing will drop. This means that the writer of the discription will most likely wrote a negative review about how far everything is. This topic has the highest negative influence out of all the topics.\n",
    "\n",
    "The topic proportion that has the highest positive influence (positive coefficient) is the seventh topic (\"TOPIC 6\"). This topic is about nature (sunsets, views, etc.) which definitely has a positive impact on the price.\n",
    "\n",
    "**For example in the 3 topic model:**\n",
    "\n",
    "The first topic is about nature, so it makes sense that the coefficient of topic proportion $\\theta_0$ is positive. The second topic is about location and has a negative coefficient, so it again might talk about how far certain things are. \n",
    "\n",
    "**Conclusion**\n",
    "\n",
    "Including the discription (by means of using topic proportions as predictor variables) is a good idea and should be included in the final model. One should, however, make sure that not too many topics are included, as this could result to overfitting. From the summary of the 10 topic model, it can for example be seen that topic 7 and topic 8 are not significant. For the final model, one should still find out the optimal amount of topics to include."
   ]
  },
  {
   "cell_type": "markdown",
   "id": "42d5de01",
   "metadata": {},
   "source": [
    "### Problem 4: Topic models unite! (20 points)\n",
    "\n",
    "In this problem we will continue working with topic models, but this time with a new dataset. Instead of real estate listings, we will create topic models over speeches from the United Nations, as described\n",
    "[here](https://towardsdatascience.com/exploring-the-un-general-debates-with-dynamic-topic-models-72dc0e307696). \n",
    "The dataset was [obtained from Kaggle](https://www.kaggle.com/unitednations/un-general-debates/home), an online community of data scientists. "
   ]
  },
  {
   "cell_type": "code",
   "execution_count": 1,
   "id": "c6a3e15b",
   "metadata": {},
   "outputs": [],
   "source": [
    "import numpy as np\n",
    "import pandas as pd\n",
    "import re\n",
    "import gensim\n",
    "from collections import Counter\n",
    "import matplotlib.pyplot as plt\n",
    "%matplotlib inline"
   ]
  },
  {
   "cell_type": "markdown",
   "id": "1b9da261",
   "metadata": {},
   "source": [
    "The data are in a CSV format in `un-general-debates.csv`. To read it in you can use the \n",
    "function `pd.read_csv`."
   ]
  },
  {
   "cell_type": "code",
   "execution_count": 3,
   "id": "8a3646c4",
   "metadata": {},
   "outputs": [
    {
     "name": "stdout",
     "output_type": "stream",
     "text": [
      "CPU times: user 1.82 s, sys: 835 ms, total: 2.66 s\n",
      "Wall time: 38 s\n"
     ]
    }
   ],
   "source": [
    "%%time\n",
    "un_data = pd.read_csv('https://sds265.s3.amazonaws.com/un-general-debates.csv')"
   ]
  },
  {
   "cell_type": "code",
   "execution_count": 4,
   "id": "f54c0951",
   "metadata": {},
   "outputs": [],
   "source": [
    "un_data.to_csv(\"speeches.csv\", index=False)"
   ]
  },
  {
   "cell_type": "markdown",
   "id": "a104744c",
   "metadata": {},
   "source": [
    "Your task is to build a topic model of these UN speeches.\n",
    "\n",
    "\n",
    "#### 4.1 Clean and process the data, and fit a topic model.\n",
    "\n",
    "You can simply copy over the code from Problem 3, and make appropriate modifications here. This time build \n",
    "a topic model with 15 topics. Here are some suggestions that may help.\n",
    "\n",
    "* You can take just the first (say) 5,000 characters of each speech. Take more or less as you see fit. \n",
    "* Construct a vocabulary that has no more than 5,000 tokens, by setting a sufficiently high count cutoff for the minimum number of times a word appears in the corpus.\n",
    "* The above two items will help the topic model train in a reasonable amount of time and memory."
   ]
  },
  {
   "cell_type": "markdown",
   "id": "e6664186",
   "metadata": {},
   "source": [
    "Here are the helper functions used above, just renamed:"
   ]
  },
  {
   "cell_type": "code",
   "execution_count": 217,
   "id": "9f016140",
   "metadata": {},
   "outputs": [],
   "source": [
    "def cleanup_speech(desc):\n",
    "    if type(desc) == float:\n",
    "        desc = \"\"\n",
    "    words = [re.sub(r'[^a-z]', '', w) \n",
    "             for w in desc.lower().split(' ')]\n",
    "    return ' '.join(words)\n",
    "\n",
    "def reduce_to_vocabulary(desc, vocab):\n",
    "    return ' '.join([w \n",
    "                     for w in cleanup_description(desc).split(' ') \n",
    "                     if w in vocab])\n"
   ]
  },
  {
   "cell_type": "code",
   "execution_count": 219,
   "id": "1befbafa",
   "metadata": {},
   "outputs": [
    {
     "name": "stdout",
     "output_type": "stream",
     "text": [
      "Number of unique tokens: 343432\n"
     ]
    }
   ],
   "source": [
    "vocab = Counter()\n",
    "for dsc in un_data[\"text\"]:\n",
    "    vocab.update(cleanup_speech(dsc).split(' '))\n",
    "print(\"Number of unique tokens: %d\" % len(vocab))"
   ]
  },
  {
   "cell_type": "code",
   "execution_count": 220,
   "id": "d0481cff",
   "metadata": {},
   "outputs": [
    {
     "name": "stdout",
     "output_type": "stream",
     "text": [
      "Number of unique tokens: 4997\n"
     ]
    }
   ],
   "source": [
    "vocab = Counter(token for token in vocab.elements() \n",
    "                if vocab[token] > 211)\n",
    "stop_words = [item[0] for item \n",
    "              in vocab.most_common(340)]\n",
    "vocab = Counter(token for token in vocab.elements() \n",
    "                if token not in stop_words)\n",
    "print(\"Number of unique tokens: %d\" % len(vocab))"
   ]
  },
  {
   "cell_type": "code",
   "execution_count": 221,
   "id": "b40d2e8d",
   "metadata": {},
   "outputs": [],
   "source": [
    "id2word = {idx: pair[0] for idx, pair \n",
    "           in enumerate(vocab.items())}\n",
    "word2id = {pair[0]: idx for idx, pair \n",
    "           in enumerate(vocab.items())}\n",
    "\n",
    "tokens = []\n",
    "for dsc in un_data[\"text\"]:\n",
    "    clean = reduce_to_vocabulary(cleanup_speech(dsc)[0:5000], \n",
    "                                 vocab)\n",
    "    toks = clean.split(' ')\n",
    "    tokens.append(toks)"
   ]
  },
  {
   "cell_type": "code",
   "execution_count": 222,
   "id": "0c5b6605",
   "metadata": {},
   "outputs": [],
   "source": [
    "corpus = []\n",
    "for toks in tokens:\n",
    "    tkn_count = Counter(toks)\n",
    "    corpus.append([(word2id[item[0]], item[1]) \n",
    "                   for item in tkn_count.items()])"
   ]
  },
  {
   "cell_type": "code",
   "execution_count": 223,
   "id": "d71f967e",
   "metadata": {},
   "outputs": [
    {
     "name": "stdout",
     "output_type": "stream",
     "text": [
      "CPU times: user 30.1 s, sys: 12.5 ms, total: 30.1 s\n",
      "Wall time: 30.1 s\n"
     ]
    }
   ],
   "source": [
    "%%time\n",
    "tm = gensim.models.ldamodel.LdaModel(corpus=corpus,\n",
    "                                     id2word=id2word,\n",
    "                                     num_topics=15, \n",
    "                                     random_state=100,\n",
    "                                     chunksize=100,\n",
    "                                     passes=10,\n",
    "                                     alpha='auto',\n",
    "                                     per_word_topics=True)"
   ]
  },
  {
   "cell_type": "code",
   "execution_count": 224,
   "id": "23e473db",
   "metadata": {},
   "outputs": [],
   "source": [
    "num_topics = 15\n",
    "num_words = 15\n",
    "top_words = pd.DataFrame({'word rank': np.arange(1,num_words+1)})\n",
    "for k in np.arange(num_topics): \n",
    "    topic = tm.get_topic_terms(k, num_words)\n",
    "    words = [id2word[topic[i][0]] for i in np.arange(num_words)]\n",
    "    probs = [topic[i][1] for i in np.arange(num_words)]\n",
    "    top_words['topic %d' % k] = words"
   ]
  },
  {
   "cell_type": "code",
   "execution_count": 225,
   "id": "eed542c2",
   "metadata": {},
   "outputs": [],
   "source": [
    "topic_dist = tm.get_document_topics(corpus[example])\n",
    "topics = [pair[0] for pair in topic_dist]\n",
    "probabilities = [pair[1] for pair in topic_dist]\n",
    "topic_dist_table = pd.DataFrame()\n",
    "topic_dist_table['Topic'] = topics\n",
    "topic_dist_table['Probabilities'] = probabilities"
   ]
  },
  {
   "cell_type": "markdown",
   "id": "0f0f4d6d",
   "metadata": {},
   "source": [
    "Now, complete the processing of the data in order to build a 15-topic model, displaying the top words in each topic."
   ]
  },
  {
   "cell_type": "code",
   "execution_count": 226,
   "id": "e4a28e03",
   "metadata": {},
   "outputs": [
    {
     "data": {
      "text/html": [
       "<div>\n",
       "<style scoped>\n",
       "    .dataframe tbody tr th:only-of-type {\n",
       "        vertical-align: middle;\n",
       "    }\n",
       "\n",
       "    .dataframe tbody tr th {\n",
       "        vertical-align: top;\n",
       "    }\n",
       "\n",
       "    .dataframe thead th {\n",
       "        text-align: right;\n",
       "    }\n",
       "</style>\n",
       "<table border=\"1\" class=\"dataframe\">\n",
       "  <thead>\n",
       "    <tr style=\"text-align: right;\">\n",
       "      <th></th>\n",
       "      <th>word rank</th>\n",
       "      <th>topic 0</th>\n",
       "      <th>topic 1</th>\n",
       "      <th>topic 2</th>\n",
       "      <th>topic 3</th>\n",
       "      <th>topic 4</th>\n",
       "      <th>topic 5</th>\n",
       "      <th>topic 6</th>\n",
       "      <th>topic 7</th>\n",
       "      <th>topic 8</th>\n",
       "      <th>topic 9</th>\n",
       "      <th>topic 10</th>\n",
       "      <th>topic 11</th>\n",
       "      <th>topic 12</th>\n",
       "      <th>topic 13</th>\n",
       "      <th>topic 14</th>\n",
       "    </tr>\n",
       "  </thead>\n",
       "  <tbody>\n",
       "    <tr>\n",
       "      <th>0</th>\n",
       "      <td>1</td>\n",
       "      <td>cent</td>\n",
       "      <td>korea</td>\n",
       "      <td>ago</td>\n",
       "      <td>peacekeeping</td>\n",
       "      <td>dignity</td>\n",
       "      <td>election</td>\n",
       "      <td>afghanistan</td>\n",
       "      <td>island</td>\n",
       "      <td>goals</td>\n",
       "      <td>changes</td>\n",
       "      <td>american</td>\n",
       "      <td>terrorist</td>\n",
       "      <td>iraq</td>\n",
       "      <td>mass</td>\n",
       "      <td>attacks</td>\n",
       "    </tr>\n",
       "    <tr>\n",
       "      <th>1</th>\n",
       "      <td>2</td>\n",
       "      <td>globalization</td>\n",
       "      <td>burundi</td>\n",
       "      <td>how</td>\n",
       "      <td>kingdom</td>\n",
       "      <td>values</td>\n",
       "      <td>him</td>\n",
       "      <td>namibia</td>\n",
       "      <td>islands</td>\n",
       "      <td>millennium</td>\n",
       "      <td>detente</td>\n",
       "      <td>latin</td>\n",
       "      <td>ofthe</td>\n",
       "      <td>kuwait</td>\n",
       "      <td>nonproliferation</td>\n",
       "      <td>challenge</td>\n",
       "    </tr>\n",
       "    <tr>\n",
       "      <th>2</th>\n",
       "      <td>3</td>\n",
       "      <td>debt</td>\n",
       "      <td>reconciliation</td>\n",
       "      <td>say</td>\n",
       "      <td>operations</td>\n",
       "      <td>nation</td>\n",
       "      <td>congratulations</td>\n",
       "      <td>apartheid</td>\n",
       "      <td>pacific</td>\n",
       "      <td>programme</td>\n",
       "      <td>soviet</td>\n",
       "      <td>caribbean</td>\n",
       "      <td>september</td>\n",
       "      <td>lebanon</td>\n",
       "      <td>destruction</td>\n",
       "      <td>collective</td>\n",
       "    </tr>\n",
       "    <tr>\n",
       "      <th>3</th>\n",
       "      <td>4</td>\n",
       "      <td>poor</td>\n",
       "      <td>elections</td>\n",
       "      <td>am</td>\n",
       "      <td>mediation</td>\n",
       "      <td>cultural</td>\n",
       "      <td>tribute</td>\n",
       "      <td>southern</td>\n",
       "      <td>guinea</td>\n",
       "      <td>summit</td>\n",
       "      <td>developments</td>\n",
       "      <td>guyana</td>\n",
       "      <td>acts</td>\n",
       "      <td>aggression</td>\n",
       "      <td>drug</td>\n",
       "      <td>face</td>\n",
       "    </tr>\n",
       "    <tr>\n",
       "      <th>4</th>\n",
       "      <td>5</td>\n",
       "      <td>economies</td>\n",
       "      <td>sudan</td>\n",
       "      <td>day</td>\n",
       "      <td>cyprus</td>\n",
       "      <td>equality</td>\n",
       "      <td>behalf</td>\n",
       "      <td>liberation</td>\n",
       "      <td>testing</td>\n",
       "      <td>partnership</td>\n",
       "      <td>asia</td>\n",
       "      <td>guineabissau</td>\n",
       "      <td>fight</td>\n",
       "      <td>islamic</td>\n",
       "      <td>trafficking</td>\n",
       "      <td>sustainable</td>\n",
       "    </tr>\n",
       "    <tr>\n",
       "      <th>5</th>\n",
       "      <td>6</td>\n",
       "      <td>markets</td>\n",
       "      <td>korean</td>\n",
       "      <td>then</td>\n",
       "      <td>al</td>\n",
       "      <td>universal</td>\n",
       "      <td>extend</td>\n",
       "      <td>pakistan</td>\n",
       "      <td>adverse</td>\n",
       "      <td>institutions</td>\n",
       "      <td>cold</td>\n",
       "      <td>el</td>\n",
       "      <td>unitednations</td>\n",
       "      <td>palestine</td>\n",
       "      <td>crime</td>\n",
       "      <td>address</td>\n",
       "    </tr>\n",
       "    <tr>\n",
       "      <th>6</th>\n",
       "      <td>7</td>\n",
       "      <td>million</td>\n",
       "      <td>unity</td>\n",
       "      <td>violence</td>\n",
       "      <td>majesty</td>\n",
       "      <td>society</td>\n",
       "      <td>pay</td>\n",
       "      <td>angola</td>\n",
       "      <td>solomon</td>\n",
       "      <td>strategy</td>\n",
       "      <td>mutual</td>\n",
       "      <td>salvador</td>\n",
       "      <td>theunited</td>\n",
       "      <td>occupied</td>\n",
       "      <td>hungary</td>\n",
       "      <td>nobel</td>\n",
       "    </tr>\n",
       "    <tr>\n",
       "      <th>7</th>\n",
       "      <td>8</td>\n",
       "      <td>billion</td>\n",
       "      <td>cambodia</td>\n",
       "      <td>never</td>\n",
       "      <td>veto</td>\n",
       "      <td>man</td>\n",
       "      <td>appreciation</td>\n",
       "      <td>minority</td>\n",
       "      <td>france</td>\n",
       "      <td>society</td>\n",
       "      <td>whole</td>\n",
       "      <td>honduras</td>\n",
       "      <td>kofi</td>\n",
       "      <td>washington</td>\n",
       "      <td>proliferation</td>\n",
       "      <td>prize</td>\n",
       "    </tr>\n",
       "    <tr>\n",
       "      <th>8</th>\n",
       "      <td>9</td>\n",
       "      <td>market</td>\n",
       "      <td>peninsula</td>\n",
       "      <td>know</td>\n",
       "      <td>king</td>\n",
       "      <td>sovereign</td>\n",
       "      <td>predecessor</td>\n",
       "      <td>afghan</td>\n",
       "      <td>ocean</td>\n",
       "      <td>women</td>\n",
       "      <td>era</td>\n",
       "      <td>nicaragua</td>\n",
       "      <td>annan</td>\n",
       "      <td>territories</td>\n",
       "      <td>convention</td>\n",
       "      <td>lack</td>\n",
       "    </tr>\n",
       "    <tr>\n",
       "      <th>9</th>\n",
       "      <td>10</td>\n",
       "      <td>industrialized</td>\n",
       "      <td>reunification</td>\n",
       "      <td>why</td>\n",
       "      <td>vii</td>\n",
       "      <td>solidarity</td>\n",
       "      <td>office</td>\n",
       "      <td>grenada</td>\n",
       "      <td>deliberate</td>\n",
       "      <td>commitments</td>\n",
       "      <td>confrontation</td>\n",
       "      <td>display</td>\n",
       "      <td>theinternational</td>\n",
       "      <td>occupation</td>\n",
       "      <td>webelieve</td>\n",
       "      <td>leadership</td>\n",
       "    </tr>\n",
       "    <tr>\n",
       "      <th>10</th>\n",
       "      <td>11</td>\n",
       "      <td>access</td>\n",
       "      <td>transitional</td>\n",
       "      <td>few</td>\n",
       "      <td>missions</td>\n",
       "      <td>faith</td>\n",
       "      <td>presidency</td>\n",
       "      <td>zimbabwe</td>\n",
       "      <td>papua</td>\n",
       "      <td>achieving</td>\n",
       "      <td>events</td>\n",
       "      <td>timor</td>\n",
       "      <td>inthe</td>\n",
       "      <td>territory</td>\n",
       "      <td>illicit</td>\n",
       "      <td>terrorists</td>\n",
       "    </tr>\n",
       "    <tr>\n",
       "      <th>11</th>\n",
       "      <td>12</td>\n",
       "      <td>sri</td>\n",
       "      <td>september</td>\n",
       "      <td>let</td>\n",
       "      <td>mediterranean</td>\n",
       "      <td>principle</td>\n",
       "      <td>sincere</td>\n",
       "      <td>mozambique</td>\n",
       "      <td>forum</td>\n",
       "      <td>set</td>\n",
       "      <td>germany</td>\n",
       "      <td>guatemala</td>\n",
       "      <td>summit</td>\n",
       "      <td>gulf</td>\n",
       "      <td>chemical</td>\n",
       "      <td>facing</td>\n",
       "    </tr>\n",
       "    <tr>\n",
       "      <th>12</th>\n",
       "      <td>13</td>\n",
       "      <td>production</td>\n",
       "      <td>army</td>\n",
       "      <td>too</td>\n",
       "      <td>romania</td>\n",
       "      <td>discrimination</td>\n",
       "      <td>success</td>\n",
       "      <td>colonialism</td>\n",
       "      <td>devise</td>\n",
       "      <td>health</td>\n",
       "      <td>agreements</td>\n",
       "      <td>uruguay</td>\n",
       "      <td>humanitarian</td>\n",
       "      <td>israeli</td>\n",
       "      <td>niger</td>\n",
       "      <td>humanity</td>\n",
       "    </tr>\n",
       "    <tr>\n",
       "      <th>13</th>\n",
       "      <td>14</td>\n",
       "      <td>rate</td>\n",
       "      <td>return</td>\n",
       "      <td>words</td>\n",
       "      <td>swaziland</td>\n",
       "      <td>moral</td>\n",
       "      <td>experience</td>\n",
       "      <td>mandela</td>\n",
       "      <td>barbados</td>\n",
       "      <td>achieved</td>\n",
       "      <td>german</td>\n",
       "      <td>colombia</td>\n",
       "      <td>convention</td>\n",
       "      <td>iraqi</td>\n",
       "      <td>russia</td>\n",
       "      <td>urgent</td>\n",
       "    </tr>\n",
       "    <tr>\n",
       "      <th>14</th>\n",
       "      <td>15</td>\n",
       "      <td>investment</td>\n",
       "      <td>commission</td>\n",
       "      <td>century</td>\n",
       "      <td>burkina</td>\n",
       "      <td>independent</td>\n",
       "      <td>convey</td>\n",
       "      <td>racist</td>\n",
       "      <td>convention</td>\n",
       "      <td>post</td>\n",
       "      <td>china</td>\n",
       "      <td>costa</td>\n",
       "      <td>comprehensive</td>\n",
       "      <td>acts</td>\n",
       "      <td>ratified</td>\n",
       "      <td>greater</td>\n",
       "    </tr>\n",
       "  </tbody>\n",
       "</table>\n",
       "</div>"
      ],
      "text/plain": [
       "    word rank         topic 0         topic 1   topic 2        topic 3  \\\n",
       "0           1            cent           korea       ago   peacekeeping   \n",
       "1           2   globalization         burundi       how        kingdom   \n",
       "2           3            debt  reconciliation       say     operations   \n",
       "3           4            poor       elections        am      mediation   \n",
       "4           5       economies           sudan       day         cyprus   \n",
       "5           6         markets          korean      then             al   \n",
       "6           7         million           unity  violence        majesty   \n",
       "7           8         billion        cambodia     never           veto   \n",
       "8           9          market       peninsula      know           king   \n",
       "9          10  industrialized   reunification       why            vii   \n",
       "10         11          access    transitional       few       missions   \n",
       "11         12             sri       september       let  mediterranean   \n",
       "12         13      production            army       too        romania   \n",
       "13         14            rate          return     words      swaziland   \n",
       "14         15      investment      commission   century        burkina   \n",
       "\n",
       "           topic 4          topic 5      topic 6     topic 7       topic 8  \\\n",
       "0          dignity         election  afghanistan      island         goals   \n",
       "1           values              him      namibia     islands    millennium   \n",
       "2           nation  congratulations    apartheid     pacific     programme   \n",
       "3         cultural          tribute     southern      guinea        summit   \n",
       "4         equality           behalf   liberation     testing   partnership   \n",
       "5        universal           extend     pakistan     adverse  institutions   \n",
       "6          society              pay       angola     solomon      strategy   \n",
       "7              man     appreciation     minority      france       society   \n",
       "8        sovereign      predecessor       afghan       ocean         women   \n",
       "9       solidarity           office      grenada  deliberate   commitments   \n",
       "10           faith       presidency     zimbabwe       papua     achieving   \n",
       "11       principle          sincere   mozambique       forum           set   \n",
       "12  discrimination          success  colonialism      devise        health   \n",
       "13           moral       experience      mandela    barbados      achieved   \n",
       "14     independent           convey       racist  convention          post   \n",
       "\n",
       "          topic 9      topic 10          topic 11     topic 12  \\\n",
       "0         changes      american         terrorist         iraq   \n",
       "1         detente         latin             ofthe       kuwait   \n",
       "2          soviet     caribbean         september      lebanon   \n",
       "3    developments        guyana              acts   aggression   \n",
       "4            asia  guineabissau             fight      islamic   \n",
       "5            cold            el     unitednations    palestine   \n",
       "6          mutual      salvador         theunited     occupied   \n",
       "7           whole      honduras              kofi   washington   \n",
       "8             era     nicaragua             annan  territories   \n",
       "9   confrontation       display  theinternational   occupation   \n",
       "10         events         timor             inthe    territory   \n",
       "11        germany     guatemala            summit         gulf   \n",
       "12     agreements       uruguay      humanitarian      israeli   \n",
       "13         german      colombia        convention        iraqi   \n",
       "14          china         costa     comprehensive         acts   \n",
       "\n",
       "            topic 13     topic 14  \n",
       "0               mass      attacks  \n",
       "1   nonproliferation    challenge  \n",
       "2        destruction   collective  \n",
       "3               drug         face  \n",
       "4        trafficking  sustainable  \n",
       "5              crime      address  \n",
       "6            hungary        nobel  \n",
       "7      proliferation        prize  \n",
       "8         convention         lack  \n",
       "9          webelieve   leadership  \n",
       "10           illicit   terrorists  \n",
       "11          chemical       facing  \n",
       "12             niger     humanity  \n",
       "13            russia       urgent  \n",
       "14          ratified      greater  "
      ]
     },
     "execution_count": 226,
     "metadata": {},
     "output_type": "execute_result"
    }
   ],
   "source": [
    "top_words"
   ]
  },
  {
   "cell_type": "markdown",
   "id": "cb6483f7",
   "metadata": {},
   "source": [
    "#### 4.2 Label the Topics\n",
    "\n",
    "Label each the 15 topics with a short (4 words or less) description. "
   ]
  },
  {
   "cell_type": "code",
   "execution_count": 227,
   "id": "b8d5a7fd",
   "metadata": {},
   "outputs": [
    {
     "name": "stdout",
     "output_type": "stream",
     "text": [
      "{0: 'Economy, Finance and Industralization', 1: 'Civil Wars', 2: 'Connector Words', 3: 'Monarchs and Sovereign States', 4: 'Solidarity and Human Rights', 5: 'Successes and Congratulations', 6: 'Slaverny, Racism, and Freedom', 7: 'Caribbean Islands', 8: 'Achievements and Plans', 9: 'Cold War Related', 10: 'Central and South America', 11: 'Terrorism', 12: 'Problems in Middle East', 13: 'Illegal Drug Trafficking', 14: 'Future Challenges'}\n"
     ]
    }
   ],
   "source": [
    "labeling = [\"Economy, Finance and Industralization\",\n",
    "            \"Civil Wars\",\n",
    "            \"Connector Words\",\n",
    "            \"Monarchs and Sovereign States\",\n",
    "            \"Solidarity and Human Rights\",\n",
    "            \"Successes and Congratulations\",\n",
    "            \"Slaverny, Racism, and Freedom\",\n",
    "            \"Caribbean Islands\",\n",
    "            \"Achievements and Plans\",\n",
    "            \"Cold War Related\",\n",
    "            \"Central and South America\",\n",
    "            \"Terrorism\",\n",
    "            \"Problems in Middle East\",\n",
    "            \"Illegal Drug Trafficking\",\n",
    "            \"Future Challenges\"]\n",
    "numbering = [i for i in np.arange(15)]\n",
    "\n",
    "zip_iterator = zip(numbering, labeling)\n",
    "a_dictionary = dict(zip_iterator)\n",
    "print(a_dictionary)\n"
   ]
  },
  {
   "cell_type": "markdown",
   "id": "9a42135d",
   "metadata": {},
   "source": [
    "#### 4.3 Table of Topics\n",
    "\n",
    "Create a function `create_speech_table(data, speeches, corpus, lda_model)` which does the following:\n",
    "- Goes through every speech and finds the most likely topic for that speech.\n",
    "- Creates a DataFrame `speech_table` that has the following columns\n",
    "    - `topic`: the topic number of the most likely topic for each abstract\n",
    "    - `label`: the topic label of that topic number, which you assigned in part 1\n",
    "    - `prob`: the probability of that topic number\n",
    "    - `speech`: a string containing the first 200 characters of the speech\n",
    "- Show the first 10 rows of the table, then return the table"
   ]
  },
  {
   "cell_type": "code",
   "execution_count": 242,
   "id": "d3f14f86",
   "metadata": {},
   "outputs": [],
   "source": [
    "def create_speech_table(data, speeches, corpus, lda_model):\n",
    "    n_sp = len(speeches)\n",
    "    topics_col = np.zeros(n_sp)\n",
    "    labels_col = []\n",
    "    prob_col = np.zeros(n_sp)\n",
    "    speech_col = []\n",
    "    for i in np.arange(n_sp):\n",
    "        topic_dist = tm.get_document_topics(corpus[i])\n",
    "        probabilities = [pair[1] for pair in topic_dist]\n",
    "        prob_col[i] = np.max(probabilities)\n",
    "        topics_col[i] = topic_dist[np.argmax(probabilities)][0]\n",
    "        labels_col.append(labeling[topic_dist[np.argmax(probabilities)][0]])\n",
    "        speech_col.append(speeches[i][0:200])\n",
    "    speech_table = pd.DataFrame()\n",
    "    speech_table[\"topic\"] = topics_col\n",
    "    speech_table[\"label\"] = labels_col\n",
    "    speech_table[\"prob\"] = prob_col\n",
    "    speech_table[\"speech\"] = speech_col\n",
    "    print(speech_table.head(10))\n",
    "    return speech_table"
   ]
  },
  {
   "cell_type": "markdown",
   "id": "be1266f6",
   "metadata": {},
   "source": [
    "#### 4.4 Analysis for selected speeches\n",
    "\n",
    "Choose at least five speeches and discuss how the assignment of topics either does or does not make sense, according to your own understanding of the speeches and topics."
   ]
  },
  {
   "cell_type": "code",
   "execution_count": 243,
   "id": "0a54a23f",
   "metadata": {},
   "outputs": [
    {
     "name": "stdout",
     "output_type": "stream",
     "text": [
      "   topic                                  label      prob  \\\n",
      "0    5.0          Successes and Congratulations  0.334689   \n",
      "1    9.0                       Cold War Related  0.296679   \n",
      "2    9.0                       Cold War Related  0.394077   \n",
      "3    8.0                 Achievements and Plans  0.216619   \n",
      "4    0.0  Economy, Finance and Industralization  0.215844   \n",
      "5    2.0                        Connector Words  0.353945   \n",
      "6    5.0          Successes and Congratulations  0.249118   \n",
      "7    9.0                       Cold War Related  0.334110   \n",
      "8    9.0                       Cold War Related  0.378043   \n",
      "9    9.0                       Cold War Related  0.432817   \n",
      "\n",
      "                                              speech  \n",
      "0  ﻿It is indeed a pleasure for me and the member...  \n",
      "1  ﻿\\nMay I begin by congratulating you. Sir, on ...  \n",
      "2  ﻿\\nMr. President, it is a particular pleasure ...  \n",
      "3  ﻿\\nDuring the debate at the fortieth session o...  \n",
      "4  ﻿I should like at the outset to express my del...  \n",
      "5  ﻿Before you began to occupy that exalted seat,...  \n",
      "6  ﻿It gives me great pleasure to congratulate Am...  \n",
      "7  ﻿My task as head of the delegation of the Sovi...  \n",
      "8  ﻿\\nPermit me to begin by warmly congratulating...  \n",
      "9  ﻿I should like to express my sincere congratul...  \n"
     ]
    }
   ],
   "source": [
    "df_typespeeches = create_speech_table(un_data, \n",
    "                                      un_data[\"text\"], \n",
    "                                      corpus, tm)"
   ]
  },
  {
   "cell_type": "code",
   "execution_count": 244,
   "id": "cb698a93",
   "metadata": {},
   "outputs": [
    {
     "name": "stdout",
     "output_type": "stream",
     "text": [
      "topic                              5.0\n",
      "label    Successes and Congratulations\n",
      "prob                          0.334689\n",
      "Name: 0, dtype: object\n",
      "﻿It is indeed a pleasure for me and the members of my delegation to extend to Ambassador Garba our sincere congratulations on his election to the presidency of the forty-fourth session of the General \n"
     ]
    }
   ],
   "source": [
    "print(df_typespeeches.iloc[0,0:3])\n",
    "print(df_typespeeches.iloc[0,3])"
   ]
  },
  {
   "cell_type": "markdown",
   "id": "051ba83a",
   "metadata": {},
   "source": [
    "This assignment makes sense, as it is a congratulations speech for Joseph Nanven Garba for his precidency in the United Nations General Assembly from 1989 to 1990."
   ]
  },
  {
   "cell_type": "code",
   "execution_count": 245,
   "id": "198cc269",
   "metadata": {},
   "outputs": [
    {
     "name": "stdout",
     "output_type": "stream",
     "text": [
      "topic                       8.0\n",
      "label    Achievements and Plans\n",
      "prob                   0.216619\n",
      "Name: 3, dtype: object\n",
      "﻿\n",
      "During the debate at the fortieth session of the General Assembly four years ago, President Sanguinetti announced to the world community from this very rostrum that Uruguay had resumed its tradition\n"
     ]
    }
   ],
   "source": [
    "print(df_typespeeches.iloc[3,0:3])\n",
    "print(df_typespeeches.iloc[3,3])"
   ]
  },
  {
   "cell_type": "markdown",
   "id": "4e1620e3",
   "metadata": {},
   "source": [
    "This assignment also makes sense, as the speech is about Sanguinetti (Former President of Uruguay) and his plans to improve the country\n"
   ]
  },
  {
   "cell_type": "code",
   "execution_count": 246,
   "id": "939cd479",
   "metadata": {},
   "outputs": [
    {
     "name": "stdout",
     "output_type": "stream",
     "text": [
      "topic         11.0\n",
      "label    Terrorism\n",
      "prob      0.356097\n",
      "Name: 7502, dtype: object\n",
      "﻿This session\n",
      "that is taking place under extraordinary circumstances,\n",
      "when the whole world is still reeling in shock from the\n",
      "world’s most terrible terrorist attacks, carried out in\n",
      "New York and Washi\n"
     ]
    }
   ],
   "source": [
    "print(df_typespeeches.iloc[7502,0:3])\n",
    "print(df_typespeeches.iloc[7502,3])"
   ]
  },
  {
   "cell_type": "markdown",
   "id": "7aafb550",
   "metadata": {},
   "source": [
    "This assignment makes sense, as it talks about the 9/11 attacks and terrorism related content."
   ]
  },
  {
   "cell_type": "code",
   "execution_count": 247,
   "id": "d59463e0",
   "metadata": {},
   "outputs": [
    {
     "name": "stdout",
     "output_type": "stream",
     "text": [
      "topic         11.0\n",
      "label    Terrorism\n",
      "prob      0.293997\n",
      "Name: 7506, dtype: object\n",
      "﻿On behalf of the State of Kuwait, it\n",
      "gives me pleasure to congratulate Mr. Han Seung-soo,\n",
      "and his friendly country, the Republic of Korea, on his\n",
      "election as President of the fifty-sixth session of t\n"
     ]
    }
   ],
   "source": [
    "print(df_typespeeches.iloc[7506,0:3])\n",
    "print(df_typespeeches.iloc[7506,3])"
   ]
  },
  {
   "cell_type": "markdown",
   "id": "c1d46345",
   "metadata": {},
   "source": [
    "This assignment makes less sense, as it is more about congratulating someone than a terrorist attack. Assigning it 5: 'Successes and Congratulations' would make more sense."
   ]
  },
  {
   "cell_type": "code",
   "execution_count": 248,
   "id": "36febba3",
   "metadata": {},
   "outputs": [
    {
     "name": "stdout",
     "output_type": "stream",
     "text": [
      "topic                 9.0\n",
      "label    Cold War Related\n",
      "prob             0.243547\n",
      "Name: 748, dtype: object\n",
      "﻿At the outset, I would like to congratulate you, Sir, on your election to the presidency of the General Assembly for this session. I have no doubt that, like your predecessor, you will guide its proc\n"
     ]
    }
   ],
   "source": [
    "print(df_typespeeches.iloc[748,0:3])\n",
    "print(df_typespeeches.iloc[748,3])"
   ]
  },
  {
   "cell_type": "markdown",
   "id": "f2303bdd",
   "metadata": {},
   "source": [
    "This assignment makes sense, as the speech is about welcoming the Republic of Korea after the Cold War"
   ]
  }
 ],
 "metadata": {
  "kernelspec": {
   "display_name": "Python 3 (ipykernel)",
   "language": "python",
   "name": "python3"
  },
  "language_info": {
   "codemirror_mode": {
    "name": "ipython",
    "version": 3
   },
   "file_extension": ".py",
   "mimetype": "text/x-python",
   "name": "python",
   "nbconvert_exporter": "python",
   "pygments_lexer": "ipython3",
   "version": "3.8.13"
  },
  "latex_envs": {
   "LaTeX_envs_menu_present": true,
   "autoclose": false,
   "autocomplete": true,
   "bibliofile": "biblio.bib",
   "cite_by": "apalike",
   "current_citInitial": 1,
   "eqLabelWithNumbers": true,
   "eqNumInitial": 1,
   "hotkeys": {
    "equation": "Ctrl-E",
    "itemize": "Ctrl-I"
   },
   "labels_anchors": false,
   "latex_user_defs": false,
   "report_style_numbering": false,
   "user_envs_cfg": false
  },
  "varInspector": {
   "cols": {
    "lenName": 16,
    "lenType": 16,
    "lenVar": 40
   },
   "kernels_config": {
    "python": {
     "delete_cmd_postfix": "",
     "delete_cmd_prefix": "del ",
     "library": "var_list.py",
     "varRefreshCmd": "print(var_dic_list())"
    },
    "r": {
     "delete_cmd_postfix": ") ",
     "delete_cmd_prefix": "rm(",
     "library": "var_list.r",
     "varRefreshCmd": "cat(var_dic_list()) "
    }
   },
   "types_to_exclude": [
    "module",
    "function",
    "builtin_function_or_method",
    "instance",
    "_Feature"
   ],
   "window_display": false
  }
 },
 "nbformat": 4,
 "nbformat_minor": 5
}
