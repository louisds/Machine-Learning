{
 "cells": [
  {
   "cell_type": "code",
   "execution_count": 1,
   "id": "9c1eb7bb",
   "metadata": {},
   "outputs": [],
   "source": [
    "import torch\n",
    "from torch import nn\n",
    "from torch.nn import functional as F"
   ]
  },
  {
   "cell_type": "markdown",
   "id": "00c9228a",
   "metadata": {},
   "source": [
    "# Pytorch Tensors"
   ]
  },
  {
   "cell_type": "markdown",
   "id": "76ce5b9a",
   "metadata": {},
   "source": [
    "Why do we use tensors? Because they have gradients, so when you perform any operation with the tensor, pytorch does the math and stores in the tensor what it has done and how to backpropagate. "
   ]
  },
  {
   "cell_type": "code",
   "execution_count": 2,
   "id": "be14034d",
   "metadata": {},
   "outputs": [
    {
     "name": "stdout",
     "output_type": "stream",
     "text": [
      "tensor([ 0,  1,  2,  3,  4,  5,  6,  7,  8,  9, 10, 11, 12, 13, 14, 15, 16, 17,\n",
      "        18, 19, 20, 21, 22, 23, 24, 25, 26, 27])\n",
      "torch.Size([28])\n"
     ]
    }
   ],
   "source": [
    "# 1D Tensor (28)\n",
    "y = torch.tensor([i for i in range(28)])\n",
    "print(y)\n",
    "print(y.size())"
   ]
  },
  {
   "cell_type": "code",
   "execution_count": 3,
   "id": "d1ac70b6",
   "metadata": {},
   "outputs": [
    {
     "name": "stdout",
     "output_type": "stream",
     "text": [
      "torch.Size([28, 28])\n"
     ]
    }
   ],
   "source": [
    "# 2D Tensor 28x28 (for example an image of 28 by 28 pixels)\n",
    "x = torch.tensor([[i for i in range(28)] for _ in range(28)])\n",
    "print(x.size())"
   ]
  },
  {
   "cell_type": "code",
   "execution_count": 4,
   "id": "c0b5259a",
   "metadata": {},
   "outputs": [
    {
     "name": "stdout",
     "output_type": "stream",
     "text": [
      "torch.Size([784])\n",
      "torch.Size([1, 784])\n"
     ]
    }
   ],
   "source": [
    "# We can reshape the tensor with the view function\n",
    "# A good way of using view is using -1 as its first arg, because this flattens out the tensor\n",
    "\n",
    "x1 = x.view(-1) # Will go from 2D to 1D\n",
    "x2 = x.view(-1,784) # Will stay in 2D\n",
    "\n",
    "print(x1.size())\n",
    "print(x2.size())"
   ]
  },
  {
   "cell_type": "code",
   "execution_count": 5,
   "id": "f6b7ea57",
   "metadata": {},
   "outputs": [
    {
     "name": "stdout",
     "output_type": "stream",
     "text": [
      "tensor(0)\n",
      "tensor(5)\n",
      "5\n"
     ]
    }
   ],
   "source": [
    "# Tensor Calculations\n",
    "\n",
    "a = torch.tensor([0,1])\n",
    "b = torch.tensor([1,0])\n",
    "\n",
    "print(a @ b)\n",
    "\n",
    "c = torch.tensor([[1,2,3], [4,5,6]])\n",
    "\n",
    "print(c[1][1])\n",
    "\n",
    "# Prints out a tensor, in order to get just the actual value:\n",
    "\n",
    "print(c[1][1].item())"
   ]
  },
  {
   "cell_type": "markdown",
   "id": "ac95ad3a",
   "metadata": {},
   "source": [
    "# Simple datasets and Dataloaders"
   ]
  },
  {
   "cell_type": "markdown",
   "id": "316a6263",
   "metadata": {},
   "source": [
    "With almost any form of data worth feeding a neural network, preprocessing is essential. PyTorch handles this with an object it calls the \"Dataset\". Later in this tutorial, we will see how to build our own dataset. For now, we'll use one of their provided datasets so we can examine the objects torch provides.\n",
    "\n",
    "Tensors go into datasets via the \"Dataset\" object (take care of the preprocessing) and then we feed this dataset into another object called the \"Dataloader\". So we have to import two essential things to make this work."
   ]
  },
  {
   "cell_type": "code",
   "execution_count": 6,
   "id": "97352d25",
   "metadata": {},
   "outputs": [
    {
     "name": "stdout",
     "output_type": "stream",
     "text": [
      "Enabling notebook extension jupyter-js-widgets/extension...\r\n",
      "      - Validating: \u001b[32mOK\u001b[0m\r\n"
     ]
    }
   ],
   "source": [
    "from torch.utils.data import Dataset\n",
    "from torchvision import datasets\n",
    "from torch.utils.data import DataLoader \n",
    "from torchvision.transforms import ToTensor\n",
    "import numpy as np \n",
    "\n",
    "import tqdm\n",
    "from tqdm.notebook import trange\n",
    "!jupyter nbextension enable --py widgetsnbextension\n",
    "\n",
    "from PIL import Image #To see images externally\n",
    "import matplotlib.pyplot as plt #To see images in notebook\n",
    "%matplotlib inline  "
   ]
  },
  {
   "cell_type": "code",
   "execution_count": 7,
   "id": "63800f5c",
   "metadata": {},
   "outputs": [],
   "source": [
    "# Load the fashion MNIST dataset\n",
    "# The root argument is to let the function know where we want to store the data\n",
    "\n",
    "train_data = datasets.FashionMNIST(\n",
    "    root = \"data\",\n",
    "    train = True,\n",
    "    download = True,\n",
    ")"
   ]
  },
  {
   "cell_type": "code",
   "execution_count": 8,
   "id": "739129e3",
   "metadata": {},
   "outputs": [
    {
     "data": {
      "text/plain": [
       "(<PIL.Image.Image image mode=L size=28x28 at 0x7FB0FB175B20>, 9)"
      ]
     },
     "execution_count": 8,
     "metadata": {},
     "output_type": "execute_result"
    }
   ],
   "source": [
    "# This will say which image and which label\n",
    "\n",
    "train_data[0]"
   ]
  },
  {
   "cell_type": "code",
   "execution_count": 9,
   "id": "c2ac7195",
   "metadata": {},
   "outputs": [
    {
     "data": {
      "image/png": "[encoded data removed]",
      "text/plain": [
       "<Figure size 432x288 with 1 Axes>"
      ]
     },
     "metadata": {
      "needs_background": "light"
     },
     "output_type": "display_data"
    }
   ],
   "source": [
    "# To see how the image looks like\n",
    "\n",
    "img = train_data[0][0]\n",
    "plt.imshow(img, cmap='gray')\n",
    "plt.show()"
   ]
  },
  {
   "cell_type": "markdown",
   "id": "d94bb45e",
   "metadata": {},
   "source": [
    "Training data in its raw form is an image object (not so useful because we can't feed it in a NN) and this is why we transform it to a Tensor:"
   ]
  },
  {
   "cell_type": "code",
   "execution_count": 10,
   "id": "6250a209",
   "metadata": {},
   "outputs": [
    {
     "data": {
      "image/png": "[encoded data removed]",
      "text/plain": [
       "<Figure size 432x288 with 1 Axes>"
      ]
     },
     "metadata": {
      "needs_background": "light"
     },
     "output_type": "display_data"
    }
   ],
   "source": [
    "trans = ToTensor()\n",
    "img = trans(train_data[0][0])\n",
    "plt.imshow(img.squeeze(), cmap='gray') # In this case we have to use squeeze because tensor is (1x28x28) (removes 1)\n",
    "plt.show()"
   ]
  },
  {
   "cell_type": "markdown",
   "id": "1863a855",
   "metadata": {},
   "source": [
    "Luckily we can do this from the beginning when loading the data:"
   ]
  },
  {
   "cell_type": "code",
   "execution_count": 25,
   "id": "a0c6dcdf",
   "metadata": {},
   "outputs": [
    {
     "name": "stdout",
     "output_type": "stream",
     "text": [
      "training data length: 60000\n",
      "test data length: 60000\n"
     ]
    }
   ],
   "source": [
    "train_data = datasets.FashionMNIST( \n",
    "    root = \"data\", \n",
    "    train = True, \n",
    "    download = True, \n",
    "    transform = ToTensor() \n",
    ") \n",
    "test_data = datasets.FashionMNIST( \n",
    "    root = \"data\", \n",
    "    train = False, \n",
    "    download = True, \n",
    "    transform = ToTensor() \n",
    ") \n",
    "\n",
    "print(\"training data length:\", len(train_data)) \n",
    "print(\"test data length:\", len(train_data)) "
   ]
  },
  {
   "cell_type": "code",
   "execution_count": 26,
   "id": "e67e3174",
   "metadata": {},
   "outputs": [
    {
     "data": {
      "text/plain": [
       "torch.Size([1, 28, 28])"
      ]
     },
     "execution_count": 26,
     "metadata": {},
     "output_type": "execute_result"
    }
   ],
   "source": [
    "img = train_data[0][0]\n",
    "img.shape"
   ]
  },
  {
   "cell_type": "code",
   "execution_count": 27,
   "id": "35bb6fec",
   "metadata": {},
   "outputs": [
    {
     "data": {
      "image/png": "[encoded data removed]",
      "text/plain": [
       "<Figure size 432x288 with 1 Axes>"
      ]
     },
     "metadata": {
      "needs_background": "light"
     },
     "output_type": "display_data"
    }
   ],
   "source": [
    "rand = np.random.randint(len(train_data)) \n",
    "plt.imshow(train_data[rand][0].squeeze(), cmap='gray') \n",
    "plt.show()"
   ]
  },
  {
   "cell_type": "markdown",
   "id": "e88aeca4",
   "metadata": {},
   "source": [
    "We also want to feed in the images in batches, and that is where the dataloader comes in. The dataloader is made to be iterated, so we have to build a for loop."
   ]
  },
  {
   "cell_type": "code",
   "execution_count": 28,
   "id": "11987eba",
   "metadata": {},
   "outputs": [],
   "source": [
    "train_loader = DataLoader(train_data, batch_size = 16, shuffle=True) \n",
    "test_loader = DataLoader(test_data, batch_size = len(train_data), shuffle=True) "
   ]
  },
  {
   "cell_type": "code",
   "execution_count": 29,
   "id": "880edbc0",
   "metadata": {},
   "outputs": [
    {
     "name": "stdout",
     "output_type": "stream",
     "text": [
      "Image shape is  torch.Size([16, 1, 28, 28])\n",
      "Labels shape is  torch.Size([16])\n"
     ]
    }
   ],
   "source": [
    "for x, label in train_loader: \n",
    "    print(\"Image shape is \",x.shape) \n",
    "    print(\"Labels shape is \",label.shape) \n",
    "    break "
   ]
  },
  {
   "cell_type": "markdown",
   "id": "e644a053",
   "metadata": {},
   "source": [
    "Another problem is that we can't feed an image to a NN (because it is 28x28 tensor) so we have to make a 1D tensor, so don't forget this! The above tells us that we have to resize the images once more, to flatten them into single-dimensional tensors."
   ]
  },
  {
   "cell_type": "code",
   "execution_count": 30,
   "id": "a16031e1",
   "metadata": {},
   "outputs": [
    {
     "name": "stdout",
     "output_type": "stream",
     "text": [
      "Image shape is  torch.Size([16, 784])\n",
      "Labels shape is  torch.Size([16])\n"
     ]
    }
   ],
   "source": [
    "for x, label in train_loader:\n",
    "    x = x.reshape(-1,28*28)\n",
    "    print(\"Image shape is \",x.shape)\n",
    "    print(\"Labels shape is \",label.shape)\n",
    "    break"
   ]
  },
  {
   "cell_type": "markdown",
   "id": "f0f4217c",
   "metadata": {},
   "source": [
    "# Simple Model Creation"
   ]
  },
  {
   "cell_type": "code",
   "execution_count": 43,
   "id": "3c33216a",
   "metadata": {},
   "outputs": [],
   "source": [
    "# Two Ways of doing this, both of them do the exact same thing\n",
    "# Only a syntax difference, so your choice\n",
    "\n",
    "# We can make NNs look like regular python classes\n",
    "\n",
    "### FIRST OPTION #######\n",
    "\n",
    "class BasicNeuralNet1(nn.Module):\n",
    "    def __init__(self):\n",
    "        super(BasicNeuralNet1, self).__init__()\n",
    "        self.layer1 = nn.Linear(784, 256)\n",
    "        self.layer2 = nn.Linear(256, 10)\n",
    "\n",
    "    def forward(self, x):\n",
    "        x = x.view(-1, 784) # depends on whether you cleaned x before or not\n",
    "        x = torch.sigmoid(self.layer1(x)) # Activation function\n",
    "        x = self.layer2(x)\n",
    "        return F.log_softmax(x, 0)\n",
    "    \n",
    "    \n",
    "### SECOND OPTION #######\n",
    "### THIS COULD BE HANDY FOR AN AUTOENCODER #####\n",
    "\n",
    "class BasicNeuralNet2(nn.Module):\n",
    "    def __init__(self):\n",
    "        super(BasicNeuralNet2, self).__init__()\n",
    "        self.layer1 = nn.Sequential(\n",
    "            nn.Linear(784, 256),\n",
    "            nn.Sigmoid(),\n",
    "        )\n",
    "\n",
    "        self.layer2 = nn.Sequential(\n",
    "            nn.Linear(256, 10),\n",
    "            nn.LogSoftmax(),\n",
    "        )\n",
    "\n",
    "    def forward(self, x):\n",
    "        x = x.view(-1, 784)\n",
    "        x = self.layer1(x)\n",
    "        return self.layer2(x)"
   ]
  },
  {
   "cell_type": "markdown",
   "id": "ffc16a9a",
   "metadata": {},
   "source": [
    "# Train that Model! (The two key pieces)"
   ]
  },
  {
   "cell_type": "markdown",
   "id": "b85759da",
   "metadata": {},
   "source": [
    "The two fundamental things here are the loss function and the optimizer (how it should improve). PyTorch has an extensive library with many different loss functions and optimizers.\n",
    "\n",
    "It's traditional to have a big list of hyperparameters"
   ]
  },
  {
   "cell_type": "code",
   "execution_count": 44,
   "id": "3684ebc8",
   "metadata": {},
   "outputs": [],
   "source": [
    "model = BasicNeuralNet1()\n",
    "learning_rate = 0.05\n",
    "epochs = 10\n",
    "\n",
    "MSELoss = torch.nn.MSELoss()\n",
    "CELoss = torch.nn.CrossEntropyLoss()\n",
    "optimizer = torch.optim.Adam(model.parameters(), lr=learning_rate)"
   ]
  },
  {
   "cell_type": "markdown",
   "id": "13e269ec",
   "metadata": {},
   "source": [
    "It's also good to define a test/accuracy function, to keep tabs on how the model is doing"
   ]
  },
  {
   "cell_type": "code",
   "execution_count": 45,
   "id": "c9f97ab2",
   "metadata": {},
   "outputs": [],
   "source": [
    "def get_accuracy(output, targets): \n",
    "    \"\"\"\n",
    "    calculates accuracy from model output and targets \n",
    "    \n",
    "    \"\"\" \n",
    "    output = output.detach() # Detach the predictions from the models to get rid of the gradients\n",
    "    predicted = output.argmax(-1) \n",
    "    correct = (predicted == targets).sum().item() # Sum up the number of correct values\n",
    "    accuracy = correct / output.size(0) * 100 \n",
    "    return accuracy "
   ]
  },
  {
   "cell_type": "markdown",
   "id": "abc1a48d",
   "metadata": {},
   "source": [
    "Use the trange-function from tqdm.notebook, because it is a very handy function for visualizing progress. It acts just like the normal python \"range\", except it displays a progress bar."
   ]
  },
  {
   "cell_type": "code",
   "execution_count": 54,
   "id": "adea92db",
   "metadata": {},
   "outputs": [
    {
     "name": "stdout",
     "output_type": "stream",
     "text": [
      "Epoch 0. Train Acc 93.75% | Test Acc 75.56\n",
      "Epoch 1. Train Acc 68.75% | Test Acc 77.66999999999999\n",
      "Epoch 2. Train Acc 68.75% | Test Acc 77.64\n",
      "Epoch 3. Train Acc 62.5% | Test Acc 76.06\n",
      "Epoch 4. Train Acc 68.75% | Test Acc 77.98\n",
      "Epoch 5. Train Acc 87.5% | Test Acc 78.36999999999999\n",
      "Epoch 6. Train Acc 87.5% | Test Acc 79.94\n",
      "Epoch 7. Train Acc 87.5% | Test Acc 78.91\n",
      "Epoch 8. Train Acc 81.25% | Test Acc 76.83\n",
      "Epoch 9. Train Acc 75.0% | Test Acc 78.39\n"
     ]
    }
   ],
   "source": [
    "for epoch in range(epochs): \n",
    "    \n",
    "    # Very important to put this in the beginning, \n",
    "    # because we want the gradients to be available\n",
    "    model.train()\n",
    "    \n",
    "    for data, labels in train_loader: \n",
    "        # Clear out the gradients before doing the forward and backward pass \n",
    "        # because we have to zero out the gradients from previous training\n",
    "        optimizer.zero_grad() \n",
    "        \n",
    "        # run data through model \n",
    "        preds = model(data) \n",
    "        \n",
    "        # compare predictions to actual labels \n",
    "        loss = CELoss(preds,labels) \n",
    "        \n",
    "        # After we have found the predictions and found the loss\n",
    "        # we have to backpropogate the loss \n",
    "        loss.backward() \n",
    "        \n",
    "        # Adjust the model parameters via the optimizer\n",
    "        # To update the parameters\n",
    "        optimizer.step() \n",
    "        \n",
    "    # After each epoch, it's nice to see how our model is doing \n",
    "    model.eval() # disables gradient computations during testing + speeds things up\n",
    "    test_data, test_labels = next(iter(test_loader)) \n",
    "    test_data = test_data.reshape(-1,784) \n",
    "    test_preds = model(test_data) \n",
    "    test_acc = get_accuracy(test_preds,test_labels) \n",
    "    train_acc = get_accuracy(preds, labels) \n",
    "    print(f\"Epoch {epoch}. Train Acc {train_acc}% | Test Acc {test_acc}\") "
   ]
  }
 ],
 "metadata": {
  "kernelspec": {
   "display_name": "Python 3 (ipykernel)",
   "language": "python",
   "name": "python3"
  },
  "language_info": {
   "codemirror_mode": {
    "name": "ipython",
    "version": 3
   },
   "file_extension": ".py",
   "mimetype": "text/x-python",
   "name": "python",
   "nbconvert_exporter": "python",
   "pygments_lexer": "ipython3",
   "version": "3.8.12"
  }
 },
 "nbformat": 4,
 "nbformat_minor": 5
}
